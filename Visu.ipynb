{
 "cells": [
  {
   "cell_type": "code",
   "execution_count": 2,
   "metadata": {},
   "outputs": [],
   "source": [
    "'''\n",
    "Para usar o jupyternotebook voce deve instalar as seguintes bibliotecas\n",
    "\n",
    "!pip install pandas\n",
    "!pip install plotly\n",
    "!pip install ipywidgets\n",
    "!pip install matplotlib\n",
    "!pip install seaborn\n",
    "!pip install openpyxl\n",
    "\n",
    "No seu terminal, instale e atualize os seguites pacotes para nao termos problemas com a nbformat\n",
    "\n",
    "pip install ipykernel\n",
    "pip install nbformat --upgrade\n",
    "pip3 install ipykernel\n",
    "pip3 install --upgrade nbformat\n",
    "\n",
    "(so consegui resolvendo assim)\n",
    "\n",
    "Apos isso reinicialize seu kernel para as alteracoes funcionarem\n",
    "\n",
    "'''\n",
    "\n",
    "\n",
    "import pandas as pd\n",
    "import plotly.express as px #plotar histogramas e boxplots\n",
    "import ipywidgets as widgets    #display interativo\n",
    "from IPython.display import display #display interativo\n",
    "import matplotlib.pyplot as plt #manipular e plotas dataframe\n",
    "import seaborn as sns #histograma\n",
    "import plotly.graph_objects as go\n",
    "import plotly.io as pio #salvar como html\n"
   ]
  },
  {
   "cell_type": "code",
   "execution_count": 21,
   "metadata": {},
   "outputs": [
    {
     "data": {
      "application/vnd.jupyter.widget-view+json": {
       "model_id": "373b8b944bf447f6a3a610fb03c4f7a2",
       "version_major": 2,
       "version_minor": 0
      },
      "text/plain": [
       "Dropdown(description='Coluna:', options=('UF_COLETA', 'Regiao'), value='UF_COLETA')"
      ]
     },
     "metadata": {},
     "output_type": "display_data"
    },
    {
     "data": {
      "application/vnd.jupyter.widget-view+json": {
       "model_id": "41ff69b45b1b4747b10459cf1286d03e",
       "version_major": 2,
       "version_minor": 0
      },
      "text/plain": [
       "Button(description='Gerar Histograma', style=ButtonStyle())"
      ]
     },
     "metadata": {},
     "output_type": "display_data"
    }
   ],
   "source": [
    "#variaveis nominais\n",
    "\n",
    "def load_data(file_path, sheet_name):\n",
    "    df = pd.read_excel(file_path, sheet_name=sheet_name)\n",
    "    df = df.fillna('Sem_Info')\n",
    "    #comentar a variavel debaixo (df) para entrar com o seu database\n",
    "    df=df[['UF_COLETA','Regiao']]\n",
    "    return df\n",
    "\n",
    "def plot_histogram(df, column):\n",
    "    bins = sorted(df[column].unique())\n",
    "    fig = px.histogram(df, x=column, nbins=30, title=f'Histograma da coluna {column}') #acho q se tirar os valores e colocar as legendas ja de uma vez, posso usar só essa linha e ignorar as demais\n",
    "    colors = px.colors.qualitative.Plotly\n",
    "    fig.update_traces(marker_color=colors)\n",
    "    pio.write_html(fig, f'histograma_{column}.html')\n",
    "    fig.show()\n",
    "\n",
    "def main():\n",
    "    file_path = '/home/lucasf/Desktop/Visualizacaodedados/Casoxcontrole_onda-GWAS_Fenotipos_e_covariaveis_revisado_CONGELADO.xlsx'\n",
    "    sheet_name = 'Respostas_ao_formulario_CONGELA'\n",
    "    df = load_data(file_path, sheet_name)\n",
    "    dropdown = widgets.Dropdown(options=df.columns,description='Coluna:',disabled=False,)\n",
    "    display(dropdown)\n",
    "    button = widgets.Button(description=\"Gerar Histograma\")\n",
    "\n",
    "    def on_button_clicked(b):\n",
    "        column = dropdown.value\n",
    "        plot_histogram(df, column)\n",
    "    button.on_click(on_button_clicked)\n",
    "    display(button)\n",
    "\n",
    "if __name__ == \"__main__\":\n",
    "    main()"
   ]
  },
  {
   "cell_type": "code",
   "execution_count": 22,
   "metadata": {},
   "outputs": [
    {
     "data": {
      "application/vnd.jupyter.widget-view+json": {
       "model_id": "d52bbf341f7a462c9dbad3a84f889209",
       "version_major": 2,
       "version_minor": 0
      },
      "text/plain": [
       "Dropdown(description='Coluna:', options=('Codigo_classes_de_coleta', 'Classificacao_Covid', 'Vacina_contra_Cov…"
      ]
     },
     "metadata": {},
     "output_type": "display_data"
    },
    {
     "data": {
      "application/vnd.jupyter.widget-view+json": {
       "model_id": "1942cf6f907746cb945e4f8b72e77469",
       "version_major": 2,
       "version_minor": 0
      },
      "text/plain": [
       "Button(description='Gerar Histograma', style=ButtonStyle())"
      ]
     },
     "metadata": {},
     "output_type": "display_data"
    }
   ],
   "source": [
    "#variaveis numéricas\n",
    "\n",
    "def load_data(file_path, sheet_name):\n",
    "    df = pd.read_excel(file_path, sheet_name=sheet_name)\n",
    "    df = df.fillna(-1)\n",
    "    #comentar a variavel debaixo (df) para entrar com o seu database\n",
    "    df=df[['Codigo_classes_de_coleta', 'Classificacao_Covid','Vacina_contra_Covid_antes_da_doenca',\n",
    "       'Onda_1_ate_nov2020_Onda_2_entre_nov_2020_e_dez2021',\n",
    "       'GENERO', 'IDADE_anos', 'SE_ESTA_GESTANTE', 'ESCOLARIDADE', 'TABAGISMO',\n",
    "       'TIPO_SANGUINEO', 'FATOR_Rh', 'N_I_Para_Comorbidades',\n",
    "       'Sem_comorbidades', 'Cardiopatias_Hipertensao', 'Diabetes_Obesidade',\n",
    "       'Doenca_autoimune', 'Pneumopatias', 'Outras_comorbidades',\n",
    "       'MEDICACAO_CRONICA', 'SE_SIM_QUAL_MEDICACAO', 'Hospitalizacao', 'UTI',\n",
    "       'SE_HOUVE_SUPORTE_VENTILATORIO', 'HOUVE_TRATAMENTO_MEDICAMENTOSO',\n",
    "       'RESULTADO_RT_PCR', 'CRITERIO_DE_diagnostico', 'EVOLUCAO_DESFECHO',\n",
    "       'Retirar_por_parentesco_NATORA']]\n",
    "    return df\n",
    "\n",
    "def plot_histogram(df, column):\n",
    "    bins = sorted(df[column].unique())\n",
    "    fig = px.histogram(df, x=column, title=f'Histograma da coluna {column}', histfunc='count',\n",
    "                   labels={'count': 'Porcentagem'}, category_orders={'x': bins},\n",
    "                   barmode='overlay', opacity=0.75)\n",
    "    colors = px.colors.qualitative.Plotly\n",
    "    fig.update_traces(marker_color=colors)\n",
    "    fig.update_xaxes(tickvals=[int(val) for val in bins], ticktext=[str(int(val)) for val in bins])\n",
    "    pio.write_html(fig, f'histograma_{column}.html')\n",
    "    fig.show()\n",
    "\n",
    "def main():\n",
    "    file_path = '/home/lucasf/Desktop/Visualizacaodedados/Casoxcontrole_onda-GWAS_Fenotipos_e_covariaveis_revisado_CONGELADO.xlsx'\n",
    "    sheet_name = 'Respostas_ao_formulario_CONGELA'\n",
    "    df = load_data(file_path, sheet_name)\n",
    "    dropdown = widgets.Dropdown(options=df.columns,description='Coluna:',disabled=False,)\n",
    "    display(dropdown)\n",
    "    button = widgets.Button(description=\"Gerar Histograma\")\n",
    "\n",
    "    def on_button_clicked(b):\n",
    "        column = dropdown.value\n",
    "        plot_histogram(df, column)\n",
    "    button.on_click(on_button_clicked)\n",
    "    display(button)\n",
    "\n",
    "if __name__ == \"__main__\":\n",
    "    main()"
   ]
  },
  {
   "cell_type": "code",
   "execution_count": 26,
   "metadata": {},
   "outputs": [
    {
     "data": {
      "image/png": "[encoded data removed]",
      "text/plain": [
       "<Figure size 1500x600 with 1 Axes>"
      ]
     },
     "metadata": {},
     "output_type": "display_data"
    }
   ],
   "source": [
    "\n",
    "file_path = '/home/lucasf/Desktop/Visualizacaodedados/Casoxcontrole_onda-GWAS_Fenotipos_e_covariaveis_revisado_CONGELADO.xlsx'\n",
    "sheet_name = 'Respostas_ao_formulario_CONGELA'\n",
    "df = load_data(file_path, sheet_name)\n",
    "#df=df.sort_values(by='IDADE_anos') #falar que isso nao deu diferença q por padrao ele ordena\n",
    "\n",
    "plt.figure(figsize=(15, 6))\n",
    "sns.lineplot(data=df, x=df['IDADE_anos'], y='IDADE_anos', hue='GENERO', marker='o')\n",
    "plt.title('Idade ao Longo do Tempo Diferenciada por Gênero')\n",
    "plt.xlabel('Índice')\n",
    "plt.ylabel('Idade (anos)')\n",
    "plt.legend(title='Gênero')\n",
    "plt.show()\n"
   ]
  },
  {
   "cell_type": "code",
   "execution_count": 38,
   "metadata": {},
   "outputs": [
    {
     "data": {
      "application/vnd.plotly.v1+json": {
       "config": {
        "plotlyServerURL": "https://plot.ly"
       },
       "data": [
        {
         "alignmentgroup": "True",
         "hovertemplate": "Gênero=%{x}<br>Idade em anos=%{y}<extra></extra>",
         "legendgroup": "",
         "marker": {
          "color": "#636efa"
         },
         "name": "",
         "notched": false,
         "offsetgroup": "",
         "orientation": "v",
         "showlegend": false,
         "type": "box",
         "x": [
          1,
          1,
          2,
          1,
          1,
          1,
          1,
          1,
          1,
          1,
          1,
          1,
          2,
          1,
          1,
          2,
          2,
          1,
          2,
          2,
          1,
          1,
          1,
          1,
          1,
          2,
          2,
          1,
          1,
          1,
          1,
          1,
          1,
          1,
          1,
          2,
          2,
          1,
          2,
          1,
          2,
          1,
          1,
          1,
          1,
          1,
          1,
          2,
          2,
          1,
          2,
          2,
          1,
          1,
          2,
          2,
          2,
          1,
          2,
          2,
          2,
          1,
          2,
          1,
          2,
          1,
          2,
          2,
          1,
          1,
          2,
          2,
          1,
          2,
          1,
          2,
          1,
          2,
          1,
          1,
          2,
          2,
          2,
          2,
          1,
          1,
          2,
          1,
          1,
          1,
          2,
          1,
          2,
          2,
          2,
          2,
          1,
          1,
          1,
          1,
          1,
          2,
          1,
          2,
          2,
          1,
          1,
          1,
          1,
          1,
          2,
          2,
          1,
          2,
          1,
          1,
          1,
          2,
          2,
          2,
          2,
          2,
          1,
          2,
          2,
          2,
          2,
          1,
          1,
          2,
          2,
          1,
          1,
          2,
          1,
          1,
          2,
          1,
          2,
          1,
          2,
          2,
          1,
          2,
          1,
          1,
          2,
          2,
          2,
          1,
          1,
          1,
          1,
          2,
          2,
          2,
          2,
          2,
          1,
          1,
          1,
          2,
          2,
          1,
          2,
          1,
          1,
          1,
          2,
          2,
          1,
          2,
          1,
          1,
          1,
          1,
          1,
          2,
          1,
          2,
          1,
          2,
          2,
          2,
          1,
          2,
          1,
          2,
          2,
          2,
          2,
          2,
          2,
          1,
          1,
          2,
          2,
          1,
          1,
          2,
          2,
          1,
          1,
          2,
          1,
          2,
          1,
          2,
          1,
          1,
          2,
          1,
          1,
          1,
          1,
          2,
          2,
          2,
          1,
          1,
          1,
          1,
          1,
          1,
          2,
          1,
          2,
          1,
          1,
          1,
          2,
          1,
          2,
          2,
          1,
          1,
          1,
          1,
          1,
          2,
          2,
          1,
          1,
          1,
          2,
          1,
          1,
          1,
          1,
          1,
          2,
          2,
          1,
          2,
          2,
          1,
          1,
          2,
          1,
          2,
          1,
          2,
          1,
          2,
          2,
          2,
          2,
          2,
          1,
          1,
          1,
          1,
          1,
          1,
          1,
          2,
          1,
          1,
          1,
          1,
          1,
          1,
          1,
          2,
          1,
          2,
          2,
          1,
          2,
          2,
          1,
          2,
          2,
          2,
          1,
          1,
          2,
          1,
          2,
          2,
          2,
          2,
          2,
          2,
          1,
          2,
          2,
          2,
          2,
          2,
          2,
          2,
          2,
          2,
          2,
          2,
          2,
          2,
          1,
          1,
          2,
          2,
          2,
          2,
          2,
          2,
          2,
          2,
          2,
          2,
          2,
          2,
          2,
          2,
          1,
          2,
          1,
          1,
          2,
          2,
          2,
          1,
          2,
          2,
          2,
          1,
          2,
          2,
          2,
          2,
          2,
          2,
          2,
          2,
          1,
          2,
          1,
          2,
          1,
          1,
          2,
          2,
          2,
          2,
          2,
          1,
          2,
          2,
          2,
          2,
          2,
          1,
          2,
          2,
          1,
          2,
          2,
          2,
          2,
          1,
          1,
          2,
          2,
          2,
          1,
          1,
          2,
          2,
          1,
          2,
          2,
          2,
          1,
          1,
          2,
          1,
          1,
          1,
          2,
          1,
          2,
          1,
          1,
          2,
          2,
          1,
          2,
          1,
          2,
          1,
          1,
          1,
          1,
          1,
          2,
          2,
          1,
          1,
          1,
          1,
          1,
          2,
          2,
          2,
          1,
          2,
          1,
          2,
          1,
          2,
          2,
          2,
          1,
          2,
          1,
          1,
          1,
          2,
          1,
          2,
          1,
          1,
          1,
          2,
          1,
          1,
          1,
          1,
          1,
          1,
          2,
          1,
          1,
          2,
          1,
          1,
          1,
          2,
          2,
          1,
          1,
          2,
          1,
          2,
          2,
          1,
          1,
          2,
          2,
          2,
          1,
          2,
          1,
          1,
          1,
          1,
          2,
          2,
          2,
          2,
          2,
          2,
          1,
          2,
          2,
          2,
          2,
          2,
          2,
          2,
          1,
          2,
          2,
          2,
          2,
          1,
          1,
          2,
          1,
          1,
          2,
          2,
          2,
          2,
          2,
          1,
          2,
          2,
          2,
          1,
          1,
          2,
          2,
          1,
          2,
          2,
          2,
          2,
          2,
          2,
          2,
          1,
          1,
          2,
          2,
          1,
          2,
          1,
          2,
          1,
          2,
          1,
          2,
          1,
          2,
          1,
          1,
          1,
          1,
          2,
          2,
          1,
          1,
          1,
          1,
          1,
          2,
          1,
          2,
          1,
          2,
          2,
          1,
          1,
          1,
          1,
          1,
          2,
          2,
          2,
          2,
          2,
          2,
          1,
          1,
          2,
          1,
          1,
          2,
          2,
          1,
          2,
          1,
          1,
          1,
          1,
          1,
          2,
          1,
          1,
          2,
          2,
          2,
          2,
          2,
          1,
          1,
          2,
          1,
          2,
          2,
          2,
          1,
          1,
          1,
          2,
          1,
          1,
          2,
          2,
          1,
          1,
          1,
          1,
          1,
          1,
          1,
          1,
          1,
          2,
          2,
          1,
          1,
          2,
          2,
          2,
          2,
          2,
          2,
          2,
          1,
          2,
          2,
          1,
          1,
          1,
          1,
          2,
          1,
          2,
          2,
          2,
          1,
          1,
          1,
          1,
          2,
          1,
          1,
          1,
          2,
          2,
          1,
          2,
          1,
          2,
          1,
          1,
          1,
          2,
          2,
          1,
          2,
          1,
          2,
          1,
          1,
          2,
          2,
          2,
          2,
          2,
          1,
          1,
          1,
          1,
          1,
          1,
          2,
          2,
          1,
          1,
          2,
          2,
          2,
          2,
          2,
          2,
          1,
          2,
          1,
          2,
          1,
          2,
          2,
          1,
          2,
          2,
          1,
          2,
          2,
          1,
          1,
          2,
          2,
          1,
          2,
          2,
          2,
          2,
          2,
          1,
          1,
          2,
          2,
          2,
          1,
          2,
          2,
          2,
          2,
          2,
          2,
          1,
          2,
          2,
          2,
          1,
          2,
          1,
          1,
          2,
          1,
          1,
          1,
          1,
          1,
          2,
          2,
          2,
          1,
          2,
          1,
          2,
          2,
          2,
          2,
          2,
          1,
          2,
          2,
          1,
          1,
          2,
          2,
          2,
          2,
          2,
          2,
          1,
          2,
          1,
          1,
          2,
          2,
          2,
          1,
          1,
          1,
          2,
          2,
          2,
          2,
          2,
          2,
          2,
          2,
          2,
          2,
          1,
          2,
          1,
          2,
          1,
          1,
          1,
          1,
          2,
          1,
          1,
          2,
          1,
          2,
          1,
          1,
          1,
          2,
          2,
          1,
          2,
          1,
          1,
          2,
          1,
          1,
          1,
          1,
          1,
          1,
          1,
          1,
          1,
          2,
          2,
          1,
          1,
          1,
          1,
          1,
          2,
          1,
          2,
          1,
          2,
          2,
          1,
          1,
          1,
          1,
          1,
          1,
          1,
          1,
          1,
          1,
          1,
          2,
          2,
          1,
          2,
          2,
          1,
          2,
          1,
          1,
          1,
          2,
          1,
          2,
          1,
          2,
          2,
          2,
          1,
          1,
          2,
          1,
          2,
          2,
          1,
          1,
          1,
          1,
          1,
          1,
          2,
          1,
          1,
          2,
          2,
          1,
          1,
          1,
          1,
          2,
          2,
          2,
          1,
          2,
          1,
          2,
          2,
          1,
          1,
          2,
          1,
          1,
          2,
          2,
          2,
          2,
          2,
          1,
          2,
          1,
          2,
          2,
          1,
          1,
          1,
          2,
          2,
          2,
          2,
          1,
          2,
          2,
          1,
          2,
          1,
          1,
          2,
          2,
          1,
          2,
          2,
          2,
          2,
          2,
          2,
          2,
          1,
          2,
          2,
          1,
          1,
          2,
          2,
          2,
          1,
          1,
          2,
          2,
          2,
          1,
          2,
          1,
          2,
          2,
          2,
          1,
          2,
          2,
          1,
          2,
          1,
          1,
          2,
          1,
          2,
          1,
          1,
          2,
          2,
          1,
          2,
          2,
          2,
          2,
          1,
          2,
          2,
          1,
          1,
          2,
          1,
          1,
          1,
          1,
          2,
          2,
          1,
          1,
          2,
          1,
          1,
          1,
          1,
          1,
          1,
          1,
          1,
          1,
          1,
          1,
          1,
          1,
          2,
          1,
          1,
          1,
          1,
          2,
          2,
          1,
          2,
          2,
          2,
          1,
          1,
          2,
          2,
          2,
          1,
          1,
          2,
          2,
          1,
          1,
          1,
          1,
          1,
          1,
          2,
          2,
          1,
          1,
          1,
          2,
          1,
          1,
          1,
          1,
          1,
          2,
          1,
          1,
          1,
          1,
          2,
          2,
          2,
          2,
          2,
          2,
          2,
          1,
          1,
          1,
          2,
          2,
          2,
          2,
          2,
          1,
          2,
          1,
          2,
          1,
          1,
          1,
          1,
          2,
          2
         ],
         "x0": " ",
         "xaxis": "x",
         "y": [
          31,
          32,
          50,
          44,
          36,
          52,
          43,
          44,
          39,
          57,
          38,
          54,
          37,
          75,
          75,
          75,
          67,
          47,
          27,
          23,
          25,
          22,
          66,
          33,
          53,
          37,
          77,
          35,
          19,
          64,
          28,
          26,
          49,
          45,
          25,
          36,
          31,
          59,
          44,
          40,
          58,
          33,
          79,
          52,
          69,
          61,
          72,
          68,
          78,
          76,
          66,
          68,
          54,
          45,
          52.9445585215606,
          71,
          53.9164955509925,
          60.9226557152635,
          85.0047912388775,
          41.4401095140315,
          26,
          32,
          75.0034223134839,
          44.5639972621492,
          54.5051334702259,
          55.6522929500342,
          58,
          58.3956194387406,
          50.6365503080082,
          23,
          82.2313483915127,
          58,
          68.4188911704312,
          87.895961670089,
          51.5455167693361,
          38.9760438056126,
          66.8637919233402,
          20,
          27.4058863791923,
          81.2046543463381,
          66.3271731690623,
          59.460643394935,
          61.7084188911704,
          81.7604380561259,
          75.9972621492129,
          72.7720739219713,
          76.7830253251198,
          68.8624229979466,
          83,
          59.4633812457221,
          54.2559890485969,
          70.362765229295,
          56.0958247775496,
          79.0061601642711,
          68.1916495550992,
          54.590006844627,
          58.3846680355921,
          51,
          71.5290896646133,
          71.668720054757,
          43,
          54.5927446954141,
          60.8514715947981,
          69.6317590691307,
          74.0123203285421,
          78,
          78.8692676249144,
          49.1827515400411,
          73,
          41.4346338124572,
          33.3169062286105,
          79.7426420260096,
          64.7830253251198,
          87.0718685831622,
          62.135523613963,
          64.4407939767283,
          80,
          20.5913757700205,
          48,
          62.2258726899384,
          72.7693360711841,
          33.6454483230664,
          79.9479808350445,
          77.5879534565366,
          60.1889117043121,
          84.3668720054757,
          54.776180698152,
          69.8973305954825,
          42.299794661191,
          48.7200547570158,
          42.0260095824778,
          74.1574264202601,
          35.7399041752224,
          63.9808350444901,
          9.39630390143737,
          47.0581793292266,
          54.8336755646817,
          70.258726899384,
          82.1656399726215,
          61.7221081451061,
          76.9445585215606,
          25.0951403148528,
          55.4579055441478,
          58.5817932922656,
          32.1697467488022,
          42.4722792607803,
          89.4592744695414,
          49.9630390143737,
          67,
          26,
          69,
          79,
          69,
          44,
          61,
          25.8617385352498,
          63.9890485968515,
          32,
          59.170431211499,
          64.1587953456537,
          63.2361396303901,
          79.1156741957563,
          68.0930869267625,
          61.3004791238877,
          74.0862422997947,
          58.1820670773443,
          72.7337440109514,
          66.5270362765229,
          60.6543463381246,
          61.8781656399726,
          37.6892539356605,
          26.943189596167,
          38.2094455852156,
          34.3436002737851,
          64.4517453798768,
          53.9822039698836,
          36.5913757700205,
          34.0780287474333,
          83,
          53.2265571526352,
          48.6269678302533,
          54.4613278576318,
          41.2128678986995,
          31.2443531827515,
          59.6194387405886,
          68.5366187542779,
          46.0424366872006,
          22.6913073237509,
          24.498288843258,
          27.2772073921971,
          22.0506502395619,
          38.3572895277207,
          39.7234770704997,
          18.5872689938398,
          32.9555099247091,
          28.7529089664613,
          15.4113620807666,
          17.0321697467488,
          23.3593429158111,
          43.1156741957563,
          42.154688569473,
          37.0869267624914,
          45.9931553730322,
          36.8678986995209,
          36.9472963723477,
          43.2470910335387,
          25.8069815195072,
          83.0143737166324,
          67.9123887748118,
          32.2354551676934,
          67.2854209445585,
          68.517453798768,
          87.0691307323751,
          67.3292265571526,
          80.9308692676249,
          29.4757015742642,
          38.7843942505133,
          35.2169746748802,
          42.9979466119097,
          46.7816563997262,
          46.5023956194387,
          93.5468856947296,
          37.596167008898,
          92.2026009582478,
          53.4839151266256,
          79.3237508555784,
          82.9103353867214,
          86.3682409308693,
          35.605749486653,
          38.0068446269678,
          70.6611909650924,
          66.7843942505133,
          32.0492813141684,
          43.4661190965092,
          69.5222450376455,
          67.5071868583162,
          44.4955509924709,
          78.3545516769336,
          80.4544832306639,
          53.492128678987,
          37.1882272416153,
          51.5920602327173,
          48.1423682409309,
          25.7221081451061,
          28.6105407255305,
          44.662559890486,
          39.6331279945243,
          76.7063655030801,
          64.7611225188227,
          23.9507186858316,
          72.8542094455852,
          23.8302532511978,
          68.0328542094456,
          81.0349075975359,
          83.3483915126626,
          45.284052019165,
          65.6235455167693,
          69.368925393566,
          56.3860369609856,
          46.9295003422314,
          39.4031485284052,
          61.0294318959617,
          36.4900752908966,
          19.4962354551677,
          54.5735797399042,
          49.4346338124572,
          34.6584531143053,
          53.0239561943874,
          56.4955509924709,
          48.4325804243669,
          64.2819986310746,
          56.2299794661191,
          52.0657084188912,
          52.5776865160849,
          35.0910335386721,
          36.4845995893224,
          73.9438740588638,
          57.9986310746064,
          38.4777549623546,
          49.0759753593429,
          63.378507871321,
          55.5126625598905,
          56.9719370294319,
          33.990417522245,
          30.009582477755,
          42.4585900068446,
          51,
          36.6105407255305,
          56.7118412046544,
          30,
          50.8035592060233,
          37,
          47,
          43.0937713894593,
          46.2395619438741,
          42.3737166324435,
          56,
          48,
          39.296372347707,
          61,
          35.4360027378508,
          48.6872005475702,
          51.7289527720739,
          44.8678986995209,
          35,
          49,
          45,
          33.4401095140315,
          71,
          53.5934291581109,
          25.5085557837098,
          37,
          39.6030116358658,
          28.2436687200548,
          38.6392881587953,
          33.6728268309377,
          29,
          38,
          23,
          35,
          35.0006844626968,
          50.3134839151266,
          44.1642710472279,
          33.2210814510609,
          20.5749486652977,
          45.5633127994524,
          47.6112251882272,
          38.3080082135524,
          39.7426420260096,
          36.4791238877481,
          55,
          50.2861054072553,
          49.9630390143737,
          36.6297056810404,
          31,
          31,
          29,
          43,
          62,
          28,
          52,
          42,
          53,
          36,
          32,
          25,
          29,
          36,
          39,
          50,
          31,
          31,
          29,
          47,
          36,
          49,
          46,
          55,
          47,
          28,
          29,
          29,
          52,
          43,
          56,
          53,
          34,
          34,
          41,
          60,
          45,
          64,
          53,
          57,
          76,
          33,
          55,
          53,
          53,
          31,
          43,
          44,
          46,
          61,
          63,
          93,
          44,
          31,
          61,
          54,
          31,
          47,
          59,
          49,
          44,
          26,
          68,
          50,
          37,
          66,
          61,
          58,
          62,
          20,
          53,
          35,
          30,
          48,
          49,
          75,
          78,
          60,
          25,
          51,
          53,
          55,
          72,
          69,
          44,
          74,
          68,
          65,
          83,
          80,
          40,
          27,
          38,
          29,
          68,
          42,
          32,
          58,
          69,
          59,
          71,
          86,
          67,
          59,
          70,
          45,
          90,
          84,
          65,
          45,
          65,
          73,
          64,
          76,
          69,
          55,
          46,
          48,
          69,
          83,
          64,
          79,
          66,
          14,
          30,
          80,
          62,
          62,
          72,
          39,
          56,
          64,
          67,
          62,
          47,
          17,
          73,
          52,
          53,
          53,
          80,
          61,
          71,
          48,
          82,
          79,
          86,
          31,
          59,
          19,
          50,
          36,
          31,
          52,
          82,
          71,
          54,
          72,
          31,
          70,
          65,
          51,
          77,
          71,
          33,
          70,
          79,
          66,
          53,
          63,
          58,
          45,
          71,
          72,
          79,
          77,
          63,
          56,
          52,
          70,
          35,
          56,
          52,
          82,
          62,
          80,
          60,
          73,
          76,
          33,
          81,
          63,
          73,
          70,
          30,
          32,
          63,
          66,
          91,
          56,
          36,
          63,
          65,
          73,
          66,
          70,
          51,
          66,
          73,
          56,
          40,
          80,
          28,
          29,
          38,
          48,
          39,
          42,
          25,
          29,
          38,
          32,
          81,
          27,
          32,
          53,
          29,
          44,
          39,
          32,
          55,
          47,
          43,
          60,
          26,
          28,
          25,
          42,
          43,
          59,
          56,
          51,
          83,
          38,
          68,
          35,
          64,
          74,
          57,
          57,
          63,
          66,
          86,
          68,
          56,
          51,
          73,
          54,
          51,
          60,
          38,
          40,
          71,
          34,
          40,
          49,
          17,
          36,
          41,
          38,
          29,
          33,
          44,
          32,
          54,
          35,
          34,
          27,
          54,
          44,
          46,
          28,
          33,
          39,
          46,
          37,
          33,
          33,
          30,
          45,
          43,
          24,
          46,
          40,
          45,
          42,
          34,
          26,
          33,
          31,
          26,
          39,
          31,
          43,
          43,
          29,
          40,
          25,
          24,
          38,
          62,
          66,
          51,
          36,
          42,
          40,
          38,
          24,
          27,
          42,
          54,
          67,
          48,
          45,
          48,
          36,
          41,
          54,
          49,
          55,
          59,
          34,
          83,
          57,
          40,
          54,
          42,
          38,
          43,
          38,
          43,
          31,
          34,
          58,
          34,
          36,
          42,
          23,
          25,
          52,
          37,
          46,
          45,
          41,
          74,
          58,
          45,
          60,
          37,
          23,
          55,
          57,
          27,
          58,
          47,
          48,
          29,
          59,
          24,
          30,
          51,
          45,
          49,
          55,
          55,
          44,
          58,
          42,
          47,
          42,
          27,
          47,
          39,
          39,
          40,
          37,
          49,
          85,
          34,
          46,
          58,
          35,
          46,
          47,
          36,
          28,
          57,
          48,
          75,
          40,
          54,
          36,
          56,
          34,
          56,
          37,
          44,
          67,
          55,
          50,
          35,
          43,
          43,
          23,
          29,
          21,
          56,
          31,
          39,
          54,
          29,
          44,
          24,
          46,
          39,
          36,
          46,
          54,
          41,
          79,
          42,
          23,
          26,
          30,
          26,
          55,
          45,
          46,
          32,
          54,
          48,
          54,
          64,
          37,
          67,
          88,
          71,
          56,
          68,
          66,
          47,
          67,
          35,
          78,
          49,
          42,
          77,
          59,
          82,
          40,
          39,
          50,
          55,
          60,
          44,
          46,
          77,
          38,
          72,
          49,
          54,
          21,
          48,
          56,
          80,
          60,
          55,
          35,
          60,
          73,
          53,
          65,
          53,
          45,
          39,
          29,
          37,
          35,
          40,
          19,
          77,
          76,
          23,
          50,
          57,
          46,
          63,
          77,
          51,
          21,
          66,
          46,
          72,
          32,
          58,
          42,
          65,
          71,
          73,
          36,
          66,
          74,
          41,
          73,
          74,
          74,
          42,
          60,
          30,
          56,
          66,
          59,
          39,
          57,
          47,
          30,
          49,
          35,
          39,
          33,
          81,
          60,
          74,
          76,
          31,
          50,
          35,
          71,
          45,
          78,
          64,
          53,
          26,
          40,
          72,
          90,
          55,
          21,
          27,
          30,
          39,
          28,
          40,
          24,
          25,
          27,
          37,
          32,
          39,
          16,
          43,
          39,
          40,
          28,
          37,
          38,
          32,
          88,
          37,
          34,
          17,
          37,
          35,
          27,
          25,
          60,
          38,
          61,
          85,
          30,
          28,
          25,
          25,
          32,
          44,
          41,
          56,
          51,
          20,
          26,
          27,
          31,
          32,
          27,
          22,
          46,
          59,
          54,
          19,
          43,
          21,
          53,
          72,
          53,
          27,
          49,
          23,
          30,
          40,
          45,
          70,
          39,
          28,
          56,
          55,
          25,
          45,
          59,
          67,
          43,
          34,
          46,
          36,
          37,
          57,
          47,
          31,
          39,
          48,
          69,
          43,
          34,
          42,
          42,
          69,
          28,
          66,
          24,
          54,
          30,
          77,
          58,
          53,
          53,
          65,
          57,
          47,
          86,
          81,
          33,
          29,
          73,
          55,
          53,
          47,
          39,
          83,
          32,
          60,
          31,
          49,
          40,
          46,
          56,
          43,
          44,
          58,
          50,
          55,
          65,
          41,
          58,
          64,
          40,
          43,
          36,
          58,
          27,
          76,
          56,
          53,
          53,
          41,
          61,
          26,
          26,
          18,
          37,
          30,
          33,
          25,
          40,
          48,
          38,
          65,
          40,
          56,
          36,
          21,
          60.993839835729,
          29.0020533880903,
          58.0807665982204,
          46,
          40,
          23,
          69,
          19,
          86,
          25,
          38
         ],
         "y0": " ",
         "yaxis": "y"
        }
       ],
       "layout": {
        "boxmode": "group",
        "legend": {
         "tracegroupgap": 0
        },
        "template": {
         "data": {
          "bar": [
           {
            "error_x": {
             "color": "#2a3f5f"
            },
            "error_y": {
             "color": "#2a3f5f"
            },
            "marker": {
             "line": {
              "color": "#E5ECF6",
              "width": 0.5
             },
             "pattern": {
              "fillmode": "overlay",
              "size": 10,
              "solidity": 0.2
             }
            },
            "type": "bar"
           }
          ],
          "barpolar": [
           {
            "marker": {
             "line": {
              "color": "#E5ECF6",
              "width": 0.5
             },
             "pattern": {
              "fillmode": "overlay",
              "size": 10,
              "solidity": 0.2
             }
            },
            "type": "barpolar"
           }
          ],
          "carpet": [
           {
            "aaxis": {
             "endlinecolor": "#2a3f5f",
             "gridcolor": "white",
             "linecolor": "white",
             "minorgridcolor": "white",
             "startlinecolor": "#2a3f5f"
            },
            "baxis": {
             "endlinecolor": "#2a3f5f",
             "gridcolor": "white",
             "linecolor": "white",
             "minorgridcolor": "white",
             "startlinecolor": "#2a3f5f"
            },
            "type": "carpet"
           }
          ],
          "choropleth": [
           {
            "colorbar": {
             "outlinewidth": 0,
             "ticks": ""
            },
            "type": "choropleth"
           }
          ],
          "contour": [
           {
            "colorbar": {
             "outlinewidth": 0,
             "ticks": ""
            },
            "colorscale": [
             [
              0,
              "#0d0887"
             ],
             [
              0.1111111111111111,
              "#46039f"
             ],
             [
              0.2222222222222222,
              "#7201a8"
             ],
             [
              0.3333333333333333,
              "#9c179e"
             ],
             [
              0.4444444444444444,
              "#bd3786"
             ],
             [
              0.5555555555555556,
              "#d8576b"
             ],
             [
              0.6666666666666666,
              "#ed7953"
             ],
             [
              0.7777777777777778,
              "#fb9f3a"
             ],
             [
              0.8888888888888888,
              "#fdca26"
             ],
             [
              1,
              "#f0f921"
             ]
            ],
            "type": "contour"
           }
          ],
          "contourcarpet": [
           {
            "colorbar": {
             "outlinewidth": 0,
             "ticks": ""
            },
            "type": "contourcarpet"
           }
          ],
          "heatmap": [
           {
            "colorbar": {
             "outlinewidth": 0,
             "ticks": ""
            },
            "colorscale": [
             [
              0,
              "#0d0887"
             ],
             [
              0.1111111111111111,
              "#46039f"
             ],
             [
              0.2222222222222222,
              "#7201a8"
             ],
             [
              0.3333333333333333,
              "#9c179e"
             ],
             [
              0.4444444444444444,
              "#bd3786"
             ],
             [
              0.5555555555555556,
              "#d8576b"
             ],
             [
              0.6666666666666666,
              "#ed7953"
             ],
             [
              0.7777777777777778,
              "#fb9f3a"
             ],
             [
              0.8888888888888888,
              "#fdca26"
             ],
             [
              1,
              "#f0f921"
             ]
            ],
            "type": "heatmap"
           }
          ],
          "heatmapgl": [
           {
            "colorbar": {
             "outlinewidth": 0,
             "ticks": ""
            },
            "colorscale": [
             [
              0,
              "#0d0887"
             ],
             [
              0.1111111111111111,
              "#46039f"
             ],
             [
              0.2222222222222222,
              "#7201a8"
             ],
             [
              0.3333333333333333,
              "#9c179e"
             ],
             [
              0.4444444444444444,
              "#bd3786"
             ],
             [
              0.5555555555555556,
              "#d8576b"
             ],
             [
              0.6666666666666666,
              "#ed7953"
             ],
             [
              0.7777777777777778,
              "#fb9f3a"
             ],
             [
              0.8888888888888888,
              "#fdca26"
             ],
             [
              1,
              "#f0f921"
             ]
            ],
            "type": "heatmapgl"
           }
          ],
          "histogram": [
           {
            "marker": {
             "pattern": {
              "fillmode": "overlay",
              "size": 10,
              "solidity": 0.2
             }
            },
            "type": "histogram"
           }
          ],
          "histogram2d": [
           {
            "colorbar": {
             "outlinewidth": 0,
             "ticks": ""
            },
            "colorscale": [
             [
              0,
              "#0d0887"
             ],
             [
              0.1111111111111111,
              "#46039f"
             ],
             [
              0.2222222222222222,
              "#7201a8"
             ],
             [
              0.3333333333333333,
              "#9c179e"
             ],
             [
              0.4444444444444444,
              "#bd3786"
             ],
             [
              0.5555555555555556,
              "#d8576b"
             ],
             [
              0.6666666666666666,
              "#ed7953"
             ],
             [
              0.7777777777777778,
              "#fb9f3a"
             ],
             [
              0.8888888888888888,
              "#fdca26"
             ],
             [
              1,
              "#f0f921"
             ]
            ],
            "type": "histogram2d"
           }
          ],
          "histogram2dcontour": [
           {
            "colorbar": {
             "outlinewidth": 0,
             "ticks": ""
            },
            "colorscale": [
             [
              0,
              "#0d0887"
             ],
             [
              0.1111111111111111,
              "#46039f"
             ],
             [
              0.2222222222222222,
              "#7201a8"
             ],
             [
              0.3333333333333333,
              "#9c179e"
             ],
             [
              0.4444444444444444,
              "#bd3786"
             ],
             [
              0.5555555555555556,
              "#d8576b"
             ],
             [
              0.6666666666666666,
              "#ed7953"
             ],
             [
              0.7777777777777778,
              "#fb9f3a"
             ],
             [
              0.8888888888888888,
              "#fdca26"
             ],
             [
              1,
              "#f0f921"
             ]
            ],
            "type": "histogram2dcontour"
           }
          ],
          "mesh3d": [
           {
            "colorbar": {
             "outlinewidth": 0,
             "ticks": ""
            },
            "type": "mesh3d"
           }
          ],
          "parcoords": [
           {
            "line": {
             "colorbar": {
              "outlinewidth": 0,
              "ticks": ""
             }
            },
            "type": "parcoords"
           }
          ],
          "pie": [
           {
            "automargin": true,
            "type": "pie"
           }
          ],
          "scatter": [
           {
            "fillpattern": {
             "fillmode": "overlay",
             "size": 10,
             "solidity": 0.2
            },
            "type": "scatter"
           }
          ],
          "scatter3d": [
           {
            "line": {
             "colorbar": {
              "outlinewidth": 0,
              "ticks": ""
             }
            },
            "marker": {
             "colorbar": {
              "outlinewidth": 0,
              "ticks": ""
             }
            },
            "type": "scatter3d"
           }
          ],
          "scattercarpet": [
           {
            "marker": {
             "colorbar": {
              "outlinewidth": 0,
              "ticks": ""
             }
            },
            "type": "scattercarpet"
           }
          ],
          "scattergeo": [
           {
            "marker": {
             "colorbar": {
              "outlinewidth": 0,
              "ticks": ""
             }
            },
            "type": "scattergeo"
           }
          ],
          "scattergl": [
           {
            "marker": {
             "colorbar": {
              "outlinewidth": 0,
              "ticks": ""
             }
            },
            "type": "scattergl"
           }
          ],
          "scattermapbox": [
           {
            "marker": {
             "colorbar": {
              "outlinewidth": 0,
              "ticks": ""
             }
            },
            "type": "scattermapbox"
           }
          ],
          "scatterpolar": [
           {
            "marker": {
             "colorbar": {
              "outlinewidth": 0,
              "ticks": ""
             }
            },
            "type": "scatterpolar"
           }
          ],
          "scatterpolargl": [
           {
            "marker": {
             "colorbar": {
              "outlinewidth": 0,
              "ticks": ""
             }
            },
            "type": "scatterpolargl"
           }
          ],
          "scatterternary": [
           {
            "marker": {
             "colorbar": {
              "outlinewidth": 0,
              "ticks": ""
             }
            },
            "type": "scatterternary"
           }
          ],
          "surface": [
           {
            "colorbar": {
             "outlinewidth": 0,
             "ticks": ""
            },
            "colorscale": [
             [
              0,
              "#0d0887"
             ],
             [
              0.1111111111111111,
              "#46039f"
             ],
             [
              0.2222222222222222,
              "#7201a8"
             ],
             [
              0.3333333333333333,
              "#9c179e"
             ],
             [
              0.4444444444444444,
              "#bd3786"
             ],
             [
              0.5555555555555556,
              "#d8576b"
             ],
             [
              0.6666666666666666,
              "#ed7953"
             ],
             [
              0.7777777777777778,
              "#fb9f3a"
             ],
             [
              0.8888888888888888,
              "#fdca26"
             ],
             [
              1,
              "#f0f921"
             ]
            ],
            "type": "surface"
           }
          ],
          "table": [
           {
            "cells": {
             "fill": {
              "color": "#EBF0F8"
             },
             "line": {
              "color": "white"
             }
            },
            "header": {
             "fill": {
              "color": "#C8D4E3"
             },
             "line": {
              "color": "white"
             }
            },
            "type": "table"
           }
          ]
         },
         "layout": {
          "annotationdefaults": {
           "arrowcolor": "#2a3f5f",
           "arrowhead": 0,
           "arrowwidth": 1
          },
          "autotypenumbers": "strict",
          "coloraxis": {
           "colorbar": {
            "outlinewidth": 0,
            "ticks": ""
           }
          },
          "colorscale": {
           "diverging": [
            [
             0,
             "#8e0152"
            ],
            [
             0.1,
             "#c51b7d"
            ],
            [
             0.2,
             "#de77ae"
            ],
            [
             0.3,
             "#f1b6da"
            ],
            [
             0.4,
             "#fde0ef"
            ],
            [
             0.5,
             "#f7f7f7"
            ],
            [
             0.6,
             "#e6f5d0"
            ],
            [
             0.7,
             "#b8e186"
            ],
            [
             0.8,
             "#7fbc41"
            ],
            [
             0.9,
             "#4d9221"
            ],
            [
             1,
             "#276419"
            ]
           ],
           "sequential": [
            [
             0,
             "#0d0887"
            ],
            [
             0.1111111111111111,
             "#46039f"
            ],
            [
             0.2222222222222222,
             "#7201a8"
            ],
            [
             0.3333333333333333,
             "#9c179e"
            ],
            [
             0.4444444444444444,
             "#bd3786"
            ],
            [
             0.5555555555555556,
             "#d8576b"
            ],
            [
             0.6666666666666666,
             "#ed7953"
            ],
            [
             0.7777777777777778,
             "#fb9f3a"
            ],
            [
             0.8888888888888888,
             "#fdca26"
            ],
            [
             1,
             "#f0f921"
            ]
           ],
           "sequentialminus": [
            [
             0,
             "#0d0887"
            ],
            [
             0.1111111111111111,
             "#46039f"
            ],
            [
             0.2222222222222222,
             "#7201a8"
            ],
            [
             0.3333333333333333,
             "#9c179e"
            ],
            [
             0.4444444444444444,
             "#bd3786"
            ],
            [
             0.5555555555555556,
             "#d8576b"
            ],
            [
             0.6666666666666666,
             "#ed7953"
            ],
            [
             0.7777777777777778,
             "#fb9f3a"
            ],
            [
             0.8888888888888888,
             "#fdca26"
            ],
            [
             1,
             "#f0f921"
            ]
           ]
          },
          "colorway": [
           "#636efa",
           "#EF553B",
           "#00cc96",
           "#ab63fa",
           "#FFA15A",
           "#19d3f3",
           "#FF6692",
           "#B6E880",
           "#FF97FF",
           "#FECB52"
          ],
          "font": {
           "color": "#2a3f5f"
          },
          "geo": {
           "bgcolor": "white",
           "lakecolor": "white",
           "landcolor": "#E5ECF6",
           "showlakes": true,
           "showland": true,
           "subunitcolor": "white"
          },
          "hoverlabel": {
           "align": "left"
          },
          "hovermode": "closest",
          "mapbox": {
           "style": "light"
          },
          "paper_bgcolor": "white",
          "plot_bgcolor": "#E5ECF6",
          "polar": {
           "angularaxis": {
            "gridcolor": "white",
            "linecolor": "white",
            "ticks": ""
           },
           "bgcolor": "#E5ECF6",
           "radialaxis": {
            "gridcolor": "white",
            "linecolor": "white",
            "ticks": ""
           }
          },
          "scene": {
           "xaxis": {
            "backgroundcolor": "#E5ECF6",
            "gridcolor": "white",
            "gridwidth": 2,
            "linecolor": "white",
            "showbackground": true,
            "ticks": "",
            "zerolinecolor": "white"
           },
           "yaxis": {
            "backgroundcolor": "#E5ECF6",
            "gridcolor": "white",
            "gridwidth": 2,
            "linecolor": "white",
            "showbackground": true,
            "ticks": "",
            "zerolinecolor": "white"
           },
           "zaxis": {
            "backgroundcolor": "#E5ECF6",
            "gridcolor": "white",
            "gridwidth": 2,
            "linecolor": "white",
            "showbackground": true,
            "ticks": "",
            "zerolinecolor": "white"
           }
          },
          "shapedefaults": {
           "line": {
            "color": "#2a3f5f"
           }
          },
          "ternary": {
           "aaxis": {
            "gridcolor": "white",
            "linecolor": "white",
            "ticks": ""
           },
           "baxis": {
            "gridcolor": "white",
            "linecolor": "white",
            "ticks": ""
           },
           "bgcolor": "#E5ECF6",
           "caxis": {
            "gridcolor": "white",
            "linecolor": "white",
            "ticks": ""
           }
          },
          "title": {
           "x": 0.05
          },
          "xaxis": {
           "automargin": true,
           "gridcolor": "white",
           "linecolor": "white",
           "ticks": "",
           "title": {
            "standoff": 15
           },
           "zerolinecolor": "white",
           "zerolinewidth": 2
          },
          "yaxis": {
           "automargin": true,
           "gridcolor": "white",
           "linecolor": "white",
           "ticks": "",
           "title": {
            "standoff": 15
           },
           "zerolinecolor": "white",
           "zerolinewidth": 2
          }
         }
        },
        "title": {
         "text": "Boxplot de Idade entre Gêneros"
        },
        "xaxis": {
         "anchor": "y",
         "domain": [
          0,
          1
         ],
         "title": {
          "text": "Gênero"
         }
        },
        "yaxis": {
         "anchor": "x",
         "domain": [
          0,
          1
         ],
         "title": {
          "text": "Idade em anos"
         }
        }
       }
      }
     },
     "metadata": {},
     "output_type": "display_data"
    }
   ],
   "source": [
    "#boxplot entre generos\n",
    "\n",
    "def load_data(file_path, sheet_name):\n",
    "    return pd.read_excel(file_path, sheet_name=sheet_name)\n",
    "\n",
    "file_path = '/home/lucasf/Desktop/Visualizacaodedados/Casoxcontrole_onda-GWAS_Fenotipos_e_covariaveis_revisado_Ricardo_CONGELADO.xlsx'\n",
    "sheet_name = 'Respostas_ao_formulario_CONGELA'\n",
    "df = load_data(file_path, sheet_name)\n",
    "\n",
    "fig = px.box(df, x='GENERO', y='IDADE_anos', title='Boxplot de Idade entre Gêneros', \n",
    "             labels={'GENERO': 'Gênero', 'IDADE_anos': 'Idade em anos'})\n",
    "fig.show()\n",
    "fig.write_html(\"/home/lucasf/Desktop/Visualizacaodedados/grafico.html\")\n"
   ]
  },
  {
   "cell_type": "code",
   "execution_count": 28,
   "metadata": {},
   "outputs": [],
   "source": [
    "#separando as remessas\n",
    "\n",
    "def load_data(file_path, sheet_name):\n",
    "    return pd.read_excel(file_path, sheet_name=sheet_name)\n",
    "\n",
    "file_path = '/home/lucasf/Desktop/Visualizacaodedados/Casoxcontrole_onda-GWAS_Fenotipos_e_covariaveis_revisado_CONGELADO.xlsx'\n",
    "sheet_name = 'Respostas_ao_formulario_CONGELA'\n",
    "df = load_data(file_path, sheet_name)\n",
    "\n",
    "remessa1=df.loc[df['Onda_1_ate_nov2020_Onda_2_entre_nov_2020_e_dez2021']==1]\n",
    "remessa2=df.loc[df['Onda_1_ate_nov2020_Onda_2_entre_nov_2020_e_dez2021']==2]"
   ]
  },
  {
   "cell_type": "code",
   "execution_count": 29,
   "metadata": {},
   "outputs": [
    {
     "data": {
      "application/vnd.plotly.v1+json": {
       "config": {
        "plotlyServerURL": "https://plot.ly"
       },
       "data": [
        {
         "alignmentgroup": "True",
         "hovertemplate": "Remessa=%{x}<br>Quantidade de Indivíduos=%{y}<extra></extra>",
         "legendgroup": "Remessa 1",
         "marker": {
          "color": "rgb(102,194,165)",
          "pattern": {
           "shape": ""
          }
         },
         "name": "Remessa 1",
         "offsetgroup": "Remessa 1",
         "orientation": "v",
         "showlegend": true,
         "textposition": "auto",
         "type": "bar",
         "x": [
          "Remessa 1"
         ],
         "xaxis": "x",
         "y": [
          637
         ],
         "yaxis": "y"
        },
        {
         "alignmentgroup": "True",
         "hovertemplate": "Remessa=%{x}<br>Quantidade de Indivíduos=%{y}<extra></extra>",
         "legendgroup": "Remessa 2",
         "marker": {
          "color": "rgb(252,141,98)",
          "pattern": {
           "shape": ""
          }
         },
         "name": "Remessa 2",
         "offsetgroup": "Remessa 2",
         "orientation": "v",
         "showlegend": true,
         "textposition": "auto",
         "type": "bar",
         "x": [
          "Remessa 2"
         ],
         "xaxis": "x",
         "y": [
          407
         ],
         "yaxis": "y"
        }
       ],
       "layout": {
        "barmode": "relative",
        "legend": {
         "title": {
          "text": "Remessa"
         },
         "tracegroupgap": 0
        },
        "template": {
         "data": {
          "bar": [
           {
            "error_x": {
             "color": "#2a3f5f"
            },
            "error_y": {
             "color": "#2a3f5f"
            },
            "marker": {
             "line": {
              "color": "#E5ECF6",
              "width": 0.5
             },
             "pattern": {
              "fillmode": "overlay",
              "size": 10,
              "solidity": 0.2
             }
            },
            "type": "bar"
           }
          ],
          "barpolar": [
           {
            "marker": {
             "line": {
              "color": "#E5ECF6",
              "width": 0.5
             },
             "pattern": {
              "fillmode": "overlay",
              "size": 10,
              "solidity": 0.2
             }
            },
            "type": "barpolar"
           }
          ],
          "carpet": [
           {
            "aaxis": {
             "endlinecolor": "#2a3f5f",
             "gridcolor": "white",
             "linecolor": "white",
             "minorgridcolor": "white",
             "startlinecolor": "#2a3f5f"
            },
            "baxis": {
             "endlinecolor": "#2a3f5f",
             "gridcolor": "white",
             "linecolor": "white",
             "minorgridcolor": "white",
             "startlinecolor": "#2a3f5f"
            },
            "type": "carpet"
           }
          ],
          "choropleth": [
           {
            "colorbar": {
             "outlinewidth": 0,
             "ticks": ""
            },
            "type": "choropleth"
           }
          ],
          "contour": [
           {
            "colorbar": {
             "outlinewidth": 0,
             "ticks": ""
            },
            "colorscale": [
             [
              0,
              "#0d0887"
             ],
             [
              0.1111111111111111,
              "#46039f"
             ],
             [
              0.2222222222222222,
              "#7201a8"
             ],
             [
              0.3333333333333333,
              "#9c179e"
             ],
             [
              0.4444444444444444,
              "#bd3786"
             ],
             [
              0.5555555555555556,
              "#d8576b"
             ],
             [
              0.6666666666666666,
              "#ed7953"
             ],
             [
              0.7777777777777778,
              "#fb9f3a"
             ],
             [
              0.8888888888888888,
              "#fdca26"
             ],
             [
              1,
              "#f0f921"
             ]
            ],
            "type": "contour"
           }
          ],
          "contourcarpet": [
           {
            "colorbar": {
             "outlinewidth": 0,
             "ticks": ""
            },
            "type": "contourcarpet"
           }
          ],
          "heatmap": [
           {
            "colorbar": {
             "outlinewidth": 0,
             "ticks": ""
            },
            "colorscale": [
             [
              0,
              "#0d0887"
             ],
             [
              0.1111111111111111,
              "#46039f"
             ],
             [
              0.2222222222222222,
              "#7201a8"
             ],
             [
              0.3333333333333333,
              "#9c179e"
             ],
             [
              0.4444444444444444,
              "#bd3786"
             ],
             [
              0.5555555555555556,
              "#d8576b"
             ],
             [
              0.6666666666666666,
              "#ed7953"
             ],
             [
              0.7777777777777778,
              "#fb9f3a"
             ],
             [
              0.8888888888888888,
              "#fdca26"
             ],
             [
              1,
              "#f0f921"
             ]
            ],
            "type": "heatmap"
           }
          ],
          "heatmapgl": [
           {
            "colorbar": {
             "outlinewidth": 0,
             "ticks": ""
            },
            "colorscale": [
             [
              0,
              "#0d0887"
             ],
             [
              0.1111111111111111,
              "#46039f"
             ],
             [
              0.2222222222222222,
              "#7201a8"
             ],
             [
              0.3333333333333333,
              "#9c179e"
             ],
             [
              0.4444444444444444,
              "#bd3786"
             ],
             [
              0.5555555555555556,
              "#d8576b"
             ],
             [
              0.6666666666666666,
              "#ed7953"
             ],
             [
              0.7777777777777778,
              "#fb9f3a"
             ],
             [
              0.8888888888888888,
              "#fdca26"
             ],
             [
              1,
              "#f0f921"
             ]
            ],
            "type": "heatmapgl"
           }
          ],
          "histogram": [
           {
            "marker": {
             "pattern": {
              "fillmode": "overlay",
              "size": 10,
              "solidity": 0.2
             }
            },
            "type": "histogram"
           }
          ],
          "histogram2d": [
           {
            "colorbar": {
             "outlinewidth": 0,
             "ticks": ""
            },
            "colorscale": [
             [
              0,
              "#0d0887"
             ],
             [
              0.1111111111111111,
              "#46039f"
             ],
             [
              0.2222222222222222,
              "#7201a8"
             ],
             [
              0.3333333333333333,
              "#9c179e"
             ],
             [
              0.4444444444444444,
              "#bd3786"
             ],
             [
              0.5555555555555556,
              "#d8576b"
             ],
             [
              0.6666666666666666,
              "#ed7953"
             ],
             [
              0.7777777777777778,
              "#fb9f3a"
             ],
             [
              0.8888888888888888,
              "#fdca26"
             ],
             [
              1,
              "#f0f921"
             ]
            ],
            "type": "histogram2d"
           }
          ],
          "histogram2dcontour": [
           {
            "colorbar": {
             "outlinewidth": 0,
             "ticks": ""
            },
            "colorscale": [
             [
              0,
              "#0d0887"
             ],
             [
              0.1111111111111111,
              "#46039f"
             ],
             [
              0.2222222222222222,
              "#7201a8"
             ],
             [
              0.3333333333333333,
              "#9c179e"
             ],
             [
              0.4444444444444444,
              "#bd3786"
             ],
             [
              0.5555555555555556,
              "#d8576b"
             ],
             [
              0.6666666666666666,
              "#ed7953"
             ],
             [
              0.7777777777777778,
              "#fb9f3a"
             ],
             [
              0.8888888888888888,
              "#fdca26"
             ],
             [
              1,
              "#f0f921"
             ]
            ],
            "type": "histogram2dcontour"
           }
          ],
          "mesh3d": [
           {
            "colorbar": {
             "outlinewidth": 0,
             "ticks": ""
            },
            "type": "mesh3d"
           }
          ],
          "parcoords": [
           {
            "line": {
             "colorbar": {
              "outlinewidth": 0,
              "ticks": ""
             }
            },
            "type": "parcoords"
           }
          ],
          "pie": [
           {
            "automargin": true,
            "type": "pie"
           }
          ],
          "scatter": [
           {
            "fillpattern": {
             "fillmode": "overlay",
             "size": 10,
             "solidity": 0.2
            },
            "type": "scatter"
           }
          ],
          "scatter3d": [
           {
            "line": {
             "colorbar": {
              "outlinewidth": 0,
              "ticks": ""
             }
            },
            "marker": {
             "colorbar": {
              "outlinewidth": 0,
              "ticks": ""
             }
            },
            "type": "scatter3d"
           }
          ],
          "scattercarpet": [
           {
            "marker": {
             "colorbar": {
              "outlinewidth": 0,
              "ticks": ""
             }
            },
            "type": "scattercarpet"
           }
          ],
          "scattergeo": [
           {
            "marker": {
             "colorbar": {
              "outlinewidth": 0,
              "ticks": ""
             }
            },
            "type": "scattergeo"
           }
          ],
          "scattergl": [
           {
            "marker": {
             "colorbar": {
              "outlinewidth": 0,
              "ticks": ""
             }
            },
            "type": "scattergl"
           }
          ],
          "scattermapbox": [
           {
            "marker": {
             "colorbar": {
              "outlinewidth": 0,
              "ticks": ""
             }
            },
            "type": "scattermapbox"
           }
          ],
          "scatterpolar": [
           {
            "marker": {
             "colorbar": {
              "outlinewidth": 0,
              "ticks": ""
             }
            },
            "type": "scatterpolar"
           }
          ],
          "scatterpolargl": [
           {
            "marker": {
             "colorbar": {
              "outlinewidth": 0,
              "ticks": ""
             }
            },
            "type": "scatterpolargl"
           }
          ],
          "scatterternary": [
           {
            "marker": {
             "colorbar": {
              "outlinewidth": 0,
              "ticks": ""
             }
            },
            "type": "scatterternary"
           }
          ],
          "surface": [
           {
            "colorbar": {
             "outlinewidth": 0,
             "ticks": ""
            },
            "colorscale": [
             [
              0,
              "#0d0887"
             ],
             [
              0.1111111111111111,
              "#46039f"
             ],
             [
              0.2222222222222222,
              "#7201a8"
             ],
             [
              0.3333333333333333,
              "#9c179e"
             ],
             [
              0.4444444444444444,
              "#bd3786"
             ],
             [
              0.5555555555555556,
              "#d8576b"
             ],
             [
              0.6666666666666666,
              "#ed7953"
             ],
             [
              0.7777777777777778,
              "#fb9f3a"
             ],
             [
              0.8888888888888888,
              "#fdca26"
             ],
             [
              1,
              "#f0f921"
             ]
            ],
            "type": "surface"
           }
          ],
          "table": [
           {
            "cells": {
             "fill": {
              "color": "#EBF0F8"
             },
             "line": {
              "color": "white"
             }
            },
            "header": {
             "fill": {
              "color": "#C8D4E3"
             },
             "line": {
              "color": "white"
             }
            },
            "type": "table"
           }
          ]
         },
         "layout": {
          "annotationdefaults": {
           "arrowcolor": "#2a3f5f",
           "arrowhead": 0,
           "arrowwidth": 1
          },
          "autotypenumbers": "strict",
          "coloraxis": {
           "colorbar": {
            "outlinewidth": 0,
            "ticks": ""
           }
          },
          "colorscale": {
           "diverging": [
            [
             0,
             "#8e0152"
            ],
            [
             0.1,
             "#c51b7d"
            ],
            [
             0.2,
             "#de77ae"
            ],
            [
             0.3,
             "#f1b6da"
            ],
            [
             0.4,
             "#fde0ef"
            ],
            [
             0.5,
             "#f7f7f7"
            ],
            [
             0.6,
             "#e6f5d0"
            ],
            [
             0.7,
             "#b8e186"
            ],
            [
             0.8,
             "#7fbc41"
            ],
            [
             0.9,
             "#4d9221"
            ],
            [
             1,
             "#276419"
            ]
           ],
           "sequential": [
            [
             0,
             "#0d0887"
            ],
            [
             0.1111111111111111,
             "#46039f"
            ],
            [
             0.2222222222222222,
             "#7201a8"
            ],
            [
             0.3333333333333333,
             "#9c179e"
            ],
            [
             0.4444444444444444,
             "#bd3786"
            ],
            [
             0.5555555555555556,
             "#d8576b"
            ],
            [
             0.6666666666666666,
             "#ed7953"
            ],
            [
             0.7777777777777778,
             "#fb9f3a"
            ],
            [
             0.8888888888888888,
             "#fdca26"
            ],
            [
             1,
             "#f0f921"
            ]
           ],
           "sequentialminus": [
            [
             0,
             "#0d0887"
            ],
            [
             0.1111111111111111,
             "#46039f"
            ],
            [
             0.2222222222222222,
             "#7201a8"
            ],
            [
             0.3333333333333333,
             "#9c179e"
            ],
            [
             0.4444444444444444,
             "#bd3786"
            ],
            [
             0.5555555555555556,
             "#d8576b"
            ],
            [
             0.6666666666666666,
             "#ed7953"
            ],
            [
             0.7777777777777778,
             "#fb9f3a"
            ],
            [
             0.8888888888888888,
             "#fdca26"
            ],
            [
             1,
             "#f0f921"
            ]
           ]
          },
          "colorway": [
           "#636efa",
           "#EF553B",
           "#00cc96",
           "#ab63fa",
           "#FFA15A",
           "#19d3f3",
           "#FF6692",
           "#B6E880",
           "#FF97FF",
           "#FECB52"
          ],
          "font": {
           "color": "#2a3f5f"
          },
          "geo": {
           "bgcolor": "white",
           "lakecolor": "white",
           "landcolor": "#E5ECF6",
           "showlakes": true,
           "showland": true,
           "subunitcolor": "white"
          },
          "hoverlabel": {
           "align": "left"
          },
          "hovermode": "closest",
          "mapbox": {
           "style": "light"
          },
          "paper_bgcolor": "white",
          "plot_bgcolor": "#E5ECF6",
          "polar": {
           "angularaxis": {
            "gridcolor": "white",
            "linecolor": "white",
            "ticks": ""
           },
           "bgcolor": "#E5ECF6",
           "radialaxis": {
            "gridcolor": "white",
            "linecolor": "white",
            "ticks": ""
           }
          },
          "scene": {
           "xaxis": {
            "backgroundcolor": "#E5ECF6",
            "gridcolor": "white",
            "gridwidth": 2,
            "linecolor": "white",
            "showbackground": true,
            "ticks": "",
            "zerolinecolor": "white"
           },
           "yaxis": {
            "backgroundcolor": "#E5ECF6",
            "gridcolor": "white",
            "gridwidth": 2,
            "linecolor": "white",
            "showbackground": true,
            "ticks": "",
            "zerolinecolor": "white"
           },
           "zaxis": {
            "backgroundcolor": "#E5ECF6",
            "gridcolor": "white",
            "gridwidth": 2,
            "linecolor": "white",
            "showbackground": true,
            "ticks": "",
            "zerolinecolor": "white"
           }
          },
          "shapedefaults": {
           "line": {
            "color": "#2a3f5f"
           }
          },
          "ternary": {
           "aaxis": {
            "gridcolor": "white",
            "linecolor": "white",
            "ticks": ""
           },
           "baxis": {
            "gridcolor": "white",
            "linecolor": "white",
            "ticks": ""
           },
           "bgcolor": "#E5ECF6",
           "caxis": {
            "gridcolor": "white",
            "linecolor": "white",
            "ticks": ""
           }
          },
          "title": {
           "x": 0.05
          },
          "xaxis": {
           "automargin": true,
           "gridcolor": "white",
           "linecolor": "white",
           "ticks": "",
           "title": {
            "standoff": 15
           },
           "zerolinecolor": "white",
           "zerolinewidth": 2
          },
          "yaxis": {
           "automargin": true,
           "gridcolor": "white",
           "linecolor": "white",
           "ticks": "",
           "title": {
            "standoff": 15
           },
           "zerolinecolor": "white",
           "zerolinewidth": 2
          }
         }
        },
        "title": {
         "text": "Quantidade de Indivíduos por Remessa"
        },
        "xaxis": {
         "anchor": "y",
         "categoryarray": [
          "Remessa 1",
          "Remessa 2"
         ],
         "categoryorder": "array",
         "domain": [
          0,
          1
         ],
         "title": {
          "text": "Remessa"
         }
        },
        "yaxis": {
         "anchor": "x",
         "domain": [
          0,
          1
         ],
         "title": {
          "text": "Quantidade de Indivíduos"
         }
        }
       }
      }
     },
     "metadata": {},
     "output_type": "display_data"
    }
   ],
   "source": [
    "#quantidade de individuos por remessa\n",
    "\n",
    "quantidade_individual_remessa1 = len(remessa1)\n",
    "quantidade_individual_remessa2 = len(remessa2)\n",
    "\n",
    "# Criar um DataFrame com os dados\n",
    "data = pd.DataFrame({\n",
    "    'Remessa': ['Remessa 1', 'Remessa 2'],\n",
    "    'Quantidade de Indivíduos': [quantidade_individual_remessa1, quantidade_individual_remessa2]\n",
    "})\n",
    "\n",
    "\n",
    "fig = px.bar(data, \n",
    "             x='Remessa', \n",
    "             y='Quantidade de Indivíduos', \n",
    "             title='Quantidade de Indivíduos por Remessa',\n",
    "             labels={'Remessa': 'Remessa', 'Quantidade de Indivíduos': 'Quantidade de Indivíduos'},\n",
    "             color='Remessa',\n",
    "             color_discrete_sequence=px.colors.qualitative.Set2)\n",
    "\n",
    "fig.write_html(\"/home/lucasf/Desktop/Visualizacaodedados/Ind_Por_remessa.html\")\n",
    "\n",
    "fig.show()\n"
   ]
  },
  {
   "cell_type": "code",
   "execution_count": 25,
   "metadata": {},
   "outputs": [
    {
     "data": {
      "image/png": "[encoded data removed]",
      "text/plain": [
       "<Figure size 1200x600 with 2 Axes>"
      ]
     },
     "metadata": {},
     "output_type": "display_data"
    }
   ],
   "source": [
    "#distribuiçao da idade por remessa\n",
    "\n",
    "fig, axes = plt.subplots(1, 2, figsize=(12, 6))\n",
    "\n",
    "sns.histplot(data=remessa1, x='IDADE_anos', ax=axes[0], kde=True)\n",
    "axes[0].set_title('Remessa 1')\n",
    "axes[0].set_xlabel('Idade (anos)')\n",
    "axes[0].set_ylabel('Contagem')\n",
    "\n",
    "sns.histplot(data=remessa2, x='IDADE_anos', ax=axes[1], kde=True)\n",
    "axes[1].set_title('Remessa 2')\n",
    "axes[1].set_xlabel('Idade (anos)')\n",
    "axes[1].set_ylabel('Contagem')\n",
    "\n",
    "plt.tight_layout()\n",
    "plt.show()\n"
   ]
  },
  {
   "cell_type": "code",
   "execution_count": 26,
   "metadata": {},
   "outputs": [
    {
     "data": {
      "image/png": "[encoded data removed]",
      "text/plain": [
       "<Figure size 1200x1000 with 4 Axes>"
      ]
     },
     "metadata": {},
     "output_type": "display_data"
    }
   ],
   "source": [
    "#distribuiçao da idade por remessa e sexo\n",
    "\n",
    "fig, axes = plt.subplots(2, 2, figsize=(12, 10))\n",
    "\n",
    "for i, remessa in enumerate([1, 2]):\n",
    "    for j, genero in enumerate([1, 2]):\n",
    "        dados_filtrados = df[(df['Onda_1_ate_nov2020_Onda_2_entre_nov_2020_e_dez2021'] == remessa) & (df['GENERO'] == genero)]\n",
    "        sns.histplot(data=dados_filtrados, x='IDADE_anos', ax=axes[i, j], kde=True)\n",
    "        axes[i, j].set_title(f'Remessa {remessa}, Gênero {genero}')\n",
    "        axes[i, j].set_xlabel('Idade (anos)')\n",
    "        axes[i, j].set_ylabel('Contagem')\n",
    "\n",
    "plt.tight_layout()\n",
    "plt.show()\n"
   ]
  },
  {
   "cell_type": "code",
   "execution_count": 33,
   "metadata": {},
   "outputs": [
    {
     "name": "stderr",
     "output_type": "stream",
     "text": [
      "/tmp/ipykernel_95067/2766205266.py:3: SettingWithCopyWarning:\n",
      "\n",
      "\n",
      "A value is trying to be set on a copy of a slice from a DataFrame.\n",
      "Try using .loc[row_indexer,col_indexer] = value instead\n",
      "\n",
      "See the caveats in the documentation: https://pandas.pydata.org/pandas-docs/stable/user_guide/indexing.html#returning-a-view-versus-a-copy\n",
      "\n",
      "/tmp/ipykernel_95067/2766205266.py:4: SettingWithCopyWarning:\n",
      "\n",
      "\n",
      "A value is trying to be set on a copy of a slice from a DataFrame.\n",
      "Try using .loc[row_indexer,col_indexer] = value instead\n",
      "\n",
      "See the caveats in the documentation: https://pandas.pydata.org/pandas-docs/stable/user_guide/indexing.html#returning-a-view-versus-a-copy\n",
      "\n"
     ]
    },
    {
     "data": {
      "application/vnd.plotly.v1+json": {
       "config": {
        "plotlyServerURL": "https://plot.ly"
       },
       "data": [
        {
         "alignmentgroup": "True",
         "bingroup": "x",
         "hovertemplate": "Remessa=Remessa 1<br>Gênero=%{x}<br>count=%{y}<extra></extra>",
         "legendgroup": "Remessa 1",
         "marker": {
          "color": "rgb(102,194,165)",
          "pattern": {
           "shape": ""
          }
         },
         "name": "Remessa 1",
         "offsetgroup": "Remessa 1",
         "orientation": "v",
         "showlegend": true,
         "type": "histogram",
         "x": [
          1,
          1,
          2,
          1,
          1,
          1,
          1,
          1,
          1,
          1,
          1,
          1,
          2,
          1,
          1,
          2,
          2,
          1,
          2,
          2,
          1,
          1,
          1,
          1,
          1,
          2,
          2,
          1,
          1,
          1,
          1,
          1,
          1,
          1,
          1,
          2,
          2,
          1,
          2,
          1,
          2,
          1,
          1,
          1,
          1,
          1,
          1,
          2,
          2,
          1,
          2,
          2,
          1,
          1,
          2,
          2,
          2,
          1,
          2,
          2,
          2,
          1,
          2,
          1,
          2,
          1,
          2,
          2,
          1,
          1,
          2,
          2,
          1,
          2,
          1,
          2,
          1,
          2,
          1,
          1,
          2,
          2,
          2,
          2,
          1,
          1,
          2,
          1,
          1,
          1,
          2,
          1,
          2,
          2,
          2,
          2,
          1,
          1,
          1,
          1,
          1,
          2,
          1,
          2,
          2,
          1,
          1,
          1,
          1,
          1,
          2,
          2,
          1,
          2,
          1,
          1,
          1,
          2,
          2,
          1,
          2,
          1,
          1,
          1,
          1,
          1,
          1,
          2,
          1,
          2,
          2,
          1,
          2,
          2,
          1,
          2,
          2,
          2,
          1,
          2,
          1,
          2,
          2,
          2,
          2,
          2,
          2,
          1,
          2,
          2,
          2,
          2,
          2,
          2,
          2,
          2,
          2,
          2,
          2,
          2,
          2,
          1,
          1,
          2,
          2,
          2,
          2,
          2,
          2,
          2,
          2,
          2,
          2,
          2,
          2,
          2,
          1,
          2,
          1,
          1,
          2,
          2,
          2,
          1,
          2,
          2,
          2,
          1,
          2,
          2,
          2,
          2,
          2,
          2,
          2,
          2,
          1,
          2,
          1,
          2,
          1,
          1,
          2,
          2,
          2,
          2,
          2,
          1,
          2,
          2,
          2,
          2,
          2,
          1,
          2,
          2,
          1,
          2,
          2,
          2,
          2,
          1,
          1,
          2,
          2,
          2,
          1,
          1,
          2,
          2,
          1,
          2,
          2,
          2,
          1,
          1,
          2,
          1,
          1,
          1,
          2,
          1,
          2,
          1,
          1,
          2,
          2,
          1,
          2,
          1,
          2,
          1,
          1,
          1,
          1,
          1,
          2,
          2,
          1,
          1,
          1,
          1,
          1,
          2,
          2,
          2,
          1,
          2,
          1,
          2,
          1,
          2,
          2,
          2,
          1,
          2,
          1,
          1,
          1,
          2,
          1,
          2,
          1,
          1,
          1,
          2,
          1,
          1,
          1,
          1,
          1,
          1,
          2,
          1,
          1,
          2,
          1,
          1,
          1,
          2,
          2,
          1,
          1,
          2,
          1,
          2,
          2,
          1,
          1,
          2,
          2,
          2,
          1,
          2,
          1,
          1,
          1,
          1,
          2,
          2,
          2,
          2,
          2,
          2,
          1,
          2,
          2,
          2,
          2,
          2,
          2,
          1,
          2,
          2,
          2,
          2,
          1,
          2,
          1,
          1,
          2,
          2,
          2,
          2,
          2,
          1,
          2,
          2,
          1,
          2,
          2,
          1,
          2,
          2,
          2,
          2,
          2,
          2,
          2,
          1,
          2,
          1,
          2,
          1,
          2,
          1,
          1,
          2,
          1,
          2,
          1,
          2,
          2,
          1,
          1,
          1,
          1,
          1,
          2,
          2,
          2,
          2,
          2,
          2,
          1,
          1,
          2,
          1,
          1,
          2,
          2,
          1,
          2,
          1,
          1,
          1,
          1,
          2,
          1,
          1,
          2,
          2,
          2,
          2,
          2,
          2,
          2,
          2,
          1,
          1,
          1,
          1,
          1,
          1,
          1,
          1,
          1,
          2,
          2,
          1,
          1,
          2,
          2,
          2,
          2,
          2,
          2,
          2,
          1,
          2,
          2,
          1,
          1,
          1,
          1,
          2,
          1,
          2,
          2,
          2,
          1,
          1,
          1,
          1,
          2,
          1,
          1,
          1,
          2,
          2,
          1,
          2,
          1,
          2,
          1,
          1,
          1,
          2,
          2,
          1,
          2,
          1,
          2,
          1,
          1,
          2,
          2,
          2,
          2,
          2,
          1,
          1,
          1,
          1,
          1,
          1,
          2,
          2,
          1,
          1,
          2,
          2,
          2,
          2,
          2,
          2,
          1,
          2,
          1,
          2,
          1,
          2,
          2,
          1,
          2,
          2,
          1,
          2,
          2,
          1,
          1,
          2,
          2,
          1,
          2,
          2,
          2,
          2,
          2,
          1,
          1,
          2,
          2,
          2,
          1,
          2,
          2,
          2,
          2,
          2,
          2,
          1,
          2,
          2,
          2,
          1,
          2,
          1,
          1,
          2,
          1,
          1,
          1,
          1,
          1,
          2,
          2,
          2,
          1,
          2,
          1,
          2,
          2,
          2,
          2,
          2,
          1,
          2,
          2,
          1,
          1,
          2,
          2,
          2,
          2,
          2,
          2,
          1,
          2,
          1,
          1,
          2,
          2,
          2,
          1,
          2,
          2,
          2,
          2,
          2,
          2,
          2,
          2,
          2,
          1,
          2,
          1,
          2,
          1,
          1,
          1,
          1,
          2,
          1,
          1,
          1,
          1,
          1,
          2,
          1,
          2,
          2,
          2,
          2,
          2,
          2,
          2,
          2,
          1,
          2,
          1,
          1,
          1,
          1,
          2,
          1,
          2,
          1,
          1,
          1,
          1,
          2,
          2,
          1,
          1,
          1,
          2,
          2,
          2,
          2,
          2,
          2,
          2,
          1,
          1,
          2,
          2,
          2,
          2,
          1,
          2,
          1,
          1,
          1,
          1,
          2,
          2
         ],
         "xaxis": "x",
         "yaxis": "y"
        },
        {
         "alignmentgroup": "True",
         "bingroup": "x",
         "hovertemplate": "Remessa=Remessa 2<br>Gênero=%{x}<br>count=%{y}<extra></extra>",
         "legendgroup": "Remessa 2",
         "marker": {
          "color": "rgb(252,141,98)",
          "pattern": {
           "shape": ""
          }
         },
         "name": "Remessa 2",
         "offsetgroup": "Remessa 2",
         "orientation": "v",
         "showlegend": true,
         "type": "histogram",
         "x": [
          2,
          2,
          2,
          1,
          2,
          2,
          2,
          2,
          1,
          1,
          2,
          2,
          1,
          1,
          2,
          1,
          1,
          2,
          1,
          2,
          1,
          2,
          2,
          1,
          2,
          1,
          1,
          2,
          2,
          2,
          1,
          1,
          1,
          1,
          2,
          2,
          2,
          2,
          2,
          1,
          1,
          1,
          2,
          2,
          1,
          2,
          1,
          1,
          1,
          2,
          2,
          1,
          2,
          1,
          1,
          1,
          1,
          1,
          2,
          1,
          2,
          2,
          2,
          1,
          2,
          1,
          2,
          2,
          2,
          2,
          2,
          2,
          1,
          1,
          2,
          2,
          1,
          1,
          2,
          2,
          1,
          1,
          2,
          1,
          2,
          1,
          2,
          1,
          1,
          2,
          1,
          1,
          1,
          1,
          2,
          2,
          2,
          1,
          1,
          1,
          1,
          1,
          1,
          2,
          1,
          2,
          1,
          1,
          1,
          2,
          1,
          2,
          2,
          1,
          1,
          1,
          1,
          1,
          2,
          2,
          1,
          1,
          1,
          2,
          1,
          1,
          1,
          1,
          1,
          2,
          2,
          1,
          2,
          2,
          1,
          1,
          2,
          1,
          2,
          1,
          2,
          1,
          2,
          2,
          2,
          2,
          2,
          1,
          1,
          1,
          1,
          1,
          1,
          1,
          2,
          1,
          1,
          2,
          2,
          1,
          2,
          1,
          1,
          2,
          2,
          1,
          2,
          1,
          2,
          1,
          2,
          1,
          1,
          1,
          1,
          2,
          1,
          1,
          1,
          1,
          2,
          1,
          1,
          2,
          1,
          2,
          1,
          1,
          1,
          2,
          1,
          1,
          1,
          1,
          2,
          1,
          1,
          2,
          1,
          2,
          1,
          1,
          2,
          2,
          1,
          2,
          1,
          1,
          2,
          1,
          1,
          1,
          1,
          1,
          1,
          1,
          1,
          2,
          2,
          1,
          1,
          1,
          2,
          1,
          2,
          1,
          2,
          2,
          1,
          1,
          1,
          1,
          1,
          1,
          1,
          1,
          1,
          1,
          2,
          1,
          2,
          2,
          1,
          2,
          1,
          1,
          1,
          2,
          2,
          1,
          2,
          2,
          2,
          1,
          1,
          2,
          1,
          2,
          1,
          1,
          1,
          1,
          1,
          1,
          2,
          1,
          1,
          2,
          1,
          1,
          1,
          1,
          2,
          2,
          2,
          1,
          2,
          1,
          2,
          1,
          1,
          2,
          1,
          1,
          2,
          2,
          2,
          1,
          2,
          1,
          2,
          1,
          1,
          1,
          2,
          2,
          2,
          1,
          2,
          2,
          1,
          2,
          1,
          1,
          2,
          1,
          2,
          2,
          2,
          2,
          2,
          2,
          2,
          2,
          1,
          1,
          2,
          2,
          2,
          1,
          2,
          2,
          2,
          1,
          2,
          1,
          2,
          2,
          2,
          2,
          2,
          1,
          2,
          1,
          2,
          1,
          1,
          2,
          2,
          2,
          2,
          2,
          1,
          2,
          2,
          1,
          2,
          1,
          1,
          1,
          1,
          2,
          2,
          1,
          2,
          1,
          1,
          1,
          1,
          1,
          1,
          1,
          1,
          1,
          1,
          1,
          2,
          1,
          1,
          1,
          1,
          2,
          2,
          1,
          2,
          2,
          1,
          1,
          2,
          2,
          2,
          1,
          1,
          2,
          1,
          1,
          1,
          1,
          1,
          1,
          2,
          2,
          1,
          1,
          2,
          1,
          1,
          1,
          1,
          1,
          2,
          1,
          1,
          1,
          2,
          1,
          2
         ],
         "xaxis": "x",
         "yaxis": "y"
        }
       ],
       "layout": {
        "barmode": "group",
        "legend": {
         "title": {
          "text": "Remessa"
         },
         "tracegroupgap": 0
        },
        "template": {
         "data": {
          "bar": [
           {
            "error_x": {
             "color": "#2a3f5f"
            },
            "error_y": {
             "color": "#2a3f5f"
            },
            "marker": {
             "line": {
              "color": "#E5ECF6",
              "width": 0.5
             },
             "pattern": {
              "fillmode": "overlay",
              "size": 10,
              "solidity": 0.2
             }
            },
            "type": "bar"
           }
          ],
          "barpolar": [
           {
            "marker": {
             "line": {
              "color": "#E5ECF6",
              "width": 0.5
             },
             "pattern": {
              "fillmode": "overlay",
              "size": 10,
              "solidity": 0.2
             }
            },
            "type": "barpolar"
           }
          ],
          "carpet": [
           {
            "aaxis": {
             "endlinecolor": "#2a3f5f",
             "gridcolor": "white",
             "linecolor": "white",
             "minorgridcolor": "white",
             "startlinecolor": "#2a3f5f"
            },
            "baxis": {
             "endlinecolor": "#2a3f5f",
             "gridcolor": "white",
             "linecolor": "white",
             "minorgridcolor": "white",
             "startlinecolor": "#2a3f5f"
            },
            "type": "carpet"
           }
          ],
          "choropleth": [
           {
            "colorbar": {
             "outlinewidth": 0,
             "ticks": ""
            },
            "type": "choropleth"
           }
          ],
          "contour": [
           {
            "colorbar": {
             "outlinewidth": 0,
             "ticks": ""
            },
            "colorscale": [
             [
              0,
              "#0d0887"
             ],
             [
              0.1111111111111111,
              "#46039f"
             ],
             [
              0.2222222222222222,
              "#7201a8"
             ],
             [
              0.3333333333333333,
              "#9c179e"
             ],
             [
              0.4444444444444444,
              "#bd3786"
             ],
             [
              0.5555555555555556,
              "#d8576b"
             ],
             [
              0.6666666666666666,
              "#ed7953"
             ],
             [
              0.7777777777777778,
              "#fb9f3a"
             ],
             [
              0.8888888888888888,
              "#fdca26"
             ],
             [
              1,
              "#f0f921"
             ]
            ],
            "type": "contour"
           }
          ],
          "contourcarpet": [
           {
            "colorbar": {
             "outlinewidth": 0,
             "ticks": ""
            },
            "type": "contourcarpet"
           }
          ],
          "heatmap": [
           {
            "colorbar": {
             "outlinewidth": 0,
             "ticks": ""
            },
            "colorscale": [
             [
              0,
              "#0d0887"
             ],
             [
              0.1111111111111111,
              "#46039f"
             ],
             [
              0.2222222222222222,
              "#7201a8"
             ],
             [
              0.3333333333333333,
              "#9c179e"
             ],
             [
              0.4444444444444444,
              "#bd3786"
             ],
             [
              0.5555555555555556,
              "#d8576b"
             ],
             [
              0.6666666666666666,
              "#ed7953"
             ],
             [
              0.7777777777777778,
              "#fb9f3a"
             ],
             [
              0.8888888888888888,
              "#fdca26"
             ],
             [
              1,
              "#f0f921"
             ]
            ],
            "type": "heatmap"
           }
          ],
          "heatmapgl": [
           {
            "colorbar": {
             "outlinewidth": 0,
             "ticks": ""
            },
            "colorscale": [
             [
              0,
              "#0d0887"
             ],
             [
              0.1111111111111111,
              "#46039f"
             ],
             [
              0.2222222222222222,
              "#7201a8"
             ],
             [
              0.3333333333333333,
              "#9c179e"
             ],
             [
              0.4444444444444444,
              "#bd3786"
             ],
             [
              0.5555555555555556,
              "#d8576b"
             ],
             [
              0.6666666666666666,
              "#ed7953"
             ],
             [
              0.7777777777777778,
              "#fb9f3a"
             ],
             [
              0.8888888888888888,
              "#fdca26"
             ],
             [
              1,
              "#f0f921"
             ]
            ],
            "type": "heatmapgl"
           }
          ],
          "histogram": [
           {
            "marker": {
             "pattern": {
              "fillmode": "overlay",
              "size": 10,
              "solidity": 0.2
             }
            },
            "type": "histogram"
           }
          ],
          "histogram2d": [
           {
            "colorbar": {
             "outlinewidth": 0,
             "ticks": ""
            },
            "colorscale": [
             [
              0,
              "#0d0887"
             ],
             [
              0.1111111111111111,
              "#46039f"
             ],
             [
              0.2222222222222222,
              "#7201a8"
             ],
             [
              0.3333333333333333,
              "#9c179e"
             ],
             [
              0.4444444444444444,
              "#bd3786"
             ],
             [
              0.5555555555555556,
              "#d8576b"
             ],
             [
              0.6666666666666666,
              "#ed7953"
             ],
             [
              0.7777777777777778,
              "#fb9f3a"
             ],
             [
              0.8888888888888888,
              "#fdca26"
             ],
             [
              1,
              "#f0f921"
             ]
            ],
            "type": "histogram2d"
           }
          ],
          "histogram2dcontour": [
           {
            "colorbar": {
             "outlinewidth": 0,
             "ticks": ""
            },
            "colorscale": [
             [
              0,
              "#0d0887"
             ],
             [
              0.1111111111111111,
              "#46039f"
             ],
             [
              0.2222222222222222,
              "#7201a8"
             ],
             [
              0.3333333333333333,
              "#9c179e"
             ],
             [
              0.4444444444444444,
              "#bd3786"
             ],
             [
              0.5555555555555556,
              "#d8576b"
             ],
             [
              0.6666666666666666,
              "#ed7953"
             ],
             [
              0.7777777777777778,
              "#fb9f3a"
             ],
             [
              0.8888888888888888,
              "#fdca26"
             ],
             [
              1,
              "#f0f921"
             ]
            ],
            "type": "histogram2dcontour"
           }
          ],
          "mesh3d": [
           {
            "colorbar": {
             "outlinewidth": 0,
             "ticks": ""
            },
            "type": "mesh3d"
           }
          ],
          "parcoords": [
           {
            "line": {
             "colorbar": {
              "outlinewidth": 0,
              "ticks": ""
             }
            },
            "type": "parcoords"
           }
          ],
          "pie": [
           {
            "automargin": true,
            "type": "pie"
           }
          ],
          "scatter": [
           {
            "fillpattern": {
             "fillmode": "overlay",
             "size": 10,
             "solidity": 0.2
            },
            "type": "scatter"
           }
          ],
          "scatter3d": [
           {
            "line": {
             "colorbar": {
              "outlinewidth": 0,
              "ticks": ""
             }
            },
            "marker": {
             "colorbar": {
              "outlinewidth": 0,
              "ticks": ""
             }
            },
            "type": "scatter3d"
           }
          ],
          "scattercarpet": [
           {
            "marker": {
             "colorbar": {
              "outlinewidth": 0,
              "ticks": ""
             }
            },
            "type": "scattercarpet"
           }
          ],
          "scattergeo": [
           {
            "marker": {
             "colorbar": {
              "outlinewidth": 0,
              "ticks": ""
             }
            },
            "type": "scattergeo"
           }
          ],
          "scattergl": [
           {
            "marker": {
             "colorbar": {
              "outlinewidth": 0,
              "ticks": ""
             }
            },
            "type": "scattergl"
           }
          ],
          "scattermapbox": [
           {
            "marker": {
             "colorbar": {
              "outlinewidth": 0,
              "ticks": ""
             }
            },
            "type": "scattermapbox"
           }
          ],
          "scatterpolar": [
           {
            "marker": {
             "colorbar": {
              "outlinewidth": 0,
              "ticks": ""
             }
            },
            "type": "scatterpolar"
           }
          ],
          "scatterpolargl": [
           {
            "marker": {
             "colorbar": {
              "outlinewidth": 0,
              "ticks": ""
             }
            },
            "type": "scatterpolargl"
           }
          ],
          "scatterternary": [
           {
            "marker": {
             "colorbar": {
              "outlinewidth": 0,
              "ticks": ""
             }
            },
            "type": "scatterternary"
           }
          ],
          "surface": [
           {
            "colorbar": {
             "outlinewidth": 0,
             "ticks": ""
            },
            "colorscale": [
             [
              0,
              "#0d0887"
             ],
             [
              0.1111111111111111,
              "#46039f"
             ],
             [
              0.2222222222222222,
              "#7201a8"
             ],
             [
              0.3333333333333333,
              "#9c179e"
             ],
             [
              0.4444444444444444,
              "#bd3786"
             ],
             [
              0.5555555555555556,
              "#d8576b"
             ],
             [
              0.6666666666666666,
              "#ed7953"
             ],
             [
              0.7777777777777778,
              "#fb9f3a"
             ],
             [
              0.8888888888888888,
              "#fdca26"
             ],
             [
              1,
              "#f0f921"
             ]
            ],
            "type": "surface"
           }
          ],
          "table": [
           {
            "cells": {
             "fill": {
              "color": "#EBF0F8"
             },
             "line": {
              "color": "white"
             }
            },
            "header": {
             "fill": {
              "color": "#C8D4E3"
             },
             "line": {
              "color": "white"
             }
            },
            "type": "table"
           }
          ]
         },
         "layout": {
          "annotationdefaults": {
           "arrowcolor": "#2a3f5f",
           "arrowhead": 0,
           "arrowwidth": 1
          },
          "autotypenumbers": "strict",
          "coloraxis": {
           "colorbar": {
            "outlinewidth": 0,
            "ticks": ""
           }
          },
          "colorscale": {
           "diverging": [
            [
             0,
             "#8e0152"
            ],
            [
             0.1,
             "#c51b7d"
            ],
            [
             0.2,
             "#de77ae"
            ],
            [
             0.3,
             "#f1b6da"
            ],
            [
             0.4,
             "#fde0ef"
            ],
            [
             0.5,
             "#f7f7f7"
            ],
            [
             0.6,
             "#e6f5d0"
            ],
            [
             0.7,
             "#b8e186"
            ],
            [
             0.8,
             "#7fbc41"
            ],
            [
             0.9,
             "#4d9221"
            ],
            [
             1,
             "#276419"
            ]
           ],
           "sequential": [
            [
             0,
             "#0d0887"
            ],
            [
             0.1111111111111111,
             "#46039f"
            ],
            [
             0.2222222222222222,
             "#7201a8"
            ],
            [
             0.3333333333333333,
             "#9c179e"
            ],
            [
             0.4444444444444444,
             "#bd3786"
            ],
            [
             0.5555555555555556,
             "#d8576b"
            ],
            [
             0.6666666666666666,
             "#ed7953"
            ],
            [
             0.7777777777777778,
             "#fb9f3a"
            ],
            [
             0.8888888888888888,
             "#fdca26"
            ],
            [
             1,
             "#f0f921"
            ]
           ],
           "sequentialminus": [
            [
             0,
             "#0d0887"
            ],
            [
             0.1111111111111111,
             "#46039f"
            ],
            [
             0.2222222222222222,
             "#7201a8"
            ],
            [
             0.3333333333333333,
             "#9c179e"
            ],
            [
             0.4444444444444444,
             "#bd3786"
            ],
            [
             0.5555555555555556,
             "#d8576b"
            ],
            [
             0.6666666666666666,
             "#ed7953"
            ],
            [
             0.7777777777777778,
             "#fb9f3a"
            ],
            [
             0.8888888888888888,
             "#fdca26"
            ],
            [
             1,
             "#f0f921"
            ]
           ]
          },
          "colorway": [
           "#636efa",
           "#EF553B",
           "#00cc96",
           "#ab63fa",
           "#FFA15A",
           "#19d3f3",
           "#FF6692",
           "#B6E880",
           "#FF97FF",
           "#FECB52"
          ],
          "font": {
           "color": "#2a3f5f"
          },
          "geo": {
           "bgcolor": "white",
           "lakecolor": "white",
           "landcolor": "#E5ECF6",
           "showlakes": true,
           "showland": true,
           "subunitcolor": "white"
          },
          "hoverlabel": {
           "align": "left"
          },
          "hovermode": "closest",
          "mapbox": {
           "style": "light"
          },
          "paper_bgcolor": "white",
          "plot_bgcolor": "#E5ECF6",
          "polar": {
           "angularaxis": {
            "gridcolor": "white",
            "linecolor": "white",
            "ticks": ""
           },
           "bgcolor": "#E5ECF6",
           "radialaxis": {
            "gridcolor": "white",
            "linecolor": "white",
            "ticks": ""
           }
          },
          "scene": {
           "xaxis": {
            "backgroundcolor": "#E5ECF6",
            "gridcolor": "white",
            "gridwidth": 2,
            "linecolor": "white",
            "showbackground": true,
            "ticks": "",
            "zerolinecolor": "white"
           },
           "yaxis": {
            "backgroundcolor": "#E5ECF6",
            "gridcolor": "white",
            "gridwidth": 2,
            "linecolor": "white",
            "showbackground": true,
            "ticks": "",
            "zerolinecolor": "white"
           },
           "zaxis": {
            "backgroundcolor": "#E5ECF6",
            "gridcolor": "white",
            "gridwidth": 2,
            "linecolor": "white",
            "showbackground": true,
            "ticks": "",
            "zerolinecolor": "white"
           }
          },
          "shapedefaults": {
           "line": {
            "color": "#2a3f5f"
           }
          },
          "ternary": {
           "aaxis": {
            "gridcolor": "white",
            "linecolor": "white",
            "ticks": ""
           },
           "baxis": {
            "gridcolor": "white",
            "linecolor": "white",
            "ticks": ""
           },
           "bgcolor": "#E5ECF6",
           "caxis": {
            "gridcolor": "white",
            "linecolor": "white",
            "ticks": ""
           }
          },
          "title": {
           "x": 0.05
          },
          "xaxis": {
           "automargin": true,
           "gridcolor": "white",
           "linecolor": "white",
           "ticks": "",
           "title": {
            "standoff": 15
           },
           "zerolinecolor": "white",
           "zerolinewidth": 2
          },
          "yaxis": {
           "automargin": true,
           "gridcolor": "white",
           "linecolor": "white",
           "ticks": "",
           "title": {
            "standoff": 15
           },
           "zerolinecolor": "white",
           "zerolinewidth": 2
          }
         }
        },
        "title": {
         "text": "Distribuição dos Gêneros nas Remessas"
        },
        "xaxis": {
         "anchor": "y",
         "domain": [
          0,
          1
         ],
         "title": {
          "text": "Gênero"
         }
        },
        "yaxis": {
         "anchor": "x",
         "domain": [
          0,
          1
         ],
         "title": {
          "text": "count"
         }
        }
       }
      }
     },
     "metadata": {},
     "output_type": "display_data"
    }
   ],
   "source": [
    "#distribuiçao de sexo por remessa\n",
    "\n",
    "remessa1['Remessa'] = 'Remessa 1'\n",
    "remessa2['Remessa'] = 'Remessa 2'\n",
    "df_concatenado = pd.concat([remessa1, remessa2])\n",
    "fig = px.histogram(df_concatenado, \n",
    "                   x='GENERO',color='Remessa',barmode='group',title='Distribuição dos Gêneros nas Remessas',labels={'GENERO': 'Gênero', 'count': 'Contagem'},color_discrete_sequence=px.colors.qualitative.Set2)\n",
    "\n",
    "pio.write_html(fig, 'distribuicao_dos_generos_nas_remessas.html')\n",
    "fig.show()"
   ]
  },
  {
   "cell_type": "code",
   "execution_count": 32,
   "metadata": {},
   "outputs": [
    {
     "data": {
      "application/vnd.plotly.v1+json": {
       "config": {
        "plotlyServerURL": "https://plot.ly"
       },
       "data": [
        {
         "alignmentgroup": "True",
         "hovertemplate": "Remessa=Remessa 1<br>Estado=%{x}<br>Número de indivíduos=%{y}<extra></extra>",
         "legendgroup": "Remessa 1",
         "marker": {
          "color": "#636efa",
          "pattern": {
           "shape": ""
          }
         },
         "name": "Remessa 1",
         "offsetgroup": "Remessa 1",
         "orientation": "v",
         "showlegend": true,
         "textposition": "auto",
         "type": "bar",
         "x": [
          "CE",
          "GO",
          "MG",
          "MT",
          "PA",
          "PB",
          "RJ",
          "RS",
          "SC"
         ],
         "xaxis": "x",
         "y": [
          2,
          11,
          2,
          143,
          195,
          1,
          173,
          108,
          2
         ],
         "yaxis": "y"
        },
        {
         "alignmentgroup": "True",
         "hovertemplate": "Remessa=Remessa 2<br>Estado=%{x}<br>Número de indivíduos=%{y}<extra></extra>",
         "legendgroup": "Remessa 2",
         "marker": {
          "color": "#EF553B",
          "pattern": {
           "shape": ""
          }
         },
         "name": "Remessa 2",
         "offsetgroup": "Remessa 2",
         "orientation": "v",
         "showlegend": true,
         "textposition": "auto",
         "type": "bar",
         "x": [
          "CE",
          "GO",
          "MG",
          "MT",
          "PA",
          "PB",
          "RJ",
          "RS",
          "SC"
         ],
         "xaxis": "x",
         "y": [
          156,
          1,
          59,
          92,
          16,
          0,
          78,
          5,
          0
         ],
         "yaxis": "y"
        }
       ],
       "layout": {
        "barmode": "group",
        "legend": {
         "title": {
          "text": "Remessa"
         },
         "tracegroupgap": 0
        },
        "template": {
         "data": {
          "bar": [
           {
            "error_x": {
             "color": "#2a3f5f"
            },
            "error_y": {
             "color": "#2a3f5f"
            },
            "marker": {
             "line": {
              "color": "#E5ECF6",
              "width": 0.5
             },
             "pattern": {
              "fillmode": "overlay",
              "size": 10,
              "solidity": 0.2
             }
            },
            "type": "bar"
           }
          ],
          "barpolar": [
           {
            "marker": {
             "line": {
              "color": "#E5ECF6",
              "width": 0.5
             },
             "pattern": {
              "fillmode": "overlay",
              "size": 10,
              "solidity": 0.2
             }
            },
            "type": "barpolar"
           }
          ],
          "carpet": [
           {
            "aaxis": {
             "endlinecolor": "#2a3f5f",
             "gridcolor": "white",
             "linecolor": "white",
             "minorgridcolor": "white",
             "startlinecolor": "#2a3f5f"
            },
            "baxis": {
             "endlinecolor": "#2a3f5f",
             "gridcolor": "white",
             "linecolor": "white",
             "minorgridcolor": "white",
             "startlinecolor": "#2a3f5f"
            },
            "type": "carpet"
           }
          ],
          "choropleth": [
           {
            "colorbar": {
             "outlinewidth": 0,
             "ticks": ""
            },
            "type": "choropleth"
           }
          ],
          "contour": [
           {
            "colorbar": {
             "outlinewidth": 0,
             "ticks": ""
            },
            "colorscale": [
             [
              0,
              "#0d0887"
             ],
             [
              0.1111111111111111,
              "#46039f"
             ],
             [
              0.2222222222222222,
              "#7201a8"
             ],
             [
              0.3333333333333333,
              "#9c179e"
             ],
             [
              0.4444444444444444,
              "#bd3786"
             ],
             [
              0.5555555555555556,
              "#d8576b"
             ],
             [
              0.6666666666666666,
              "#ed7953"
             ],
             [
              0.7777777777777778,
              "#fb9f3a"
             ],
             [
              0.8888888888888888,
              "#fdca26"
             ],
             [
              1,
              "#f0f921"
             ]
            ],
            "type": "contour"
           }
          ],
          "contourcarpet": [
           {
            "colorbar": {
             "outlinewidth": 0,
             "ticks": ""
            },
            "type": "contourcarpet"
           }
          ],
          "heatmap": [
           {
            "colorbar": {
             "outlinewidth": 0,
             "ticks": ""
            },
            "colorscale": [
             [
              0,
              "#0d0887"
             ],
             [
              0.1111111111111111,
              "#46039f"
             ],
             [
              0.2222222222222222,
              "#7201a8"
             ],
             [
              0.3333333333333333,
              "#9c179e"
             ],
             [
              0.4444444444444444,
              "#bd3786"
             ],
             [
              0.5555555555555556,
              "#d8576b"
             ],
             [
              0.6666666666666666,
              "#ed7953"
             ],
             [
              0.7777777777777778,
              "#fb9f3a"
             ],
             [
              0.8888888888888888,
              "#fdca26"
             ],
             [
              1,
              "#f0f921"
             ]
            ],
            "type": "heatmap"
           }
          ],
          "heatmapgl": [
           {
            "colorbar": {
             "outlinewidth": 0,
             "ticks": ""
            },
            "colorscale": [
             [
              0,
              "#0d0887"
             ],
             [
              0.1111111111111111,
              "#46039f"
             ],
             [
              0.2222222222222222,
              "#7201a8"
             ],
             [
              0.3333333333333333,
              "#9c179e"
             ],
             [
              0.4444444444444444,
              "#bd3786"
             ],
             [
              0.5555555555555556,
              "#d8576b"
             ],
             [
              0.6666666666666666,
              "#ed7953"
             ],
             [
              0.7777777777777778,
              "#fb9f3a"
             ],
             [
              0.8888888888888888,
              "#fdca26"
             ],
             [
              1,
              "#f0f921"
             ]
            ],
            "type": "heatmapgl"
           }
          ],
          "histogram": [
           {
            "marker": {
             "pattern": {
              "fillmode": "overlay",
              "size": 10,
              "solidity": 0.2
             }
            },
            "type": "histogram"
           }
          ],
          "histogram2d": [
           {
            "colorbar": {
             "outlinewidth": 0,
             "ticks": ""
            },
            "colorscale": [
             [
              0,
              "#0d0887"
             ],
             [
              0.1111111111111111,
              "#46039f"
             ],
             [
              0.2222222222222222,
              "#7201a8"
             ],
             [
              0.3333333333333333,
              "#9c179e"
             ],
             [
              0.4444444444444444,
              "#bd3786"
             ],
             [
              0.5555555555555556,
              "#d8576b"
             ],
             [
              0.6666666666666666,
              "#ed7953"
             ],
             [
              0.7777777777777778,
              "#fb9f3a"
             ],
             [
              0.8888888888888888,
              "#fdca26"
             ],
             [
              1,
              "#f0f921"
             ]
            ],
            "type": "histogram2d"
           }
          ],
          "histogram2dcontour": [
           {
            "colorbar": {
             "outlinewidth": 0,
             "ticks": ""
            },
            "colorscale": [
             [
              0,
              "#0d0887"
             ],
             [
              0.1111111111111111,
              "#46039f"
             ],
             [
              0.2222222222222222,
              "#7201a8"
             ],
             [
              0.3333333333333333,
              "#9c179e"
             ],
             [
              0.4444444444444444,
              "#bd3786"
             ],
             [
              0.5555555555555556,
              "#d8576b"
             ],
             [
              0.6666666666666666,
              "#ed7953"
             ],
             [
              0.7777777777777778,
              "#fb9f3a"
             ],
             [
              0.8888888888888888,
              "#fdca26"
             ],
             [
              1,
              "#f0f921"
             ]
            ],
            "type": "histogram2dcontour"
           }
          ],
          "mesh3d": [
           {
            "colorbar": {
             "outlinewidth": 0,
             "ticks": ""
            },
            "type": "mesh3d"
           }
          ],
          "parcoords": [
           {
            "line": {
             "colorbar": {
              "outlinewidth": 0,
              "ticks": ""
             }
            },
            "type": "parcoords"
           }
          ],
          "pie": [
           {
            "automargin": true,
            "type": "pie"
           }
          ],
          "scatter": [
           {
            "fillpattern": {
             "fillmode": "overlay",
             "size": 10,
             "solidity": 0.2
            },
            "type": "scatter"
           }
          ],
          "scatter3d": [
           {
            "line": {
             "colorbar": {
              "outlinewidth": 0,
              "ticks": ""
             }
            },
            "marker": {
             "colorbar": {
              "outlinewidth": 0,
              "ticks": ""
             }
            },
            "type": "scatter3d"
           }
          ],
          "scattercarpet": [
           {
            "marker": {
             "colorbar": {
              "outlinewidth": 0,
              "ticks": ""
             }
            },
            "type": "scattercarpet"
           }
          ],
          "scattergeo": [
           {
            "marker": {
             "colorbar": {
              "outlinewidth": 0,
              "ticks": ""
             }
            },
            "type": "scattergeo"
           }
          ],
          "scattergl": [
           {
            "marker": {
             "colorbar": {
              "outlinewidth": 0,
              "ticks": ""
             }
            },
            "type": "scattergl"
           }
          ],
          "scattermapbox": [
           {
            "marker": {
             "colorbar": {
              "outlinewidth": 0,
              "ticks": ""
             }
            },
            "type": "scattermapbox"
           }
          ],
          "scatterpolar": [
           {
            "marker": {
             "colorbar": {
              "outlinewidth": 0,
              "ticks": ""
             }
            },
            "type": "scatterpolar"
           }
          ],
          "scatterpolargl": [
           {
            "marker": {
             "colorbar": {
              "outlinewidth": 0,
              "ticks": ""
             }
            },
            "type": "scatterpolargl"
           }
          ],
          "scatterternary": [
           {
            "marker": {
             "colorbar": {
              "outlinewidth": 0,
              "ticks": ""
             }
            },
            "type": "scatterternary"
           }
          ],
          "surface": [
           {
            "colorbar": {
             "outlinewidth": 0,
             "ticks": ""
            },
            "colorscale": [
             [
              0,
              "#0d0887"
             ],
             [
              0.1111111111111111,
              "#46039f"
             ],
             [
              0.2222222222222222,
              "#7201a8"
             ],
             [
              0.3333333333333333,
              "#9c179e"
             ],
             [
              0.4444444444444444,
              "#bd3786"
             ],
             [
              0.5555555555555556,
              "#d8576b"
             ],
             [
              0.6666666666666666,
              "#ed7953"
             ],
             [
              0.7777777777777778,
              "#fb9f3a"
             ],
             [
              0.8888888888888888,
              "#fdca26"
             ],
             [
              1,
              "#f0f921"
             ]
            ],
            "type": "surface"
           }
          ],
          "table": [
           {
            "cells": {
             "fill": {
              "color": "#EBF0F8"
             },
             "line": {
              "color": "white"
             }
            },
            "header": {
             "fill": {
              "color": "#C8D4E3"
             },
             "line": {
              "color": "white"
             }
            },
            "type": "table"
           }
          ]
         },
         "layout": {
          "annotationdefaults": {
           "arrowcolor": "#2a3f5f",
           "arrowhead": 0,
           "arrowwidth": 1
          },
          "autotypenumbers": "strict",
          "coloraxis": {
           "colorbar": {
            "outlinewidth": 0,
            "ticks": ""
           }
          },
          "colorscale": {
           "diverging": [
            [
             0,
             "#8e0152"
            ],
            [
             0.1,
             "#c51b7d"
            ],
            [
             0.2,
             "#de77ae"
            ],
            [
             0.3,
             "#f1b6da"
            ],
            [
             0.4,
             "#fde0ef"
            ],
            [
             0.5,
             "#f7f7f7"
            ],
            [
             0.6,
             "#e6f5d0"
            ],
            [
             0.7,
             "#b8e186"
            ],
            [
             0.8,
             "#7fbc41"
            ],
            [
             0.9,
             "#4d9221"
            ],
            [
             1,
             "#276419"
            ]
           ],
           "sequential": [
            [
             0,
             "#0d0887"
            ],
            [
             0.1111111111111111,
             "#46039f"
            ],
            [
             0.2222222222222222,
             "#7201a8"
            ],
            [
             0.3333333333333333,
             "#9c179e"
            ],
            [
             0.4444444444444444,
             "#bd3786"
            ],
            [
             0.5555555555555556,
             "#d8576b"
            ],
            [
             0.6666666666666666,
             "#ed7953"
            ],
            [
             0.7777777777777778,
             "#fb9f3a"
            ],
            [
             0.8888888888888888,
             "#fdca26"
            ],
            [
             1,
             "#f0f921"
            ]
           ],
           "sequentialminus": [
            [
             0,
             "#0d0887"
            ],
            [
             0.1111111111111111,
             "#46039f"
            ],
            [
             0.2222222222222222,
             "#7201a8"
            ],
            [
             0.3333333333333333,
             "#9c179e"
            ],
            [
             0.4444444444444444,
             "#bd3786"
            ],
            [
             0.5555555555555556,
             "#d8576b"
            ],
            [
             0.6666666666666666,
             "#ed7953"
            ],
            [
             0.7777777777777778,
             "#fb9f3a"
            ],
            [
             0.8888888888888888,
             "#fdca26"
            ],
            [
             1,
             "#f0f921"
            ]
           ]
          },
          "colorway": [
           "#636efa",
           "#EF553B",
           "#00cc96",
           "#ab63fa",
           "#FFA15A",
           "#19d3f3",
           "#FF6692",
           "#B6E880",
           "#FF97FF",
           "#FECB52"
          ],
          "font": {
           "color": "#2a3f5f"
          },
          "geo": {
           "bgcolor": "white",
           "lakecolor": "white",
           "landcolor": "#E5ECF6",
           "showlakes": true,
           "showland": true,
           "subunitcolor": "white"
          },
          "hoverlabel": {
           "align": "left"
          },
          "hovermode": "closest",
          "mapbox": {
           "style": "light"
          },
          "paper_bgcolor": "white",
          "plot_bgcolor": "#E5ECF6",
          "polar": {
           "angularaxis": {
            "gridcolor": "white",
            "linecolor": "white",
            "ticks": ""
           },
           "bgcolor": "#E5ECF6",
           "radialaxis": {
            "gridcolor": "white",
            "linecolor": "white",
            "ticks": ""
           }
          },
          "scene": {
           "xaxis": {
            "backgroundcolor": "#E5ECF6",
            "gridcolor": "white",
            "gridwidth": 2,
            "linecolor": "white",
            "showbackground": true,
            "ticks": "",
            "zerolinecolor": "white"
           },
           "yaxis": {
            "backgroundcolor": "#E5ECF6",
            "gridcolor": "white",
            "gridwidth": 2,
            "linecolor": "white",
            "showbackground": true,
            "ticks": "",
            "zerolinecolor": "white"
           },
           "zaxis": {
            "backgroundcolor": "#E5ECF6",
            "gridcolor": "white",
            "gridwidth": 2,
            "linecolor": "white",
            "showbackground": true,
            "ticks": "",
            "zerolinecolor": "white"
           }
          },
          "shapedefaults": {
           "line": {
            "color": "#2a3f5f"
           }
          },
          "ternary": {
           "aaxis": {
            "gridcolor": "white",
            "linecolor": "white",
            "ticks": ""
           },
           "baxis": {
            "gridcolor": "white",
            "linecolor": "white",
            "ticks": ""
           },
           "bgcolor": "#E5ECF6",
           "caxis": {
            "gridcolor": "white",
            "linecolor": "white",
            "ticks": ""
           }
          },
          "title": {
           "x": 0.05
          },
          "xaxis": {
           "automargin": true,
           "gridcolor": "white",
           "linecolor": "white",
           "ticks": "",
           "title": {
            "standoff": 15
           },
           "zerolinecolor": "white",
           "zerolinewidth": 2
          },
          "yaxis": {
           "automargin": true,
           "gridcolor": "white",
           "linecolor": "white",
           "ticks": "",
           "title": {
            "standoff": 15
           },
           "zerolinecolor": "white",
           "zerolinewidth": 2
          }
         }
        },
        "title": {
         "text": "Comparação de indivíduos por estado entre Remessa 1 e Remessa 2"
        },
        "xaxis": {
         "anchor": "y",
         "domain": [
          0,
          1
         ],
         "title": {
          "text": "Estado"
         }
        },
        "yaxis": {
         "anchor": "x",
         "domain": [
          0,
          1
         ],
         "title": {
          "text": "Número de indivíduos"
         }
        }
       }
      }
     },
     "metadata": {},
     "output_type": "display_data"
    }
   ],
   "source": [
    "#numero de individuos por estado e remessa\n",
    "\n",
    "remessa1 = df.loc[df['Onda_1_ate_nov2020_Onda_2_entre_nov_2020_e_dez2021'] == 1]\n",
    "remessa2 = df.loc[df['Onda_1_ate_nov2020_Onda_2_entre_nov_2020_e_dez2021'] == 2]\n",
    "\n",
    "\n",
    "contagem_remessa1 = remessa1['UF_COLETA'].value_counts().sort_index()\n",
    "contagem_remessa2 = remessa2['UF_COLETA'].value_counts().sort_index()\n",
    "\n",
    "contagens = pd.DataFrame({\n",
    "    'Estado': contagem_remessa1.index.union(contagem_remessa2.index),\n",
    "    'Remessa 1': contagem_remessa1.reindex(contagem_remessa1.index.union(contagem_remessa2.index), fill_value=0).values,\n",
    "    'Remessa 2': contagem_remessa2.reindex(contagem_remessa1.index.union(contagem_remessa2.index), fill_value=0).values\n",
    "})\n",
    "\n",
    "fig = px.bar(contagens.melt(id_vars='Estado', value_vars=['Remessa 1', 'Remessa 2']),\n",
    "             x='Estado',\n",
    "             y='value',\n",
    "             color='variable',\n",
    "             barmode='group',\n",
    "             title='Comparação de indivíduos por estado entre Remessa 1 e Remessa 2',\n",
    "             labels={'value': 'Número de indivíduos', 'variable': 'Remessa'})\n",
    "\n",
    "pio.write_html(fig, 'distribuicao_dos_ind_por_estado_remessas.html')\n",
    "fig.show()\n"
   ]
  },
  {
   "cell_type": "code",
   "execution_count": 8,
   "metadata": {},
   "outputs": [
    {
     "name": "stderr",
     "output_type": "stream",
     "text": [
      "/tmp/ipykernel_91771/628296521.py:10: SettingWithCopyWarning:\n",
      "\n",
      "\n",
      "A value is trying to be set on a copy of a slice from a DataFrame.\n",
      "Try using .loc[row_indexer,col_indexer] = value instead\n",
      "\n",
      "See the caveats in the documentation: https://pandas.pydata.org/pandas-docs/stable/user_guide/indexing.html#returning-a-view-versus-a-copy\n",
      "\n",
      "/tmp/ipykernel_91771/628296521.py:11: SettingWithCopyWarning:\n",
      "\n",
      "\n",
      "A value is trying to be set on a copy of a slice from a DataFrame.\n",
      "Try using .loc[row_indexer,col_indexer] = value instead\n",
      "\n",
      "See the caveats in the documentation: https://pandas.pydata.org/pandas-docs/stable/user_guide/indexing.html#returning-a-view-versus-a-copy\n",
      "\n"
     ]
    },
    {
     "data": {
      "application/vnd.plotly.v1+json": {
       "config": {
        "plotlyServerURL": "https://plot.ly"
       },
       "data": [
        {
         "alignmentgroup": "True",
         "bingroup": "x",
         "hovertemplate": "Remessa=Remessa 1<br>Classificação de COVID=%{x}<br>count=%{y}<extra></extra>",
         "legendgroup": "Remessa 1",
         "marker": {
          "color": "rgb(102,194,165)",
          "pattern": {
           "shape": ""
          }
         },
         "name": "Remessa 1",
         "offsetgroup": "Remessa 1",
         "orientation": "v",
         "showlegend": true,
         "type": "histogram",
         "x": [
          2,
          5,
          5,
          1,
          1,
          3,
          4,
          1,
          1,
          3,
          1,
          4,
          1,
          5,
          1,
          3,
          3,
          2,
          1,
          2,
          3,
          1,
          4,
          1,
          2,
          2,
          5,
          5,
          2,
          2,
          4,
          4,
          3,
          2,
          2,
          2,
          4,
          2,
          2,
          3,
          5,
          5,
          5,
          4,
          4,
          5,
          2,
          5,
          5,
          3,
          2,
          5,
          5,
          4,
          4,
          5,
          4,
          5,
          5,
          4,
          2,
          2,
          4,
          5,
          4,
          5,
          4,
          4,
          5,
          2,
          5,
          4,
          5,
          5,
          4,
          3,
          4,
          2,
          3,
          5,
          4,
          3,
          3,
          5,
          3,
          3,
          4,
          3,
          5,
          4,
          4,
          5,
          5,
          3,
          3,
          3,
          3,
          4,
          5,
          3,
          3,
          4,
          4,
          4,
          4,
          4,
          5,
          4,
          5,
          3,
          3,
          3,
          5,
          3,
          4,
          3,
          3,
          3,
          4,
          2,
          4,
          3,
          4,
          4,
          4,
          3,
          4,
          4,
          3,
          2,
          5,
          2,
          2,
          2,
          2,
          2,
          2,
          2,
          2,
          2,
          5,
          2,
          2,
          2,
          2,
          2,
          2,
          1,
          1,
          1,
          2,
          5,
          2,
          2,
          1,
          2,
          2,
          2,
          2,
          1,
          1,
          1,
          3,
          2,
          2,
          2,
          2,
          2,
          2,
          2,
          2,
          2,
          4,
          2,
          2,
          2,
          2,
          2,
          2,
          2,
          2,
          2,
          2,
          4,
          2,
          2,
          2,
          2,
          2,
          2,
          2,
          2,
          2,
          2,
          2,
          2,
          2,
          2,
          2,
          2,
          2,
          2,
          2,
          2,
          2,
          2,
          2,
          2,
          2,
          2,
          2,
          2,
          2,
          1,
          2,
          2,
          5,
          2,
          2,
          2,
          2,
          2,
          2,
          2,
          2,
          2,
          2,
          3,
          2,
          2,
          2,
          2,
          2,
          2,
          2,
          2,
          2,
          2,
          4,
          2,
          2,
          2,
          2,
          3,
          5,
          4,
          5,
          4,
          2,
          4,
          4,
          5,
          5,
          5,
          5,
          3,
          4,
          3,
          5,
          5,
          4,
          5,
          5,
          5,
          5,
          5,
          4,
          2,
          5,
          4,
          5,
          3,
          5,
          5,
          2,
          3,
          5,
          5,
          5,
          4,
          3,
          5,
          4,
          4,
          5,
          4,
          5,
          4,
          4,
          5,
          3,
          5,
          2,
          4,
          4,
          3,
          3,
          4,
          2,
          3,
          2,
          5,
          3,
          4,
          4,
          4,
          3,
          5,
          5,
          5,
          3,
          2,
          5,
          4,
          3,
          3,
          2,
          4,
          5,
          3,
          2,
          3,
          5,
          2,
          3,
          3,
          1,
          1,
          3,
          5,
          3,
          4,
          4,
          2,
          4,
          3,
          3,
          4,
          5,
          3,
          1,
          1,
          3,
          4,
          4,
          3,
          4,
          5,
          4,
          3,
          4,
          3,
          4,
          5,
          3,
          5,
          3,
          4,
          4,
          5,
          2,
          5,
          3,
          4,
          3,
          2,
          4,
          2,
          2,
          2,
          2,
          2,
          2,
          2,
          2,
          2,
          3,
          5,
          2,
          2,
          2,
          2,
          2,
          1,
          2,
          3,
          3,
          2,
          4,
          2,
          2,
          3,
          3,
          2,
          1,
          3,
          3,
          3,
          4,
          3,
          3,
          5,
          3,
          3,
          4,
          5,
          2,
          2,
          2,
          2,
          2,
          3,
          2,
          2,
          1,
          2,
          2,
          2,
          2,
          2,
          3,
          2,
          2,
          2,
          2,
          2,
          2,
          2,
          2,
          2,
          2,
          2,
          2,
          2,
          2,
          2,
          2,
          1,
          2,
          2,
          2,
          2,
          2,
          2,
          3,
          2,
          3,
          2,
          3,
          2,
          2,
          2,
          5,
          2,
          2,
          1,
          2,
          2,
          3,
          2,
          2,
          3,
          2,
          3,
          2,
          4,
          2,
          2,
          3,
          3,
          3,
          3,
          3,
          3,
          5,
          2,
          2,
          3,
          2,
          2,
          2,
          2,
          2,
          2,
          2,
          5,
          4,
          3,
          2,
          2,
          2,
          3,
          3,
          2,
          2,
          3,
          5,
          3,
          3,
          3,
          3,
          2,
          3,
          2,
          3,
          3,
          2,
          2,
          2,
          2,
          2,
          3,
          3,
          3,
          3,
          2,
          3,
          3,
          4,
          2,
          3,
          2,
          2,
          3,
          3,
          3,
          3,
          3,
          3,
          5,
          3,
          3,
          3,
          3,
          3,
          2,
          2,
          2,
          2,
          2,
          5,
          3,
          2,
          2,
          3,
          2,
          3,
          3,
          3,
          5,
          3,
          2,
          2,
          2,
          2,
          2,
          2,
          2,
          2,
          2,
          5,
          2,
          2,
          2,
          2,
          2,
          2,
          3,
          2,
          5,
          3,
          2,
          2,
          3,
          2,
          3,
          4,
          2,
          3,
          4,
          3,
          3,
          2,
          5,
          5,
          5,
          3,
          5,
          4,
          2,
          5,
          2,
          3,
          5,
          2,
          2,
          2,
          5,
          5,
          5,
          4,
          5,
          5,
          4,
          5,
          5,
          5,
          4,
          5,
          2,
          3,
          5,
          5,
          5,
          5,
          2,
          2,
          2,
          2,
          2,
          2,
          2,
          2,
          3,
          1,
          2,
          2,
          2,
          2,
          3,
          3,
          1,
          3,
          1,
          5,
          1
         ],
         "xaxis": "x",
         "yaxis": "y"
        },
        {
         "alignmentgroup": "True",
         "bingroup": "x",
         "hovertemplate": "Remessa=Remessa 2<br>Classificação de COVID=%{x}<br>count=%{y}<extra></extra>",
         "legendgroup": "Remessa 2",
         "marker": {
          "color": "rgb(252,141,98)",
          "pattern": {
           "shape": ""
          }
         },
         "name": "Remessa 2",
         "offsetgroup": "Remessa 2",
         "orientation": "v",
         "showlegend": true,
         "type": "histogram",
         "x": [
          2,
          2,
          2,
          2,
          2,
          5,
          2,
          2,
          2,
          2,
          2,
          2,
          2,
          5,
          2,
          2,
          3,
          2,
          2,
          2,
          2,
          2,
          2,
          4,
          5,
          4,
          4,
          5,
          5,
          4,
          4,
          4,
          -1,
          4,
          4,
          4,
          4,
          4,
          2,
          5,
          4,
          4,
          5,
          4,
          4,
          5,
          5,
          5,
          4,
          5,
          5,
          4,
          4,
          4,
          4,
          4,
          4,
          4,
          4,
          5,
          5,
          2,
          3,
          2,
          3,
          2,
          3,
          3,
          3,
          2,
          2,
          2,
          2,
          2,
          2,
          2,
          2,
          2,
          2,
          2,
          2,
          2,
          2,
          2,
          2,
          2,
          2,
          3,
          2,
          2,
          2,
          2,
          3,
          3,
          2,
          1,
          1,
          1,
          1,
          2,
          3,
          1,
          3,
          3,
          2,
          2,
          2,
          3,
          2,
          2,
          3,
          2,
          2,
          2,
          2,
          2,
          2,
          2,
          2,
          2,
          2,
          2,
          2,
          2,
          3,
          2,
          2,
          2,
          2,
          2,
          2,
          1,
          2,
          2,
          3,
          3,
          2,
          3,
          2,
          1,
          2,
          2,
          2,
          2,
          3,
          2,
          2,
          2,
          2,
          2,
          2,
          3,
          1,
          2,
          2,
          2,
          2,
          2,
          3,
          2,
          2,
          4,
          4,
          5,
          5,
          5,
          4,
          4,
          5,
          5,
          4,
          4,
          5,
          4,
          2,
          5,
          5,
          4,
          4,
          3,
          3,
          3,
          3,
          3,
          3,
          3,
          3,
          3,
          3,
          3,
          5,
          3,
          3,
          3,
          2,
          5,
          5,
          5,
          5,
          5,
          5,
          5,
          5,
          5,
          5,
          5,
          5,
          5,
          5,
          4,
          5,
          4,
          5,
          5,
          5,
          5,
          5,
          5,
          5,
          5,
          5,
          5,
          5,
          5,
          5,
          5,
          3,
          5,
          5,
          5,
          3,
          3,
          4,
          1,
          5,
          5,
          3,
          3,
          3,
          2,
          3,
          5,
          5,
          4,
          3,
          1,
          5,
          5,
          5,
          5,
          5,
          5,
          5,
          4,
          5,
          5,
          5,
          5,
          5,
          4,
          4,
          4,
          5,
          5,
          4,
          5,
          5,
          4,
          5,
          3,
          5,
          5,
          5,
          5,
          5,
          5,
          4,
          5,
          5,
          5,
          5,
          5,
          4,
          1,
          5,
          5,
          5,
          2,
          2,
          2,
          2,
          2,
          2,
          2,
          2,
          2,
          2,
          2,
          2,
          2,
          2,
          2,
          2,
          2,
          2,
          2,
          2,
          2,
          2,
          2,
          2,
          2,
          1,
          2,
          1,
          2,
          2,
          2,
          2,
          4,
          2,
          2,
          2,
          2,
          2,
          1,
          2,
          2,
          2,
          3,
          2,
          2,
          2,
          2,
          1,
          2,
          2,
          2,
          1,
          2,
          2,
          2,
          2,
          1,
          1,
          2,
          4,
          4,
          4,
          3,
          5,
          3,
          4,
          4,
          4,
          4,
          3,
          3,
          4,
          5,
          4,
          5,
          4,
          4,
          5,
          5,
          5,
          3,
          4,
          5,
          4,
          5,
          4,
          4,
          4,
          5,
          4,
          4,
          4,
          3,
          5,
          3,
          4,
          3,
          4,
          5,
          4,
          4,
          3,
          3,
          3,
          4,
          4,
          4,
          4,
          5,
          5,
          4,
          3,
          4,
          3,
          4,
          4,
          2,
          5,
          5,
          5
         ],
         "xaxis": "x",
         "yaxis": "y"
        }
       ],
       "layout": {
        "barmode": "group",
        "legend": {
         "title": {
          "text": "Remessa"
         },
         "tracegroupgap": 0
        },
        "template": {
         "data": {
          "bar": [
           {
            "error_x": {
             "color": "#2a3f5f"
            },
            "error_y": {
             "color": "#2a3f5f"
            },
            "marker": {
             "line": {
              "color": "#E5ECF6",
              "width": 0.5
             },
             "pattern": {
              "fillmode": "overlay",
              "size": 10,
              "solidity": 0.2
             }
            },
            "type": "bar"
           }
          ],
          "barpolar": [
           {
            "marker": {
             "line": {
              "color": "#E5ECF6",
              "width": 0.5
             },
             "pattern": {
              "fillmode": "overlay",
              "size": 10,
              "solidity": 0.2
             }
            },
            "type": "barpolar"
           }
          ],
          "carpet": [
           {
            "aaxis": {
             "endlinecolor": "#2a3f5f",
             "gridcolor": "white",
             "linecolor": "white",
             "minorgridcolor": "white",
             "startlinecolor": "#2a3f5f"
            },
            "baxis": {
             "endlinecolor": "#2a3f5f",
             "gridcolor": "white",
             "linecolor": "white",
             "minorgridcolor": "white",
             "startlinecolor": "#2a3f5f"
            },
            "type": "carpet"
           }
          ],
          "choropleth": [
           {
            "colorbar": {
             "outlinewidth": 0,
             "ticks": ""
            },
            "type": "choropleth"
           }
          ],
          "contour": [
           {
            "colorbar": {
             "outlinewidth": 0,
             "ticks": ""
            },
            "colorscale": [
             [
              0,
              "#0d0887"
             ],
             [
              0.1111111111111111,
              "#46039f"
             ],
             [
              0.2222222222222222,
              "#7201a8"
             ],
             [
              0.3333333333333333,
              "#9c179e"
             ],
             [
              0.4444444444444444,
              "#bd3786"
             ],
             [
              0.5555555555555556,
              "#d8576b"
             ],
             [
              0.6666666666666666,
              "#ed7953"
             ],
             [
              0.7777777777777778,
              "#fb9f3a"
             ],
             [
              0.8888888888888888,
              "#fdca26"
             ],
             [
              1,
              "#f0f921"
             ]
            ],
            "type": "contour"
           }
          ],
          "contourcarpet": [
           {
            "colorbar": {
             "outlinewidth": 0,
             "ticks": ""
            },
            "type": "contourcarpet"
           }
          ],
          "heatmap": [
           {
            "colorbar": {
             "outlinewidth": 0,
             "ticks": ""
            },
            "colorscale": [
             [
              0,
              "#0d0887"
             ],
             [
              0.1111111111111111,
              "#46039f"
             ],
             [
              0.2222222222222222,
              "#7201a8"
             ],
             [
              0.3333333333333333,
              "#9c179e"
             ],
             [
              0.4444444444444444,
              "#bd3786"
             ],
             [
              0.5555555555555556,
              "#d8576b"
             ],
             [
              0.6666666666666666,
              "#ed7953"
             ],
             [
              0.7777777777777778,
              "#fb9f3a"
             ],
             [
              0.8888888888888888,
              "#fdca26"
             ],
             [
              1,
              "#f0f921"
             ]
            ],
            "type": "heatmap"
           }
          ],
          "heatmapgl": [
           {
            "colorbar": {
             "outlinewidth": 0,
             "ticks": ""
            },
            "colorscale": [
             [
              0,
              "#0d0887"
             ],
             [
              0.1111111111111111,
              "#46039f"
             ],
             [
              0.2222222222222222,
              "#7201a8"
             ],
             [
              0.3333333333333333,
              "#9c179e"
             ],
             [
              0.4444444444444444,
              "#bd3786"
             ],
             [
              0.5555555555555556,
              "#d8576b"
             ],
             [
              0.6666666666666666,
              "#ed7953"
             ],
             [
              0.7777777777777778,
              "#fb9f3a"
             ],
             [
              0.8888888888888888,
              "#fdca26"
             ],
             [
              1,
              "#f0f921"
             ]
            ],
            "type": "heatmapgl"
           }
          ],
          "histogram": [
           {
            "marker": {
             "pattern": {
              "fillmode": "overlay",
              "size": 10,
              "solidity": 0.2
             }
            },
            "type": "histogram"
           }
          ],
          "histogram2d": [
           {
            "colorbar": {
             "outlinewidth": 0,
             "ticks": ""
            },
            "colorscale": [
             [
              0,
              "#0d0887"
             ],
             [
              0.1111111111111111,
              "#46039f"
             ],
             [
              0.2222222222222222,
              "#7201a8"
             ],
             [
              0.3333333333333333,
              "#9c179e"
             ],
             [
              0.4444444444444444,
              "#bd3786"
             ],
             [
              0.5555555555555556,
              "#d8576b"
             ],
             [
              0.6666666666666666,
              "#ed7953"
             ],
             [
              0.7777777777777778,
              "#fb9f3a"
             ],
             [
              0.8888888888888888,
              "#fdca26"
             ],
             [
              1,
              "#f0f921"
             ]
            ],
            "type": "histogram2d"
           }
          ],
          "histogram2dcontour": [
           {
            "colorbar": {
             "outlinewidth": 0,
             "ticks": ""
            },
            "colorscale": [
             [
              0,
              "#0d0887"
             ],
             [
              0.1111111111111111,
              "#46039f"
             ],
             [
              0.2222222222222222,
              "#7201a8"
             ],
             [
              0.3333333333333333,
              "#9c179e"
             ],
             [
              0.4444444444444444,
              "#bd3786"
             ],
             [
              0.5555555555555556,
              "#d8576b"
             ],
             [
              0.6666666666666666,
              "#ed7953"
             ],
             [
              0.7777777777777778,
              "#fb9f3a"
             ],
             [
              0.8888888888888888,
              "#fdca26"
             ],
             [
              1,
              "#f0f921"
             ]
            ],
            "type": "histogram2dcontour"
           }
          ],
          "mesh3d": [
           {
            "colorbar": {
             "outlinewidth": 0,
             "ticks": ""
            },
            "type": "mesh3d"
           }
          ],
          "parcoords": [
           {
            "line": {
             "colorbar": {
              "outlinewidth": 0,
              "ticks": ""
             }
            },
            "type": "parcoords"
           }
          ],
          "pie": [
           {
            "automargin": true,
            "type": "pie"
           }
          ],
          "scatter": [
           {
            "fillpattern": {
             "fillmode": "overlay",
             "size": 10,
             "solidity": 0.2
            },
            "type": "scatter"
           }
          ],
          "scatter3d": [
           {
            "line": {
             "colorbar": {
              "outlinewidth": 0,
              "ticks": ""
             }
            },
            "marker": {
             "colorbar": {
              "outlinewidth": 0,
              "ticks": ""
             }
            },
            "type": "scatter3d"
           }
          ],
          "scattercarpet": [
           {
            "marker": {
             "colorbar": {
              "outlinewidth": 0,
              "ticks": ""
             }
            },
            "type": "scattercarpet"
           }
          ],
          "scattergeo": [
           {
            "marker": {
             "colorbar": {
              "outlinewidth": 0,
              "ticks": ""
             }
            },
            "type": "scattergeo"
           }
          ],
          "scattergl": [
           {
            "marker": {
             "colorbar": {
              "outlinewidth": 0,
              "ticks": ""
             }
            },
            "type": "scattergl"
           }
          ],
          "scattermapbox": [
           {
            "marker": {
             "colorbar": {
              "outlinewidth": 0,
              "ticks": ""
             }
            },
            "type": "scattermapbox"
           }
          ],
          "scatterpolar": [
           {
            "marker": {
             "colorbar": {
              "outlinewidth": 0,
              "ticks": ""
             }
            },
            "type": "scatterpolar"
           }
          ],
          "scatterpolargl": [
           {
            "marker": {
             "colorbar": {
              "outlinewidth": 0,
              "ticks": ""
             }
            },
            "type": "scatterpolargl"
           }
          ],
          "scatterternary": [
           {
            "marker": {
             "colorbar": {
              "outlinewidth": 0,
              "ticks": ""
             }
            },
            "type": "scatterternary"
           }
          ],
          "surface": [
           {
            "colorbar": {
             "outlinewidth": 0,
             "ticks": ""
            },
            "colorscale": [
             [
              0,
              "#0d0887"
             ],
             [
              0.1111111111111111,
              "#46039f"
             ],
             [
              0.2222222222222222,
              "#7201a8"
             ],
             [
              0.3333333333333333,
              "#9c179e"
             ],
             [
              0.4444444444444444,
              "#bd3786"
             ],
             [
              0.5555555555555556,
              "#d8576b"
             ],
             [
              0.6666666666666666,
              "#ed7953"
             ],
             [
              0.7777777777777778,
              "#fb9f3a"
             ],
             [
              0.8888888888888888,
              "#fdca26"
             ],
             [
              1,
              "#f0f921"
             ]
            ],
            "type": "surface"
           }
          ],
          "table": [
           {
            "cells": {
             "fill": {
              "color": "#EBF0F8"
             },
             "line": {
              "color": "white"
             }
            },
            "header": {
             "fill": {
              "color": "#C8D4E3"
             },
             "line": {
              "color": "white"
             }
            },
            "type": "table"
           }
          ]
         },
         "layout": {
          "annotationdefaults": {
           "arrowcolor": "#2a3f5f",
           "arrowhead": 0,
           "arrowwidth": 1
          },
          "autotypenumbers": "strict",
          "coloraxis": {
           "colorbar": {
            "outlinewidth": 0,
            "ticks": ""
           }
          },
          "colorscale": {
           "diverging": [
            [
             0,
             "#8e0152"
            ],
            [
             0.1,
             "#c51b7d"
            ],
            [
             0.2,
             "#de77ae"
            ],
            [
             0.3,
             "#f1b6da"
            ],
            [
             0.4,
             "#fde0ef"
            ],
            [
             0.5,
             "#f7f7f7"
            ],
            [
             0.6,
             "#e6f5d0"
            ],
            [
             0.7,
             "#b8e186"
            ],
            [
             0.8,
             "#7fbc41"
            ],
            [
             0.9,
             "#4d9221"
            ],
            [
             1,
             "#276419"
            ]
           ],
           "sequential": [
            [
             0,
             "#0d0887"
            ],
            [
             0.1111111111111111,
             "#46039f"
            ],
            [
             0.2222222222222222,
             "#7201a8"
            ],
            [
             0.3333333333333333,
             "#9c179e"
            ],
            [
             0.4444444444444444,
             "#bd3786"
            ],
            [
             0.5555555555555556,
             "#d8576b"
            ],
            [
             0.6666666666666666,
             "#ed7953"
            ],
            [
             0.7777777777777778,
             "#fb9f3a"
            ],
            [
             0.8888888888888888,
             "#fdca26"
            ],
            [
             1,
             "#f0f921"
            ]
           ],
           "sequentialminus": [
            [
             0,
             "#0d0887"
            ],
            [
             0.1111111111111111,
             "#46039f"
            ],
            [
             0.2222222222222222,
             "#7201a8"
            ],
            [
             0.3333333333333333,
             "#9c179e"
            ],
            [
             0.4444444444444444,
             "#bd3786"
            ],
            [
             0.5555555555555556,
             "#d8576b"
            ],
            [
             0.6666666666666666,
             "#ed7953"
            ],
            [
             0.7777777777777778,
             "#fb9f3a"
            ],
            [
             0.8888888888888888,
             "#fdca26"
            ],
            [
             1,
             "#f0f921"
            ]
           ]
          },
          "colorway": [
           "#636efa",
           "#EF553B",
           "#00cc96",
           "#ab63fa",
           "#FFA15A",
           "#19d3f3",
           "#FF6692",
           "#B6E880",
           "#FF97FF",
           "#FECB52"
          ],
          "font": {
           "color": "#2a3f5f"
          },
          "geo": {
           "bgcolor": "white",
           "lakecolor": "white",
           "landcolor": "#E5ECF6",
           "showlakes": true,
           "showland": true,
           "subunitcolor": "white"
          },
          "hoverlabel": {
           "align": "left"
          },
          "hovermode": "closest",
          "mapbox": {
           "style": "light"
          },
          "paper_bgcolor": "white",
          "plot_bgcolor": "#E5ECF6",
          "polar": {
           "angularaxis": {
            "gridcolor": "white",
            "linecolor": "white",
            "ticks": ""
           },
           "bgcolor": "#E5ECF6",
           "radialaxis": {
            "gridcolor": "white",
            "linecolor": "white",
            "ticks": ""
           }
          },
          "scene": {
           "xaxis": {
            "backgroundcolor": "#E5ECF6",
            "gridcolor": "white",
            "gridwidth": 2,
            "linecolor": "white",
            "showbackground": true,
            "ticks": "",
            "zerolinecolor": "white"
           },
           "yaxis": {
            "backgroundcolor": "#E5ECF6",
            "gridcolor": "white",
            "gridwidth": 2,
            "linecolor": "white",
            "showbackground": true,
            "ticks": "",
            "zerolinecolor": "white"
           },
           "zaxis": {
            "backgroundcolor": "#E5ECF6",
            "gridcolor": "white",
            "gridwidth": 2,
            "linecolor": "white",
            "showbackground": true,
            "ticks": "",
            "zerolinecolor": "white"
           }
          },
          "shapedefaults": {
           "line": {
            "color": "#2a3f5f"
           }
          },
          "ternary": {
           "aaxis": {
            "gridcolor": "white",
            "linecolor": "white",
            "ticks": ""
           },
           "baxis": {
            "gridcolor": "white",
            "linecolor": "white",
            "ticks": ""
           },
           "bgcolor": "#E5ECF6",
           "caxis": {
            "gridcolor": "white",
            "linecolor": "white",
            "ticks": ""
           }
          },
          "title": {
           "x": 0.05
          },
          "xaxis": {
           "automargin": true,
           "gridcolor": "white",
           "linecolor": "white",
           "ticks": "",
           "title": {
            "standoff": 15
           },
           "zerolinecolor": "white",
           "zerolinewidth": 2
          },
          "yaxis": {
           "automargin": true,
           "gridcolor": "white",
           "linecolor": "white",
           "ticks": "",
           "title": {
            "standoff": 15
           },
           "zerolinecolor": "white",
           "zerolinewidth": 2
          }
         }
        },
        "title": {
         "text": "Comparação da Classificação de COVID entre Remessas"
        },
        "xaxis": {
         "anchor": "y",
         "domain": [
          0,
          1
         ],
         "title": {
          "text": "Classificação de COVID"
         }
        },
        "yaxis": {
         "anchor": "x",
         "domain": [
          0,
          1
         ],
         "title": {
          "text": "count"
         }
        }
       }
      }
     },
     "metadata": {},
     "output_type": "display_data"
    }
   ],
   "source": [
    "#numero de individuos por remessa e nivel de infeccao\n",
    "\n",
    "remessa1 = df.loc[df['Onda_1_ate_nov2020_Onda_2_entre_nov_2020_e_dez2021'] == 1]\n",
    "remessa2 = df.loc[df['Onda_1_ate_nov2020_Onda_2_entre_nov_2020_e_dez2021'] == 2]\n",
    "\n",
    "remessa1['Remessa'] = 'Remessa 1'\n",
    "remessa2['Remessa'] = 'Remessa 2'\n",
    "\n",
    "df_concatenado = pd.concat([remessa1, remessa2])\n",
    "\n",
    "fig = px.histogram(df_concatenado, \n",
    "                   x='Classificacao_Covid', \n",
    "                   color='Remessa', \n",
    "                   barmode='group',\n",
    "                   title='Comparação da Classificação de COVID entre Remessas',\n",
    "                   labels={'Classificacao_Covid': 'Classificação de COVID', 'count': 'Quantidade de Indivíduos'},\n",
    "                   color_discrete_sequence=px.colors.qualitative.Set2)\n",
    "\n",
    "fig.show()\n"
   ]
  },
  {
   "cell_type": "code",
   "execution_count": 3,
   "metadata": {},
   "outputs": [
    {
     "name": "stdout",
     "output_type": "stream",
     "text": [
      "Classificacao_Covid\n",
      "2.0    42.295597\n",
      "3.0    22.169811\n",
      "5.0    16.666667\n",
      "4.0    13.993711\n",
      "1.0     4.874214\n",
      "Name: count, dtype: float64 Classificacao_Covid\n",
      " 2.0    36.117936\n",
      " 5.0    26.044226\n",
      " 4.0    18.918919\n",
      " 3.0    14.250614\n",
      " 1.0     4.422604\n",
      "-1.0     0.245700\n",
      "Name: count, dtype: float64\n"
     ]
    }
   ],
   "source": [
    "#normalizando para ver as porcentagens\n",
    "\n",
    "def load_data(file_path, sheet_name):\n",
    "    return pd.read_excel(file_path, sheet_name=sheet_name)\n",
    "\n",
    "file_path = '/home/lucasf/Desktop/Visualizacaodedados/Casoxcontrole_onda-GWAS_Fenotipos_e_covariaveis_revisado_CONGELADO.xlsx'\n",
    "sheet_name = 'Completa'\n",
    "df = load_data(file_path, sheet_name)\n",
    "df = df.fillna(-1)\n",
    "\n",
    "remessa1=df.loc[df['Onda_1_ate_nov2020_Onda_2_entre_nov_2020_e_dez2021']==1]\n",
    "remessa2=df.loc[df['Onda_1_ate_nov2020_Onda_2_entre_nov_2020_e_dez2021']==2]\n",
    "\n",
    "contagem1 = remessa1['Classificacao_Covid'].value_counts()\n",
    "contagem2 = remessa2['Classificacao_Covid'].value_counts()\n",
    "\n",
    "porcentagens1 = contagem1 * 100 / len(remessa1)\n",
    "porcentagens2 = contagem2 * 100 / len(remessa2)\n",
    "\n",
    "print(porcentagens1, porcentagens2)\n",
    "\n"
   ]
  },
  {
   "cell_type": "code",
   "execution_count": null,
   "metadata": {},
   "outputs": [],
   "source": [
    "def load_data(file_path, sheet_name):\n",
    "    return pd.read_excel(file_path, sheet_name=sheet_name)\n",
    "\n",
    "file_path = '/home/lucasf/Desktop/Visualizacaodedados/Casoxcontrole_onda-GWAS_Fenotipos_e_covariaveis_revisado_CONGELADO.xlsx'\n",
    "sheet_name = 'Completa'\n",
    "df = load_data(file_path, sheet_name)\n",
    "df = df.fillna(-1)\n",
    "\n",
    "sim=df.loc[df['TABAGISMO']==3]\n",
    "nao=df.loc[df['TABAGISMO']==2]"
   ]
  },
  {
   "cell_type": "code",
   "execution_count": 6,
   "metadata": {},
   "outputs": [
    {
     "data": {
      "image/png": "[encoded data removed]",
      "text/plain": [
       "<Figure size 640x480 with 1 Axes>"
      ]
     },
     "metadata": {},
     "output_type": "display_data"
    }
   ],
   "source": [
    "import pandas as pd\n",
    "import matplotlib.pyplot as plt\n",
    "\n",
    "# Função para carregar dados\n",
    "def load_data(file_path, sheet_name):\n",
    "    return pd.read_excel(file_path, sheet_name=sheet_name)\n",
    "\n",
    "# Carregar os dados\n",
    "file_path = '/home/lucasf/Desktop/Visualizacaodedados/Casoxcontrole_onda-GWAS_Fenotipos_e_covariaveis_revisado_CONGELADO.xlsx'\n",
    "sheet_name = 'Completa'\n",
    "df = load_data(file_path, sheet_name)\n",
    "df = df.fillna(-1)\n",
    "\n",
    "# Filtrar os dados\n",
    "sim = df.loc[df['TABAGISMO'] == 3]\n",
    "nao = df.loc[df['TABAGISMO'] == 2]\n",
    "\n",
    "# Verificar se a coluna 'Classificacao_Covid' está presente\n",
    "if 'Classificacao_Covid' not in df.columns:\n",
    "    print(\"A coluna 'Classificacao_Covid' não está presente no dataframe.\")\n",
    "else:\n",
    "    # Definir a faixa de valores para Classificacao_Covid\n",
    "    classificacao_values = range(1, 6)\n",
    "\n",
    "    # Contar a frequência de valores na coluna 'Classificacao_Covid' para cada grupo\n",
    "    sim_counts = sim['Classificacao_Covid'].value_counts().reindex(classificacao_values, fill_value=0)\n",
    "    nao_counts = nao['Classificacao_Covid'].value_counts().reindex(classificacao_values, fill_value=0)\n",
    "\n",
    "    # Criar um DataFrame para os dados contados\n",
    "    counts_df = pd.DataFrame({\n",
    "        'Sim (Tabagismo 3)': sim_counts,\n",
    "        'Não (Tabagismo 2)': nao_counts\n",
    "    })\n",
    "\n",
    "    # Plotar os dados\n",
    "    counts_df.plot(kind='line', marker='o')\n",
    "    plt.xlabel('Classificacao_Covid')\n",
    "    plt.ylabel('Frequência')\n",
    "    plt.title('Distribuição de Classificacao_Covid por Grupo de Tabagismo')\n",
    "    plt.legend(title='Grupo')\n",
    "    plt.grid(True)\n",
    "    plt.show()\n"
   ]
  },
  {
   "cell_type": "code",
   "execution_count": 5,
   "metadata": {},
   "outputs": [
    {
     "data": {
      "text/html": [
       "<div>\n",
       "<style scoped>\n",
       "    .dataframe tbody tr th:only-of-type {\n",
       "        vertical-align: middle;\n",
       "    }\n",
       "\n",
       "    .dataframe tbody tr th {\n",
       "        vertical-align: top;\n",
       "    }\n",
       "\n",
       "    .dataframe thead th {\n",
       "        text-align: right;\n",
       "    }\n",
       "</style>\n",
       "<table border=\"1\" class=\"dataframe\">\n",
       "  <thead>\n",
       "    <tr style=\"text-align: right;\">\n",
       "      <th></th>\n",
       "      <th>ID_genotipagem</th>\n",
       "      <th>Identificacao_amostra</th>\n",
       "      <th>Codigo_centro_coleta</th>\n",
       "      <th>Codigo_classes_de_coleta</th>\n",
       "      <th>Classificacao_Covid</th>\n",
       "      <th>Vacina_contra_Covid_antes_da_doenca</th>\n",
       "      <th>Onda_1_ate_nov2020_Onda_2_entre_nov_2020_e_dez2021</th>\n",
       "      <th>UF_COLETA</th>\n",
       "      <th>GENERO</th>\n",
       "      <th>IDADE_(anos)</th>\n",
       "      <th>...</th>\n",
       "      <th>PC11</th>\n",
       "      <th>PC12</th>\n",
       "      <th>PC13</th>\n",
       "      <th>PC14</th>\n",
       "      <th>PC15</th>\n",
       "      <th>PC16</th>\n",
       "      <th>PC17</th>\n",
       "      <th>PC18</th>\n",
       "      <th>PC19</th>\n",
       "      <th>PC20</th>\n",
       "    </tr>\n",
       "  </thead>\n",
       "  <tbody>\n",
       "    <tr>\n",
       "      <th>24</th>\n",
       "      <td>121_fiocruz_placa_02_C01_MV.CEL</td>\n",
       "      <td>PSVG_121</td>\n",
       "      <td>52.0</td>\n",
       "      <td>5.0</td>\n",
       "      <td>2.0</td>\n",
       "      <td>0.0</td>\n",
       "      <td>1.0</td>\n",
       "      <td>MT</td>\n",
       "      <td>1.0</td>\n",
       "      <td>53.000000</td>\n",
       "      <td>...</td>\n",
       "      <td>0.0038</td>\n",
       "      <td>-0.0024</td>\n",
       "      <td>0.0007</td>\n",
       "      <td>-0.0059</td>\n",
       "      <td>-0.0026</td>\n",
       "      <td>0.0126</td>\n",
       "      <td>-0.0020</td>\n",
       "      <td>-0.0027</td>\n",
       "      <td>0.0025</td>\n",
       "      <td>0.0104</td>\n",
       "    </tr>\n",
       "    <tr>\n",
       "      <th>35</th>\n",
       "      <td>131_fiocruz_placa_02_C11_MV.CEL</td>\n",
       "      <td>PSVG_131</td>\n",
       "      <td>52.0</td>\n",
       "      <td>5.0</td>\n",
       "      <td>2.0</td>\n",
       "      <td>0.0</td>\n",
       "      <td>1.0</td>\n",
       "      <td>MT</td>\n",
       "      <td>2.0</td>\n",
       "      <td>36.000000</td>\n",
       "      <td>...</td>\n",
       "      <td>0.0050</td>\n",
       "      <td>-0.0074</td>\n",
       "      <td>0.0023</td>\n",
       "      <td>0.0055</td>\n",
       "      <td>0.0009</td>\n",
       "      <td>0.0064</td>\n",
       "      <td>-0.0013</td>\n",
       "      <td>0.0023</td>\n",
       "      <td>-0.0003</td>\n",
       "      <td>-0.0123</td>\n",
       "    </tr>\n",
       "    <tr>\n",
       "      <th>50</th>\n",
       "      <td>145_fiocruz_placa_02_E01_MV.CEL</td>\n",
       "      <td>PSVG_145</td>\n",
       "      <td>52.0</td>\n",
       "      <td>5.0</td>\n",
       "      <td>2.0</td>\n",
       "      <td>0.0</td>\n",
       "      <td>1.0</td>\n",
       "      <td>MT</td>\n",
       "      <td>2.0</td>\n",
       "      <td>66.000000</td>\n",
       "      <td>...</td>\n",
       "      <td>0.0000</td>\n",
       "      <td>0.0025</td>\n",
       "      <td>0.0048</td>\n",
       "      <td>0.0001</td>\n",
       "      <td>-0.0154</td>\n",
       "      <td>-0.0016</td>\n",
       "      <td>-0.0077</td>\n",
       "      <td>-0.0020</td>\n",
       "      <td>0.0010</td>\n",
       "      <td>0.0026</td>\n",
       "    </tr>\n",
       "    <tr>\n",
       "      <th>298</th>\n",
       "      <td>230_fiocruz_placa_03_D02_MV.CEL</td>\n",
       "      <td>PSGHC_133</td>\n",
       "      <td>66.0</td>\n",
       "      <td>1.0</td>\n",
       "      <td>2.0</td>\n",
       "      <td>0.0</td>\n",
       "      <td>1.0</td>\n",
       "      <td>RS</td>\n",
       "      <td>2.0</td>\n",
       "      <td>39.296372</td>\n",
       "      <td>...</td>\n",
       "      <td>0.0056</td>\n",
       "      <td>-0.0015</td>\n",
       "      <td>0.0010</td>\n",
       "      <td>-0.0009</td>\n",
       "      <td>-0.0081</td>\n",
       "      <td>-0.0023</td>\n",
       "      <td>-0.0009</td>\n",
       "      <td>-0.0006</td>\n",
       "      <td>0.0058</td>\n",
       "      <td>-0.0021</td>\n",
       "    </tr>\n",
       "    <tr>\n",
       "      <th>299</th>\n",
       "      <td>231_fiocruz_placa_03_D03_MV.CEL</td>\n",
       "      <td>PSGHC_134</td>\n",
       "      <td>66.0</td>\n",
       "      <td>1.0</td>\n",
       "      <td>2.0</td>\n",
       "      <td>0.0</td>\n",
       "      <td>1.0</td>\n",
       "      <td>RS</td>\n",
       "      <td>2.0</td>\n",
       "      <td>61.000000</td>\n",
       "      <td>...</td>\n",
       "      <td>0.0046</td>\n",
       "      <td>-0.0004</td>\n",
       "      <td>0.0028</td>\n",
       "      <td>0.0013</td>\n",
       "      <td>-0.0045</td>\n",
       "      <td>0.0023</td>\n",
       "      <td>0.0010</td>\n",
       "      <td>-0.0012</td>\n",
       "      <td>0.0029</td>\n",
       "      <td>0.0064</td>\n",
       "    </tr>\n",
       "    <tr>\n",
       "      <th>336</th>\n",
       "      <td>265_fiocruz_placa_03_G01_MV.CEL</td>\n",
       "      <td>202001952</td>\n",
       "      <td>63.0</td>\n",
       "      <td>1.0</td>\n",
       "      <td>2.0</td>\n",
       "      <td>0.0</td>\n",
       "      <td>1.0</td>\n",
       "      <td>RJ</td>\n",
       "      <td>1.0</td>\n",
       "      <td>29.000000</td>\n",
       "      <td>...</td>\n",
       "      <td>-0.0031</td>\n",
       "      <td>0.0008</td>\n",
       "      <td>0.0006</td>\n",
       "      <td>-0.0035</td>\n",
       "      <td>-0.0045</td>\n",
       "      <td>0.0023</td>\n",
       "      <td>-0.0015</td>\n",
       "      <td>-0.0006</td>\n",
       "      <td>-0.0024</td>\n",
       "      <td>-0.0005</td>\n",
       "    </tr>\n",
       "    <tr>\n",
       "      <th>353</th>\n",
       "      <td>280_fiocruz_placa_03_H04_MV.CEL</td>\n",
       "      <td>202003332</td>\n",
       "      <td>63.0</td>\n",
       "      <td>1.0</td>\n",
       "      <td>2.0</td>\n",
       "      <td>0.0</td>\n",
       "      <td>1.0</td>\n",
       "      <td>RJ</td>\n",
       "      <td>2.0</td>\n",
       "      <td>47.000000</td>\n",
       "      <td>...</td>\n",
       "      <td>0.0131</td>\n",
       "      <td>0.0003</td>\n",
       "      <td>-0.0051</td>\n",
       "      <td>-0.0048</td>\n",
       "      <td>-0.0055</td>\n",
       "      <td>0.0104</td>\n",
       "      <td>-0.0040</td>\n",
       "      <td>-0.0036</td>\n",
       "      <td>0.0001</td>\n",
       "      <td>0.0039</td>\n",
       "    </tr>\n",
       "    <tr>\n",
       "      <th>379</th>\n",
       "      <td>303_fiocruz_placa_04_B03_MV.CEL</td>\n",
       "      <td>202001999</td>\n",
       "      <td>63.0</td>\n",
       "      <td>1.0</td>\n",
       "      <td>2.0</td>\n",
       "      <td>0.0</td>\n",
       "      <td>1.0</td>\n",
       "      <td>RJ</td>\n",
       "      <td>1.0</td>\n",
       "      <td>31.000000</td>\n",
       "      <td>...</td>\n",
       "      <td>0.0079</td>\n",
       "      <td>0.0026</td>\n",
       "      <td>-0.0036</td>\n",
       "      <td>0.0011</td>\n",
       "      <td>-0.0046</td>\n",
       "      <td>-0.0056</td>\n",
       "      <td>0.0026</td>\n",
       "      <td>0.0003</td>\n",
       "      <td>-0.0039</td>\n",
       "      <td>-0.0097</td>\n",
       "    </tr>\n",
       "    <tr>\n",
       "      <th>388</th>\n",
       "      <td>312_fiocruz_placa_04_B12_MV.CEL</td>\n",
       "      <td>202012009</td>\n",
       "      <td>63.0</td>\n",
       "      <td>1.0</td>\n",
       "      <td>2.0</td>\n",
       "      <td>0.0</td>\n",
       "      <td>1.0</td>\n",
       "      <td>RJ</td>\n",
       "      <td>1.0</td>\n",
       "      <td>61.000000</td>\n",
       "      <td>...</td>\n",
       "      <td>-0.0014</td>\n",
       "      <td>0.0004</td>\n",
       "      <td>0.0020</td>\n",
       "      <td>-0.0020</td>\n",
       "      <td>0.0037</td>\n",
       "      <td>-0.0058</td>\n",
       "      <td>-0.0072</td>\n",
       "      <td>0.0081</td>\n",
       "      <td>0.0002</td>\n",
       "      <td>0.0002</td>\n",
       "    </tr>\n",
       "    <tr>\n",
       "      <th>450</th>\n",
       "      <td>370_fiocruz_placa_04_G10_MV.CEL</td>\n",
       "      <td>221_AVB</td>\n",
       "      <td>64.0</td>\n",
       "      <td>5.0</td>\n",
       "      <td>2.0</td>\n",
       "      <td>0.0</td>\n",
       "      <td>1.0</td>\n",
       "      <td>RJ</td>\n",
       "      <td>2.0</td>\n",
       "      <td>46.000000</td>\n",
       "      <td>...</td>\n",
       "      <td>0.0026</td>\n",
       "      <td>-0.0053</td>\n",
       "      <td>-0.0056</td>\n",
       "      <td>-0.0079</td>\n",
       "      <td>-0.0043</td>\n",
       "      <td>-0.0075</td>\n",
       "      <td>0.0006</td>\n",
       "      <td>-0.0059</td>\n",
       "      <td>0.0040</td>\n",
       "      <td>0.0034</td>\n",
       "    </tr>\n",
       "    <tr>\n",
       "      <th>554</th>\n",
       "      <td>468_fiocruz_placa_05_G12_MV.CEL</td>\n",
       "      <td>CLIN_COV_010_</td>\n",
       "      <td>54.0</td>\n",
       "      <td>1.0</td>\n",
       "      <td>2.0</td>\n",
       "      <td>0.0</td>\n",
       "      <td>1.0</td>\n",
       "      <td>PA</td>\n",
       "      <td>1.0</td>\n",
       "      <td>38.000000</td>\n",
       "      <td>...</td>\n",
       "      <td>0.0073</td>\n",
       "      <td>0.0055</td>\n",
       "      <td>-0.0039</td>\n",
       "      <td>0.0043</td>\n",
       "      <td>-0.0030</td>\n",
       "      <td>0.0199</td>\n",
       "      <td>0.0123</td>\n",
       "      <td>0.0033</td>\n",
       "      <td>0.0125</td>\n",
       "      <td>0.0008</td>\n",
       "    </tr>\n",
       "    <tr>\n",
       "      <th>569</th>\n",
       "      <td>481_fiocruz_placa_06_ok_A01_MV.CEL</td>\n",
       "      <td>CLIN_COV_032</td>\n",
       "      <td>54.0</td>\n",
       "      <td>1.0</td>\n",
       "      <td>2.0</td>\n",
       "      <td>0.0</td>\n",
       "      <td>1.0</td>\n",
       "      <td>PA</td>\n",
       "      <td>2.0</td>\n",
       "      <td>28.000000</td>\n",
       "      <td>...</td>\n",
       "      <td>-0.0030</td>\n",
       "      <td>-0.0029</td>\n",
       "      <td>-0.0020</td>\n",
       "      <td>-0.0043</td>\n",
       "      <td>-0.0023</td>\n",
       "      <td>0.0136</td>\n",
       "      <td>0.0082</td>\n",
       "      <td>0.0066</td>\n",
       "      <td>0.0079</td>\n",
       "      <td>0.0106</td>\n",
       "    </tr>\n",
       "    <tr>\n",
       "      <th>631</th>\n",
       "      <td>538_fiocruz_placa_06_ok_E10_MV.CEL</td>\n",
       "      <td>CLIN_COV_535</td>\n",
       "      <td>55.0</td>\n",
       "      <td>1.0</td>\n",
       "      <td>2.0</td>\n",
       "      <td>0.0</td>\n",
       "      <td>1.0</td>\n",
       "      <td>PA</td>\n",
       "      <td>2.0</td>\n",
       "      <td>26.000000</td>\n",
       "      <td>...</td>\n",
       "      <td>0.0044</td>\n",
       "      <td>-0.0004</td>\n",
       "      <td>0.0013</td>\n",
       "      <td>0.0031</td>\n",
       "      <td>-0.0067</td>\n",
       "      <td>0.0052</td>\n",
       "      <td>0.0085</td>\n",
       "      <td>-0.0075</td>\n",
       "      <td>0.0013</td>\n",
       "      <td>-0.0015</td>\n",
       "    </tr>\n",
       "    <tr>\n",
       "      <th>632</th>\n",
       "      <td>539_fiocruz_placa_06_ok_E11_MV.CEL</td>\n",
       "      <td>CLIN_COV_536</td>\n",
       "      <td>55.0</td>\n",
       "      <td>1.0</td>\n",
       "      <td>2.0</td>\n",
       "      <td>0.0</td>\n",
       "      <td>1.0</td>\n",
       "      <td>PA</td>\n",
       "      <td>1.0</td>\n",
       "      <td>33.000000</td>\n",
       "      <td>...</td>\n",
       "      <td>-0.0011</td>\n",
       "      <td>0.0027</td>\n",
       "      <td>-0.0016</td>\n",
       "      <td>-0.0066</td>\n",
       "      <td>-0.0003</td>\n",
       "      <td>0.0091</td>\n",
       "      <td>0.0017</td>\n",
       "      <td>0.0079</td>\n",
       "      <td>0.0055</td>\n",
       "      <td>0.0017</td>\n",
       "    </tr>\n",
       "    <tr>\n",
       "      <th>676</th>\n",
       "      <td>579_fiocruz_placa_07_A03_MV.CEL</td>\n",
       "      <td>CLIN_COV_822</td>\n",
       "      <td>56.0</td>\n",
       "      <td>3.0</td>\n",
       "      <td>2.0</td>\n",
       "      <td>0.0</td>\n",
       "      <td>1.0</td>\n",
       "      <td>PA</td>\n",
       "      <td>2.0</td>\n",
       "      <td>34.000000</td>\n",
       "      <td>...</td>\n",
       "      <td>0.0036</td>\n",
       "      <td>-0.0010</td>\n",
       "      <td>-0.0015</td>\n",
       "      <td>-0.0028</td>\n",
       "      <td>-0.0009</td>\n",
       "      <td>0.0216</td>\n",
       "      <td>0.0160</td>\n",
       "      <td>0.0000</td>\n",
       "      <td>0.0056</td>\n",
       "      <td>0.0033</td>\n",
       "    </tr>\n",
       "    <tr>\n",
       "      <th>686</th>\n",
       "      <td>588_fiocruz_placa_07_A12_MV.CEL</td>\n",
       "      <td>CLIN_COV_831</td>\n",
       "      <td>56.0</td>\n",
       "      <td>3.0</td>\n",
       "      <td>2.0</td>\n",
       "      <td>0.0</td>\n",
       "      <td>1.0</td>\n",
       "      <td>PA</td>\n",
       "      <td>2.0</td>\n",
       "      <td>45.000000</td>\n",
       "      <td>...</td>\n",
       "      <td>0.0004</td>\n",
       "      <td>-0.0013</td>\n",
       "      <td>-0.0032</td>\n",
       "      <td>-0.0034</td>\n",
       "      <td>0.0007</td>\n",
       "      <td>0.0191</td>\n",
       "      <td>0.0048</td>\n",
       "      <td>0.0010</td>\n",
       "      <td>0.0130</td>\n",
       "      <td>-0.0003</td>\n",
       "    </tr>\n",
       "    <tr>\n",
       "      <th>714</th>\n",
       "      <td>613_fiocruz_placa_07_D01_MV.CEL</td>\n",
       "      <td>CLIN_COV_861</td>\n",
       "      <td>56.0</td>\n",
       "      <td>3.0</td>\n",
       "      <td>2.0</td>\n",
       "      <td>0.0</td>\n",
       "      <td>1.0</td>\n",
       "      <td>PA</td>\n",
       "      <td>2.0</td>\n",
       "      <td>27.000000</td>\n",
       "      <td>...</td>\n",
       "      <td>-0.0010</td>\n",
       "      <td>-0.0024</td>\n",
       "      <td>0.0000</td>\n",
       "      <td>-0.0002</td>\n",
       "      <td>0.0002</td>\n",
       "      <td>0.0113</td>\n",
       "      <td>0.0043</td>\n",
       "      <td>-0.0024</td>\n",
       "      <td>0.0082</td>\n",
       "      <td>0.0090</td>\n",
       "    </tr>\n",
       "    <tr>\n",
       "      <th>730</th>\n",
       "      <td>628_fiocruz_placa_07_E04_MV.CEL</td>\n",
       "      <td>CLIN_COV_879</td>\n",
       "      <td>56.0</td>\n",
       "      <td>3.0</td>\n",
       "      <td>2.0</td>\n",
       "      <td>0.0</td>\n",
       "      <td>1.0</td>\n",
       "      <td>PA</td>\n",
       "      <td>1.0</td>\n",
       "      <td>57.000000</td>\n",
       "      <td>...</td>\n",
       "      <td>0.0074</td>\n",
       "      <td>-0.0057</td>\n",
       "      <td>0.0005</td>\n",
       "      <td>0.0005</td>\n",
       "      <td>-0.0021</td>\n",
       "      <td>0.0071</td>\n",
       "      <td>0.0056</td>\n",
       "      <td>0.0008</td>\n",
       "      <td>0.0054</td>\n",
       "      <td>-0.0022</td>\n",
       "    </tr>\n",
       "    <tr>\n",
       "      <th>734</th>\n",
       "      <td>631_fiocruz_placa_07_E07_MV.CEL</td>\n",
       "      <td>CLIN_COV_882</td>\n",
       "      <td>56.0</td>\n",
       "      <td>3.0</td>\n",
       "      <td>2.0</td>\n",
       "      <td>0.0</td>\n",
       "      <td>1.0</td>\n",
       "      <td>PA</td>\n",
       "      <td>2.0</td>\n",
       "      <td>54.000000</td>\n",
       "      <td>...</td>\n",
       "      <td>0.0001</td>\n",
       "      <td>-0.0016</td>\n",
       "      <td>0.0006</td>\n",
       "      <td>0.0022</td>\n",
       "      <td>-0.0063</td>\n",
       "      <td>0.0169</td>\n",
       "      <td>0.0098</td>\n",
       "      <td>-0.0066</td>\n",
       "      <td>0.0082</td>\n",
       "      <td>0.0058</td>\n",
       "    </tr>\n",
       "    <tr>\n",
       "      <th>753</th>\n",
       "      <td>650_fiocruz_placa_07_G02_MV.CEL</td>\n",
       "      <td>CLIN_COV_905</td>\n",
       "      <td>56.0</td>\n",
       "      <td>3.0</td>\n",
       "      <td>2.0</td>\n",
       "      <td>0.0</td>\n",
       "      <td>1.0</td>\n",
       "      <td>PA</td>\n",
       "      <td>2.0</td>\n",
       "      <td>54.000000</td>\n",
       "      <td>...</td>\n",
       "      <td>0.0004</td>\n",
       "      <td>0.0036</td>\n",
       "      <td>0.0001</td>\n",
       "      <td>0.0023</td>\n",
       "      <td>0.0031</td>\n",
       "      <td>0.0089</td>\n",
       "      <td>0.0059</td>\n",
       "      <td>0.0010</td>\n",
       "      <td>-0.0012</td>\n",
       "      <td>0.0101</td>\n",
       "    </tr>\n",
       "    <tr>\n",
       "      <th>881</th>\n",
       "      <td>770_fiocruzplaca09_A02_MV</td>\n",
       "      <td>A.2.1.1.4_irmao_A.2.2.1.4</td>\n",
       "      <td>51.0</td>\n",
       "      <td>1.0</td>\n",
       "      <td>2.0</td>\n",
       "      <td>0.0</td>\n",
       "      <td>1.0</td>\n",
       "      <td>MG</td>\n",
       "      <td>2.0</td>\n",
       "      <td>21.000000</td>\n",
       "      <td>...</td>\n",
       "      <td>-0.0061</td>\n",
       "      <td>-0.0013</td>\n",
       "      <td>0.0084</td>\n",
       "      <td>0.0121</td>\n",
       "      <td>-0.0014</td>\n",
       "      <td>0.0054</td>\n",
       "      <td>-0.0005</td>\n",
       "      <td>-0.0022</td>\n",
       "      <td>-0.0100</td>\n",
       "      <td>-0.0065</td>\n",
       "    </tr>\n",
       "    <tr>\n",
       "      <th>916</th>\n",
       "      <td>805_fiocruzplaca09_D01_MV</td>\n",
       "      <td>A.39.1.4</td>\n",
       "      <td>51.0</td>\n",
       "      <td>1.0</td>\n",
       "      <td>2.0</td>\n",
       "      <td>0.0</td>\n",
       "      <td>2.0</td>\n",
       "      <td>MG</td>\n",
       "      <td>2.0</td>\n",
       "      <td>25.000000</td>\n",
       "      <td>...</td>\n",
       "      <td>-0.0011</td>\n",
       "      <td>-0.0078</td>\n",
       "      <td>0.0018</td>\n",
       "      <td>-0.0026</td>\n",
       "      <td>0.0023</td>\n",
       "      <td>0.0036</td>\n",
       "      <td>-0.0066</td>\n",
       "      <td>-0.0035</td>\n",
       "      <td>-0.0086</td>\n",
       "      <td>0.0076</td>\n",
       "    </tr>\n",
       "    <tr>\n",
       "      <th>917</th>\n",
       "      <td>806_fiocruzplaca09_D02_MV</td>\n",
       "      <td>A.40.1.4</td>\n",
       "      <td>51.0</td>\n",
       "      <td>1.0</td>\n",
       "      <td>2.0</td>\n",
       "      <td>0.0</td>\n",
       "      <td>2.0</td>\n",
       "      <td>MG</td>\n",
       "      <td>2.0</td>\n",
       "      <td>32.000000</td>\n",
       "      <td>...</td>\n",
       "      <td>0.0016</td>\n",
       "      <td>0.0019</td>\n",
       "      <td>0.0020</td>\n",
       "      <td>-0.0005</td>\n",
       "      <td>-0.0022</td>\n",
       "      <td>-0.0014</td>\n",
       "      <td>-0.0004</td>\n",
       "      <td>0.0015</td>\n",
       "      <td>-0.0013</td>\n",
       "      <td>-0.0002</td>\n",
       "    </tr>\n",
       "    <tr>\n",
       "      <th>929</th>\n",
       "      <td>819_fiocruzplaca09_E03_MV</td>\n",
       "      <td>A.56.1.1</td>\n",
       "      <td>51.0</td>\n",
       "      <td>1.0</td>\n",
       "      <td>2.0</td>\n",
       "      <td>0.0</td>\n",
       "      <td>2.0</td>\n",
       "      <td>MG</td>\n",
       "      <td>2.0</td>\n",
       "      <td>46.000000</td>\n",
       "      <td>...</td>\n",
       "      <td>-0.0022</td>\n",
       "      <td>-0.0027</td>\n",
       "      <td>-0.0010</td>\n",
       "      <td>-0.0004</td>\n",
       "      <td>0.0025</td>\n",
       "      <td>-0.0006</td>\n",
       "      <td>-0.0058</td>\n",
       "      <td>-0.0031</td>\n",
       "      <td>0.0028</td>\n",
       "      <td>-0.0031</td>\n",
       "    </tr>\n",
       "    <tr>\n",
       "      <th>945</th>\n",
       "      <td>860_fiocruzplaca09_H08_MV</td>\n",
       "      <td>A.47.2.4</td>\n",
       "      <td>51.0</td>\n",
       "      <td>1.0</td>\n",
       "      <td>2.0</td>\n",
       "      <td>0.0</td>\n",
       "      <td>2.0</td>\n",
       "      <td>MG</td>\n",
       "      <td>2.0</td>\n",
       "      <td>39.000000</td>\n",
       "      <td>...</td>\n",
       "      <td>0.0091</td>\n",
       "      <td>-0.0027</td>\n",
       "      <td>0.0026</td>\n",
       "      <td>-0.0040</td>\n",
       "      <td>0.0019</td>\n",
       "      <td>0.0071</td>\n",
       "      <td>-0.0045</td>\n",
       "      <td>0.0060</td>\n",
       "      <td>-0.0033</td>\n",
       "      <td>0.0180</td>\n",
       "    </tr>\n",
       "    <tr>\n",
       "      <th>1021</th>\n",
       "      <td>943_fiocruzplaca10_G07_MV</td>\n",
       "      <td>202130257</td>\n",
       "      <td>60.0</td>\n",
       "      <td>4.0</td>\n",
       "      <td>2.0</td>\n",
       "      <td>0.0</td>\n",
       "      <td>1.0</td>\n",
       "      <td>GO</td>\n",
       "      <td>2.0</td>\n",
       "      <td>37.000000</td>\n",
       "      <td>...</td>\n",
       "      <td>-0.0022</td>\n",
       "      <td>0.0013</td>\n",
       "      <td>-0.0009</td>\n",
       "      <td>-0.0015</td>\n",
       "      <td>0.0009</td>\n",
       "      <td>0.0058</td>\n",
       "      <td>0.0021</td>\n",
       "      <td>0.0057</td>\n",
       "      <td>0.0028</td>\n",
       "      <td>-0.0071</td>\n",
       "    </tr>\n",
       "    <tr>\n",
       "      <th>1032</th>\n",
       "      <td>953_fiocruzplaca10_H05_MV</td>\n",
       "      <td>202127057</td>\n",
       "      <td>69.0</td>\n",
       "      <td>3.0</td>\n",
       "      <td>2.0</td>\n",
       "      <td>0.0</td>\n",
       "      <td>1.0</td>\n",
       "      <td>SC</td>\n",
       "      <td>2.0</td>\n",
       "      <td>21.000000</td>\n",
       "      <td>...</td>\n",
       "      <td>-0.0027</td>\n",
       "      <td>-0.0055</td>\n",
       "      <td>0.0030</td>\n",
       "      <td>-0.0012</td>\n",
       "      <td>0.0013</td>\n",
       "      <td>0.0018</td>\n",
       "      <td>-0.0063</td>\n",
       "      <td>0.0030</td>\n",
       "      <td>0.0083</td>\n",
       "      <td>0.0154</td>\n",
       "    </tr>\n",
       "  </tbody>\n",
       "</table>\n",
       "<p>27 rows × 54 columns</p>\n",
       "</div>"
      ],
      "text/plain": [
       "                          ID_genotipagem      Identificacao_amostra  \\\n",
       "24       121_fiocruz_placa_02_C01_MV.CEL                   PSVG_121   \n",
       "35       131_fiocruz_placa_02_C11_MV.CEL                   PSVG_131   \n",
       "50       145_fiocruz_placa_02_E01_MV.CEL                   PSVG_145   \n",
       "298      230_fiocruz_placa_03_D02_MV.CEL                  PSGHC_133   \n",
       "299      231_fiocruz_placa_03_D03_MV.CEL                  PSGHC_134   \n",
       "336      265_fiocruz_placa_03_G01_MV.CEL                  202001952   \n",
       "353      280_fiocruz_placa_03_H04_MV.CEL                  202003332   \n",
       "379      303_fiocruz_placa_04_B03_MV.CEL                  202001999   \n",
       "388      312_fiocruz_placa_04_B12_MV.CEL                  202012009   \n",
       "450      370_fiocruz_placa_04_G10_MV.CEL                    221_AVB   \n",
       "554      468_fiocruz_placa_05_G12_MV.CEL              CLIN_COV_010_   \n",
       "569   481_fiocruz_placa_06_ok_A01_MV.CEL               CLIN_COV_032   \n",
       "631   538_fiocruz_placa_06_ok_E10_MV.CEL               CLIN_COV_535   \n",
       "632   539_fiocruz_placa_06_ok_E11_MV.CEL               CLIN_COV_536   \n",
       "676      579_fiocruz_placa_07_A03_MV.CEL               CLIN_COV_822   \n",
       "686      588_fiocruz_placa_07_A12_MV.CEL               CLIN_COV_831   \n",
       "714      613_fiocruz_placa_07_D01_MV.CEL               CLIN_COV_861   \n",
       "730      628_fiocruz_placa_07_E04_MV.CEL               CLIN_COV_879   \n",
       "734      631_fiocruz_placa_07_E07_MV.CEL               CLIN_COV_882   \n",
       "753      650_fiocruz_placa_07_G02_MV.CEL               CLIN_COV_905   \n",
       "881            770_fiocruzplaca09_A02_MV  A.2.1.1.4_irmao_A.2.2.1.4   \n",
       "916            805_fiocruzplaca09_D01_MV                   A.39.1.4   \n",
       "917            806_fiocruzplaca09_D02_MV                   A.40.1.4   \n",
       "929            819_fiocruzplaca09_E03_MV                   A.56.1.1   \n",
       "945            860_fiocruzplaca09_H08_MV                   A.47.2.4   \n",
       "1021           943_fiocruzplaca10_G07_MV                  202130257   \n",
       "1032           953_fiocruzplaca10_H05_MV                  202127057   \n",
       "\n",
       "      Codigo_centro_coleta  Codigo_classes_de_coleta  Classificacao_Covid  \\\n",
       "24                    52.0                       5.0                  2.0   \n",
       "35                    52.0                       5.0                  2.0   \n",
       "50                    52.0                       5.0                  2.0   \n",
       "298                   66.0                       1.0                  2.0   \n",
       "299                   66.0                       1.0                  2.0   \n",
       "336                   63.0                       1.0                  2.0   \n",
       "353                   63.0                       1.0                  2.0   \n",
       "379                   63.0                       1.0                  2.0   \n",
       "388                   63.0                       1.0                  2.0   \n",
       "450                   64.0                       5.0                  2.0   \n",
       "554                   54.0                       1.0                  2.0   \n",
       "569                   54.0                       1.0                  2.0   \n",
       "631                   55.0                       1.0                  2.0   \n",
       "632                   55.0                       1.0                  2.0   \n",
       "676                   56.0                       3.0                  2.0   \n",
       "686                   56.0                       3.0                  2.0   \n",
       "714                   56.0                       3.0                  2.0   \n",
       "730                   56.0                       3.0                  2.0   \n",
       "734                   56.0                       3.0                  2.0   \n",
       "753                   56.0                       3.0                  2.0   \n",
       "881                   51.0                       1.0                  2.0   \n",
       "916                   51.0                       1.0                  2.0   \n",
       "917                   51.0                       1.0                  2.0   \n",
       "929                   51.0                       1.0                  2.0   \n",
       "945                   51.0                       1.0                  2.0   \n",
       "1021                  60.0                       4.0                  2.0   \n",
       "1032                  69.0                       3.0                  2.0   \n",
       "\n",
       "      Vacina_contra_Covid_antes_da_doenca  \\\n",
       "24                                    0.0   \n",
       "35                                    0.0   \n",
       "50                                    0.0   \n",
       "298                                   0.0   \n",
       "299                                   0.0   \n",
       "336                                   0.0   \n",
       "353                                   0.0   \n",
       "379                                   0.0   \n",
       "388                                   0.0   \n",
       "450                                   0.0   \n",
       "554                                   0.0   \n",
       "569                                   0.0   \n",
       "631                                   0.0   \n",
       "632                                   0.0   \n",
       "676                                   0.0   \n",
       "686                                   0.0   \n",
       "714                                   0.0   \n",
       "730                                   0.0   \n",
       "734                                   0.0   \n",
       "753                                   0.0   \n",
       "881                                   0.0   \n",
       "916                                   0.0   \n",
       "917                                   0.0   \n",
       "929                                   0.0   \n",
       "945                                   0.0   \n",
       "1021                                  0.0   \n",
       "1032                                  0.0   \n",
       "\n",
       "      Onda_1_ate_nov2020_Onda_2_entre_nov_2020_e_dez2021 UF_COLETA  GENERO  \\\n",
       "24                                                  1.0         MT     1.0   \n",
       "35                                                  1.0         MT     2.0   \n",
       "50                                                  1.0         MT     2.0   \n",
       "298                                                 1.0         RS     2.0   \n",
       "299                                                 1.0         RS     2.0   \n",
       "336                                                 1.0         RJ     1.0   \n",
       "353                                                 1.0         RJ     2.0   \n",
       "379                                                 1.0         RJ     1.0   \n",
       "388                                                 1.0         RJ     1.0   \n",
       "450                                                 1.0         RJ     2.0   \n",
       "554                                                 1.0         PA     1.0   \n",
       "569                                                 1.0         PA     2.0   \n",
       "631                                                 1.0         PA     2.0   \n",
       "632                                                 1.0         PA     1.0   \n",
       "676                                                 1.0         PA     2.0   \n",
       "686                                                 1.0         PA     2.0   \n",
       "714                                                 1.0         PA     2.0   \n",
       "730                                                 1.0         PA     1.0   \n",
       "734                                                 1.0         PA     2.0   \n",
       "753                                                 1.0         PA     2.0   \n",
       "881                                                 1.0         MG     2.0   \n",
       "916                                                 2.0         MG     2.0   \n",
       "917                                                 2.0         MG     2.0   \n",
       "929                                                 2.0         MG     2.0   \n",
       "945                                                 2.0         MG     2.0   \n",
       "1021                                                1.0         GO     2.0   \n",
       "1032                                                1.0         SC     2.0   \n",
       "\n",
       "      IDADE_(anos)  ...    PC11    PC12    PC13    PC14    PC15    PC16  \\\n",
       "24       53.000000  ...  0.0038 -0.0024  0.0007 -0.0059 -0.0026  0.0126   \n",
       "35       36.000000  ...  0.0050 -0.0074  0.0023  0.0055  0.0009  0.0064   \n",
       "50       66.000000  ...  0.0000  0.0025  0.0048  0.0001 -0.0154 -0.0016   \n",
       "298      39.296372  ...  0.0056 -0.0015  0.0010 -0.0009 -0.0081 -0.0023   \n",
       "299      61.000000  ...  0.0046 -0.0004  0.0028  0.0013 -0.0045  0.0023   \n",
       "336      29.000000  ... -0.0031  0.0008  0.0006 -0.0035 -0.0045  0.0023   \n",
       "353      47.000000  ...  0.0131  0.0003 -0.0051 -0.0048 -0.0055  0.0104   \n",
       "379      31.000000  ...  0.0079  0.0026 -0.0036  0.0011 -0.0046 -0.0056   \n",
       "388      61.000000  ... -0.0014  0.0004  0.0020 -0.0020  0.0037 -0.0058   \n",
       "450      46.000000  ...  0.0026 -0.0053 -0.0056 -0.0079 -0.0043 -0.0075   \n",
       "554      38.000000  ...  0.0073  0.0055 -0.0039  0.0043 -0.0030  0.0199   \n",
       "569      28.000000  ... -0.0030 -0.0029 -0.0020 -0.0043 -0.0023  0.0136   \n",
       "631      26.000000  ...  0.0044 -0.0004  0.0013  0.0031 -0.0067  0.0052   \n",
       "632      33.000000  ... -0.0011  0.0027 -0.0016 -0.0066 -0.0003  0.0091   \n",
       "676      34.000000  ...  0.0036 -0.0010 -0.0015 -0.0028 -0.0009  0.0216   \n",
       "686      45.000000  ...  0.0004 -0.0013 -0.0032 -0.0034  0.0007  0.0191   \n",
       "714      27.000000  ... -0.0010 -0.0024  0.0000 -0.0002  0.0002  0.0113   \n",
       "730      57.000000  ...  0.0074 -0.0057  0.0005  0.0005 -0.0021  0.0071   \n",
       "734      54.000000  ...  0.0001 -0.0016  0.0006  0.0022 -0.0063  0.0169   \n",
       "753      54.000000  ...  0.0004  0.0036  0.0001  0.0023  0.0031  0.0089   \n",
       "881      21.000000  ... -0.0061 -0.0013  0.0084  0.0121 -0.0014  0.0054   \n",
       "916      25.000000  ... -0.0011 -0.0078  0.0018 -0.0026  0.0023  0.0036   \n",
       "917      32.000000  ...  0.0016  0.0019  0.0020 -0.0005 -0.0022 -0.0014   \n",
       "929      46.000000  ... -0.0022 -0.0027 -0.0010 -0.0004  0.0025 -0.0006   \n",
       "945      39.000000  ...  0.0091 -0.0027  0.0026 -0.0040  0.0019  0.0071   \n",
       "1021     37.000000  ... -0.0022  0.0013 -0.0009 -0.0015  0.0009  0.0058   \n",
       "1032     21.000000  ... -0.0027 -0.0055  0.0030 -0.0012  0.0013  0.0018   \n",
       "\n",
       "        PC17    PC18    PC19    PC20  \n",
       "24   -0.0020 -0.0027  0.0025  0.0104  \n",
       "35   -0.0013  0.0023 -0.0003 -0.0123  \n",
       "50   -0.0077 -0.0020  0.0010  0.0026  \n",
       "298  -0.0009 -0.0006  0.0058 -0.0021  \n",
       "299   0.0010 -0.0012  0.0029  0.0064  \n",
       "336  -0.0015 -0.0006 -0.0024 -0.0005  \n",
       "353  -0.0040 -0.0036  0.0001  0.0039  \n",
       "379   0.0026  0.0003 -0.0039 -0.0097  \n",
       "388  -0.0072  0.0081  0.0002  0.0002  \n",
       "450   0.0006 -0.0059  0.0040  0.0034  \n",
       "554   0.0123  0.0033  0.0125  0.0008  \n",
       "569   0.0082  0.0066  0.0079  0.0106  \n",
       "631   0.0085 -0.0075  0.0013 -0.0015  \n",
       "632   0.0017  0.0079  0.0055  0.0017  \n",
       "676   0.0160  0.0000  0.0056  0.0033  \n",
       "686   0.0048  0.0010  0.0130 -0.0003  \n",
       "714   0.0043 -0.0024  0.0082  0.0090  \n",
       "730   0.0056  0.0008  0.0054 -0.0022  \n",
       "734   0.0098 -0.0066  0.0082  0.0058  \n",
       "753   0.0059  0.0010 -0.0012  0.0101  \n",
       "881  -0.0005 -0.0022 -0.0100 -0.0065  \n",
       "916  -0.0066 -0.0035 -0.0086  0.0076  \n",
       "917  -0.0004  0.0015 -0.0013 -0.0002  \n",
       "929  -0.0058 -0.0031  0.0028 -0.0031  \n",
       "945  -0.0045  0.0060 -0.0033  0.0180  \n",
       "1021  0.0021  0.0057  0.0028 -0.0071  \n",
       "1032 -0.0063  0.0030  0.0083  0.0154  \n",
       "\n",
       "[27 rows x 54 columns]"
      ]
     },
     "execution_count": 5,
     "metadata": {},
     "output_type": "execute_result"
    }
   ],
   "source": [
    "sim = df.loc[df['TABAGISMO'] == 3]\n",
    "sim.loc[df['Classificacao_Covid']==2]"
   ]
  },
  {
   "cell_type": "code",
   "execution_count": 7,
   "metadata": {},
   "outputs": [
    {
     "data": {
      "image/png": "[encoded data removed]",
      "text/plain": [
       "<Figure size 1200x600 with 1 Axes>"
      ]
     },
     "metadata": {},
     "output_type": "display_data"
    },
    {
     "data": {
      "text/plain": [
       "<Figure size 640x480 with 0 Axes>"
      ]
     },
     "metadata": {},
     "output_type": "display_data"
    }
   ],
   "source": [
    "import pandas as pd\n",
    "import matplotlib.pyplot as plt\n",
    "import seaborn as sns\n",
    "\n",
    "def load_data(file_path, sheet_name):\n",
    "    return pd.read_excel(file_path, sheet_name=sheet_name)\n",
    "\n",
    "file_path = '/home/lucasf/Desktop/Visualizacaodedados/Casoxcontrole_onda-GWAS_Fenotipos_e_covariaveis_revisado_CONGELADO.xlsx'\n",
    "sheet_name = 'Completa'\n",
    "df = load_data(file_path, sheet_name)\n",
    "df = df.fillna(-1)\n",
    "\n",
    "# Filtrando fumantes e não fumantes\n",
    "fumantes = df.loc[df['TABAGISMO'] == 3]\n",
    "fumantes = fumantes.sort_values(by='Classificacao_Covid', ascending=True)\n",
    "\n",
    "nao_fumantes = df.loc[df['TABAGISMO'] == 2]\n",
    "nao_fumantes = nao_fumantes.sort_values(by='Classificacao_Covid', ascending=True)\n",
    "\n",
    "# Calculando a distribuição de Classificacao_Covid\n",
    "fumantes_dist = fumantes['Classificacao_Covid'].value_counts(normalize=True)\n",
    "nao_fumantes_dist = nao_fumantes['Classificacao_Covid'].value_counts(normalize=True)\n",
    "\n",
    "# Criando um DataFrame para visualização\n",
    "dist_df = pd.DataFrame({\n",
    "    'Fumantes': fumantes_dist,\n",
    "    'Não Fumantes': nao_fumantes_dist\n",
    "}).fillna(0)  # Preencher NaN com 0\n",
    "\n",
    "# Mapeamento das classificações para descrições\n",
    "classificacao_labels = {\n",
    "    1.0: 'Assintomático',\n",
    "    2.0: 'Leve',\n",
    "    3.0: 'Moderado',\n",
    "    4.0: 'Grave',\n",
    "    5.0: 'Crítico'\n",
    "}\n",
    "\n",
    "# Plotando os gráficos de barras normalizados\n",
    "ax = dist_df.plot(kind='bar', figsize=(12, 6))\n",
    "plt.title('Distribuição Normalizada de Classificacao_Covid entre Fumantes e Não Fumantes')\n",
    "plt.xlabel('Classificacao_Covid')\n",
    "plt.ylabel('Proporção')\n",
    "\n",
    "# Ajustando os rótulos do eixo X\n",
    "ax.set_xticklabels([classificacao_labels.get(float(label), label) for label in dist_df.index])\n",
    "\n",
    "plt.xticks(rotation=45)\n",
    "plt.legend(title='Grupo')\n",
    "plt.show()\n",
    "\n",
    "# Salvando o gráfico\n",
    "plt.savefig('/home/lucasf/Desktop/Visualizacaodedados/fumantes_vs_nivel_infeccao')\n"
   ]
  },
  {
   "cell_type": "code",
   "execution_count": 16,
   "metadata": {},
   "outputs": [
    {
     "data": {
      "application/vnd.plotly.v1+json": {
       "config": {
        "plotlyServerURL": "https://plot.ly"
       },
       "data": [
        {
         "line": {
          "color": "red"
         },
         "mode": "lines+markers",
         "name": "Fumantes",
         "type": "scatter",
         "x": [
          "Assintomático",
          "Leve",
          "Moderado",
          "Grave",
          "Crítico"
         ],
         "y": [
          0.07142857142857142,
          0.38571428571428573,
          0.15714285714285714,
          0.14285714285714285,
          0.24285714285714285
         ]
        },
        {
         "line": {
          "color": "blue"
         },
         "mode": "lines+markers",
         "name": "Não Fumantes",
         "type": "scatter",
         "x": [
          "Assintomático",
          "Leve",
          "Moderado",
          "Grave",
          "Crítico"
         ],
         "y": [
          0.0481203007518797,
          0.43007518796992483,
          0.18796992481203006,
          0.12030075187969924,
          0.21353383458646616
         ]
        }
       ],
       "layout": {
        "legend": {
         "title": {
          "text": "Grupo"
         }
        },
        "template": {
         "data": {
          "bar": [
           {
            "error_x": {
             "color": "#2a3f5f"
            },
            "error_y": {
             "color": "#2a3f5f"
            },
            "marker": {
             "line": {
              "color": "#E5ECF6",
              "width": 0.5
             },
             "pattern": {
              "fillmode": "overlay",
              "size": 10,
              "solidity": 0.2
             }
            },
            "type": "bar"
           }
          ],
          "barpolar": [
           {
            "marker": {
             "line": {
              "color": "#E5ECF6",
              "width": 0.5
             },
             "pattern": {
              "fillmode": "overlay",
              "size": 10,
              "solidity": 0.2
             }
            },
            "type": "barpolar"
           }
          ],
          "carpet": [
           {
            "aaxis": {
             "endlinecolor": "#2a3f5f",
             "gridcolor": "white",
             "linecolor": "white",
             "minorgridcolor": "white",
             "startlinecolor": "#2a3f5f"
            },
            "baxis": {
             "endlinecolor": "#2a3f5f",
             "gridcolor": "white",
             "linecolor": "white",
             "minorgridcolor": "white",
             "startlinecolor": "#2a3f5f"
            },
            "type": "carpet"
           }
          ],
          "choropleth": [
           {
            "colorbar": {
             "outlinewidth": 0,
             "ticks": ""
            },
            "type": "choropleth"
           }
          ],
          "contour": [
           {
            "colorbar": {
             "outlinewidth": 0,
             "ticks": ""
            },
            "colorscale": [
             [
              0,
              "#0d0887"
             ],
             [
              0.1111111111111111,
              "#46039f"
             ],
             [
              0.2222222222222222,
              "#7201a8"
             ],
             [
              0.3333333333333333,
              "#9c179e"
             ],
             [
              0.4444444444444444,
              "#bd3786"
             ],
             [
              0.5555555555555556,
              "#d8576b"
             ],
             [
              0.6666666666666666,
              "#ed7953"
             ],
             [
              0.7777777777777778,
              "#fb9f3a"
             ],
             [
              0.8888888888888888,
              "#fdca26"
             ],
             [
              1,
              "#f0f921"
             ]
            ],
            "type": "contour"
           }
          ],
          "contourcarpet": [
           {
            "colorbar": {
             "outlinewidth": 0,
             "ticks": ""
            },
            "type": "contourcarpet"
           }
          ],
          "heatmap": [
           {
            "colorbar": {
             "outlinewidth": 0,
             "ticks": ""
            },
            "colorscale": [
             [
              0,
              "#0d0887"
             ],
             [
              0.1111111111111111,
              "#46039f"
             ],
             [
              0.2222222222222222,
              "#7201a8"
             ],
             [
              0.3333333333333333,
              "#9c179e"
             ],
             [
              0.4444444444444444,
              "#bd3786"
             ],
             [
              0.5555555555555556,
              "#d8576b"
             ],
             [
              0.6666666666666666,
              "#ed7953"
             ],
             [
              0.7777777777777778,
              "#fb9f3a"
             ],
             [
              0.8888888888888888,
              "#fdca26"
             ],
             [
              1,
              "#f0f921"
             ]
            ],
            "type": "heatmap"
           }
          ],
          "heatmapgl": [
           {
            "colorbar": {
             "outlinewidth": 0,
             "ticks": ""
            },
            "colorscale": [
             [
              0,
              "#0d0887"
             ],
             [
              0.1111111111111111,
              "#46039f"
             ],
             [
              0.2222222222222222,
              "#7201a8"
             ],
             [
              0.3333333333333333,
              "#9c179e"
             ],
             [
              0.4444444444444444,
              "#bd3786"
             ],
             [
              0.5555555555555556,
              "#d8576b"
             ],
             [
              0.6666666666666666,
              "#ed7953"
             ],
             [
              0.7777777777777778,
              "#fb9f3a"
             ],
             [
              0.8888888888888888,
              "#fdca26"
             ],
             [
              1,
              "#f0f921"
             ]
            ],
            "type": "heatmapgl"
           }
          ],
          "histogram": [
           {
            "marker": {
             "pattern": {
              "fillmode": "overlay",
              "size": 10,
              "solidity": 0.2
             }
            },
            "type": "histogram"
           }
          ],
          "histogram2d": [
           {
            "colorbar": {
             "outlinewidth": 0,
             "ticks": ""
            },
            "colorscale": [
             [
              0,
              "#0d0887"
             ],
             [
              0.1111111111111111,
              "#46039f"
             ],
             [
              0.2222222222222222,
              "#7201a8"
             ],
             [
              0.3333333333333333,
              "#9c179e"
             ],
             [
              0.4444444444444444,
              "#bd3786"
             ],
             [
              0.5555555555555556,
              "#d8576b"
             ],
             [
              0.6666666666666666,
              "#ed7953"
             ],
             [
              0.7777777777777778,
              "#fb9f3a"
             ],
             [
              0.8888888888888888,
              "#fdca26"
             ],
             [
              1,
              "#f0f921"
             ]
            ],
            "type": "histogram2d"
           }
          ],
          "histogram2dcontour": [
           {
            "colorbar": {
             "outlinewidth": 0,
             "ticks": ""
            },
            "colorscale": [
             [
              0,
              "#0d0887"
             ],
             [
              0.1111111111111111,
              "#46039f"
             ],
             [
              0.2222222222222222,
              "#7201a8"
             ],
             [
              0.3333333333333333,
              "#9c179e"
             ],
             [
              0.4444444444444444,
              "#bd3786"
             ],
             [
              0.5555555555555556,
              "#d8576b"
             ],
             [
              0.6666666666666666,
              "#ed7953"
             ],
             [
              0.7777777777777778,
              "#fb9f3a"
             ],
             [
              0.8888888888888888,
              "#fdca26"
             ],
             [
              1,
              "#f0f921"
             ]
            ],
            "type": "histogram2dcontour"
           }
          ],
          "mesh3d": [
           {
            "colorbar": {
             "outlinewidth": 0,
             "ticks": ""
            },
            "type": "mesh3d"
           }
          ],
          "parcoords": [
           {
            "line": {
             "colorbar": {
              "outlinewidth": 0,
              "ticks": ""
             }
            },
            "type": "parcoords"
           }
          ],
          "pie": [
           {
            "automargin": true,
            "type": "pie"
           }
          ],
          "scatter": [
           {
            "fillpattern": {
             "fillmode": "overlay",
             "size": 10,
             "solidity": 0.2
            },
            "type": "scatter"
           }
          ],
          "scatter3d": [
           {
            "line": {
             "colorbar": {
              "outlinewidth": 0,
              "ticks": ""
             }
            },
            "marker": {
             "colorbar": {
              "outlinewidth": 0,
              "ticks": ""
             }
            },
            "type": "scatter3d"
           }
          ],
          "scattercarpet": [
           {
            "marker": {
             "colorbar": {
              "outlinewidth": 0,
              "ticks": ""
             }
            },
            "type": "scattercarpet"
           }
          ],
          "scattergeo": [
           {
            "marker": {
             "colorbar": {
              "outlinewidth": 0,
              "ticks": ""
             }
            },
            "type": "scattergeo"
           }
          ],
          "scattergl": [
           {
            "marker": {
             "colorbar": {
              "outlinewidth": 0,
              "ticks": ""
             }
            },
            "type": "scattergl"
           }
          ],
          "scattermapbox": [
           {
            "marker": {
             "colorbar": {
              "outlinewidth": 0,
              "ticks": ""
             }
            },
            "type": "scattermapbox"
           }
          ],
          "scatterpolar": [
           {
            "marker": {
             "colorbar": {
              "outlinewidth": 0,
              "ticks": ""
             }
            },
            "type": "scatterpolar"
           }
          ],
          "scatterpolargl": [
           {
            "marker": {
             "colorbar": {
              "outlinewidth": 0,
              "ticks": ""
             }
            },
            "type": "scatterpolargl"
           }
          ],
          "scatterternary": [
           {
            "marker": {
             "colorbar": {
              "outlinewidth": 0,
              "ticks": ""
             }
            },
            "type": "scatterternary"
           }
          ],
          "surface": [
           {
            "colorbar": {
             "outlinewidth": 0,
             "ticks": ""
            },
            "colorscale": [
             [
              0,
              "#0d0887"
             ],
             [
              0.1111111111111111,
              "#46039f"
             ],
             [
              0.2222222222222222,
              "#7201a8"
             ],
             [
              0.3333333333333333,
              "#9c179e"
             ],
             [
              0.4444444444444444,
              "#bd3786"
             ],
             [
              0.5555555555555556,
              "#d8576b"
             ],
             [
              0.6666666666666666,
              "#ed7953"
             ],
             [
              0.7777777777777778,
              "#fb9f3a"
             ],
             [
              0.8888888888888888,
              "#fdca26"
             ],
             [
              1,
              "#f0f921"
             ]
            ],
            "type": "surface"
           }
          ],
          "table": [
           {
            "cells": {
             "fill": {
              "color": "#EBF0F8"
             },
             "line": {
              "color": "white"
             }
            },
            "header": {
             "fill": {
              "color": "#C8D4E3"
             },
             "line": {
              "color": "white"
             }
            },
            "type": "table"
           }
          ]
         },
         "layout": {
          "annotationdefaults": {
           "arrowcolor": "#2a3f5f",
           "arrowhead": 0,
           "arrowwidth": 1
          },
          "autotypenumbers": "strict",
          "coloraxis": {
           "colorbar": {
            "outlinewidth": 0,
            "ticks": ""
           }
          },
          "colorscale": {
           "diverging": [
            [
             0,
             "#8e0152"
            ],
            [
             0.1,
             "#c51b7d"
            ],
            [
             0.2,
             "#de77ae"
            ],
            [
             0.3,
             "#f1b6da"
            ],
            [
             0.4,
             "#fde0ef"
            ],
            [
             0.5,
             "#f7f7f7"
            ],
            [
             0.6,
             "#e6f5d0"
            ],
            [
             0.7,
             "#b8e186"
            ],
            [
             0.8,
             "#7fbc41"
            ],
            [
             0.9,
             "#4d9221"
            ],
            [
             1,
             "#276419"
            ]
           ],
           "sequential": [
            [
             0,
             "#0d0887"
            ],
            [
             0.1111111111111111,
             "#46039f"
            ],
            [
             0.2222222222222222,
             "#7201a8"
            ],
            [
             0.3333333333333333,
             "#9c179e"
            ],
            [
             0.4444444444444444,
             "#bd3786"
            ],
            [
             0.5555555555555556,
             "#d8576b"
            ],
            [
             0.6666666666666666,
             "#ed7953"
            ],
            [
             0.7777777777777778,
             "#fb9f3a"
            ],
            [
             0.8888888888888888,
             "#fdca26"
            ],
            [
             1,
             "#f0f921"
            ]
           ],
           "sequentialminus": [
            [
             0,
             "#0d0887"
            ],
            [
             0.1111111111111111,
             "#46039f"
            ],
            [
             0.2222222222222222,
             "#7201a8"
            ],
            [
             0.3333333333333333,
             "#9c179e"
            ],
            [
             0.4444444444444444,
             "#bd3786"
            ],
            [
             0.5555555555555556,
             "#d8576b"
            ],
            [
             0.6666666666666666,
             "#ed7953"
            ],
            [
             0.7777777777777778,
             "#fb9f3a"
            ],
            [
             0.8888888888888888,
             "#fdca26"
            ],
            [
             1,
             "#f0f921"
            ]
           ]
          },
          "colorway": [
           "#636efa",
           "#EF553B",
           "#00cc96",
           "#ab63fa",
           "#FFA15A",
           "#19d3f3",
           "#FF6692",
           "#B6E880",
           "#FF97FF",
           "#FECB52"
          ],
          "font": {
           "color": "#2a3f5f"
          },
          "geo": {
           "bgcolor": "white",
           "lakecolor": "white",
           "landcolor": "#E5ECF6",
           "showlakes": true,
           "showland": true,
           "subunitcolor": "white"
          },
          "hoverlabel": {
           "align": "left"
          },
          "hovermode": "closest",
          "mapbox": {
           "style": "light"
          },
          "paper_bgcolor": "white",
          "plot_bgcolor": "#E5ECF6",
          "polar": {
           "angularaxis": {
            "gridcolor": "white",
            "linecolor": "white",
            "ticks": ""
           },
           "bgcolor": "#E5ECF6",
           "radialaxis": {
            "gridcolor": "white",
            "linecolor": "white",
            "ticks": ""
           }
          },
          "scene": {
           "xaxis": {
            "backgroundcolor": "#E5ECF6",
            "gridcolor": "white",
            "gridwidth": 2,
            "linecolor": "white",
            "showbackground": true,
            "ticks": "",
            "zerolinecolor": "white"
           },
           "yaxis": {
            "backgroundcolor": "#E5ECF6",
            "gridcolor": "white",
            "gridwidth": 2,
            "linecolor": "white",
            "showbackground": true,
            "ticks": "",
            "zerolinecolor": "white"
           },
           "zaxis": {
            "backgroundcolor": "#E5ECF6",
            "gridcolor": "white",
            "gridwidth": 2,
            "linecolor": "white",
            "showbackground": true,
            "ticks": "",
            "zerolinecolor": "white"
           }
          },
          "shapedefaults": {
           "line": {
            "color": "#2a3f5f"
           }
          },
          "ternary": {
           "aaxis": {
            "gridcolor": "white",
            "linecolor": "white",
            "ticks": ""
           },
           "baxis": {
            "gridcolor": "white",
            "linecolor": "white",
            "ticks": ""
           },
           "bgcolor": "#E5ECF6",
           "caxis": {
            "gridcolor": "white",
            "linecolor": "white",
            "ticks": ""
           }
          },
          "title": {
           "x": 0.05
          },
          "xaxis": {
           "automargin": true,
           "gridcolor": "white",
           "linecolor": "white",
           "ticks": "",
           "title": {
            "standoff": 15
           },
           "zerolinecolor": "white",
           "zerolinewidth": 2
          },
          "yaxis": {
           "automargin": true,
           "gridcolor": "white",
           "linecolor": "white",
           "ticks": "",
           "title": {
            "standoff": 15
           },
           "zerolinecolor": "white",
           "zerolinewidth": 2
          }
         }
        },
        "title": {
         "text": "Distribuição Normalizada de Classificacao_Covid entre Fumantes e Não Fumantes"
        },
        "xaxis": {
         "tickmode": "array",
         "ticktext": [
          "Assintomático",
          "Leve",
          "Moderado",
          "Grave",
          "Crítico"
         ],
         "tickvals": [
          "Assintomático",
          "Leve",
          "Moderado",
          "Grave",
          "Crítico"
         ],
         "title": {
          "text": "Classificacao_Covid"
         }
        },
        "yaxis": {
         "title": {
          "text": "Proporção"
         }
        }
       }
      }
     },
     "metadata": {},
     "output_type": "display_data"
    }
   ],
   "source": [
    "import pandas as pd\n",
    "import plotly.graph_objects as go\n",
    "\n",
    "def load_data(file_path, sheet_name):\n",
    "    return pd.read_excel(file_path, sheet_name=sheet_name)\n",
    "\n",
    "file_path = '/home/lucasf/Desktop/Visualizacaodedados/Casoxcontrole_onda-GWAS_Fenotipos_e_covariaveis_revisado_CONGELADO.xlsx'\n",
    "sheet_name = 'Completa'\n",
    "df = load_data(file_path, sheet_name)\n",
    "df = df.fillna(-1)\n",
    "\n",
    "fumantes = df.loc[df['TABAGISMO'] == 3]\n",
    "fumantes = fumantes.sort_values(by='Classificacao_Covid', ascending=True)\n",
    "\n",
    "nao_fumantes = df.loc[df['TABAGISMO'] == 2]\n",
    "nao_fumantes = nao_fumantes.sort_values(by='Classificacao_Covid', ascending=True)\n",
    "\n",
    "\n",
    "fumantes_dist = fumantes['Classificacao_Covid'].value_counts(normalize=True)\n",
    "nao_fumantes_dist = nao_fumantes['Classificacao_Covid'].value_counts(normalize=True)\n",
    "\n",
    "\n",
    "dist_df = pd.DataFrame({\n",
    "    'Fumantes': fumantes_dist,\n",
    "    'Não Fumantes': nao_fumantes_dist\n",
    "}).fillna(0)  # Preencher NaN com 0\n",
    "\n",
    "\n",
    "classificacao_labels = {\n",
    "    1.0: 'Assintomático',\n",
    "    2.0: 'Leve',\n",
    "    3.0: 'Moderado',\n",
    "    4.0: 'Grave',\n",
    "    5.0: 'Crítico'\n",
    "}\n",
    "\n",
    "dist_df = dist_df.reindex([1.0, 2.0, 3.0, 4.0, 5.0])\n",
    "\n",
    "\n",
    "fig = go.Figure()\n",
    "\n",
    "\n",
    "fig.add_trace(go.Scatter(\n",
    "    x=[classificacao_labels[label] for label in dist_df.index],\n",
    "    y=dist_df['Fumantes'],\n",
    "    mode='lines+markers',\n",
    "    name='Fumantes',\n",
    "    line=dict(color='red')\n",
    "))\n",
    "\n",
    "\n",
    "fig.add_trace(go.Scatter(\n",
    "    x=[classificacao_labels[label] for label in dist_df.index],\n",
    "    y=dist_df['Não Fumantes'],\n",
    "    mode='lines+markers',\n",
    "    name='Não Fumantes',\n",
    "    line=dict(color='blue')\n",
    "))\n",
    "\n",
    "\n",
    "fig.update_layout(\n",
    "    title='Distribuição Normalizada de Classificacao_Covid entre Fumantes e Não Fumantes',\n",
    "    xaxis_title='Classificacao_Covid',\n",
    "    yaxis_title='Proporção',\n",
    "    xaxis=dict(\n",
    "        tickmode='array',\n",
    "        tickvals=[classificacao_labels[label] for label in dist_df.index],\n",
    "        ticktext=[classificacao_labels[label] for label in dist_df.index]\n",
    "    ),\n",
    "    legend_title='Grupo'\n",
    ")\n",
    "\n",
    "\n",
    "fig.write_html('/home/lucasf/Desktop/Visualizacaodedados/fumantes_vs_nivel_infeccao_interativo.html')\n",
    "\n",
    "\n",
    "fig.show()\n"
   ]
  },
  {
   "cell_type": "code",
   "execution_count": 33,
   "metadata": {},
   "outputs": [
    {
     "data": {
      "text/plain": [
       "MEDICACAO_CRONICA\n",
       " 1.0    0.426492\n",
       " 2.0    0.314410\n",
       "-1.0    0.259098\n",
       "Name: proportion, dtype: float64"
      ]
     },
     "execution_count": 33,
     "metadata": {},
     "output_type": "execute_result"
    }
   ],
   "source": [
    "import pandas as pd\n",
    "import plotly.graph_objects as go\n",
    "\n",
    "def load_data(file_path, sheet_name):\n",
    "    return pd.read_excel(file_path, sheet_name=sheet_name)\n",
    "\n",
    "file_path = '/home/lucasf/Desktop/Visualizacaodedados/Casoxcontrole_onda-GWAS_Fenotipos_e_covariaveis_revisado_CONGELADO.xlsx'\n",
    "sheet_name = 'Completa'\n",
    "df = load_data(file_path, sheet_name)\n",
    "df = df.fillna(-1)\n",
    "\n",
    "curado = df.loc[df['EVOLUCAO/_DESFECHO'] == 2]\n",
    "fumantes = fumantes.sort_values(by='MEDICACAO_CRONICA', ascending=True)\n",
    "\n",
    "falecimento = df.loc[df['EVOLUCAO/_DESFECHO'] == 4]\n",
    "nao_fumantes = nao_fumantes.sort_values(by='MEDICACAO_CRONICA', ascending=True)\n",
    "\n",
    "fumantes_dist = fumantes['MEDICACAO_CRONICA'].value_counts(normalize=True)\n",
    "nao_fumantes_dist = nao_fumantes['MEDICACAO_CRONICA'].value_counts(normalize=True)\n",
    "\n"
   ]
  },
  {
   "cell_type": "code",
   "execution_count": 37,
   "metadata": {},
   "outputs": [
    {
     "name": "stderr",
     "output_type": "stream",
     "text": [
      "/tmp/ipykernel_335868/621347050.py:18: SettingWithCopyWarning:\n",
      "\n",
      "\n",
      "A value is trying to be set on a copy of a slice from a DataFrame.\n",
      "Try using .loc[row_indexer,col_indexer] = value instead\n",
      "\n",
      "See the caveats in the documentation: https://pandas.pydata.org/pandas-docs/stable/user_guide/indexing.html#returning-a-view-versus-a-copy\n",
      "\n",
      "/tmp/ipykernel_335868/621347050.py:19: SettingWithCopyWarning:\n",
      "\n",
      "\n",
      "A value is trying to be set on a copy of a slice from a DataFrame.\n",
      "Try using .loc[row_indexer,col_indexer] = value instead\n",
      "\n",
      "See the caveats in the documentation: https://pandas.pydata.org/pandas-docs/stable/user_guide/indexing.html#returning-a-view-versus-a-copy\n",
      "\n"
     ]
    },
    {
     "data": {
      "application/vnd.plotly.v1+json": {
       "config": {
        "plotlyServerURL": "https://plot.ly"
       },
       "data": [
        {
         "mode": "lines+markers",
         "name": "Curado",
         "type": "scatter",
         "x": [
          "Faz_uso_de_medicacao",
          "Nao_faz_uso_de_medicacao",
          "Nao_informado"
         ],
         "y": [
          0.314410480349345,
          0.4264919941775837,
          0.2590975254730713
         ]
        },
        {
         "mode": "lines+markers",
         "name": "Falecimento",
         "type": "scatter",
         "x": [
          "Faz_uso_de_medicacao",
          "Nao_faz_uso_de_medicacao",
          "Nao_informado"
         ],
         "y": [
          0.06787330316742081,
          0.5701357466063348,
          0.36199095022624433
         ]
        }
       ],
       "layout": {
        "legend": {
         "traceorder": "normal",
         "x": 0,
         "y": 1
        },
        "template": {
         "data": {
          "bar": [
           {
            "error_x": {
             "color": "#2a3f5f"
            },
            "error_y": {
             "color": "#2a3f5f"
            },
            "marker": {
             "line": {
              "color": "#E5ECF6",
              "width": 0.5
             },
             "pattern": {
              "fillmode": "overlay",
              "size": 10,
              "solidity": 0.2
             }
            },
            "type": "bar"
           }
          ],
          "barpolar": [
           {
            "marker": {
             "line": {
              "color": "#E5ECF6",
              "width": 0.5
             },
             "pattern": {
              "fillmode": "overlay",
              "size": 10,
              "solidity": 0.2
             }
            },
            "type": "barpolar"
           }
          ],
          "carpet": [
           {
            "aaxis": {
             "endlinecolor": "#2a3f5f",
             "gridcolor": "white",
             "linecolor": "white",
             "minorgridcolor": "white",
             "startlinecolor": "#2a3f5f"
            },
            "baxis": {
             "endlinecolor": "#2a3f5f",
             "gridcolor": "white",
             "linecolor": "white",
             "minorgridcolor": "white",
             "startlinecolor": "#2a3f5f"
            },
            "type": "carpet"
           }
          ],
          "choropleth": [
           {
            "colorbar": {
             "outlinewidth": 0,
             "ticks": ""
            },
            "type": "choropleth"
           }
          ],
          "contour": [
           {
            "colorbar": {
             "outlinewidth": 0,
             "ticks": ""
            },
            "colorscale": [
             [
              0,
              "#0d0887"
             ],
             [
              0.1111111111111111,
              "#46039f"
             ],
             [
              0.2222222222222222,
              "#7201a8"
             ],
             [
              0.3333333333333333,
              "#9c179e"
             ],
             [
              0.4444444444444444,
              "#bd3786"
             ],
             [
              0.5555555555555556,
              "#d8576b"
             ],
             [
              0.6666666666666666,
              "#ed7953"
             ],
             [
              0.7777777777777778,
              "#fb9f3a"
             ],
             [
              0.8888888888888888,
              "#fdca26"
             ],
             [
              1,
              "#f0f921"
             ]
            ],
            "type": "contour"
           }
          ],
          "contourcarpet": [
           {
            "colorbar": {
             "outlinewidth": 0,
             "ticks": ""
            },
            "type": "contourcarpet"
           }
          ],
          "heatmap": [
           {
            "colorbar": {
             "outlinewidth": 0,
             "ticks": ""
            },
            "colorscale": [
             [
              0,
              "#0d0887"
             ],
             [
              0.1111111111111111,
              "#46039f"
             ],
             [
              0.2222222222222222,
              "#7201a8"
             ],
             [
              0.3333333333333333,
              "#9c179e"
             ],
             [
              0.4444444444444444,
              "#bd3786"
             ],
             [
              0.5555555555555556,
              "#d8576b"
             ],
             [
              0.6666666666666666,
              "#ed7953"
             ],
             [
              0.7777777777777778,
              "#fb9f3a"
             ],
             [
              0.8888888888888888,
              "#fdca26"
             ],
             [
              1,
              "#f0f921"
             ]
            ],
            "type": "heatmap"
           }
          ],
          "heatmapgl": [
           {
            "colorbar": {
             "outlinewidth": 0,
             "ticks": ""
            },
            "colorscale": [
             [
              0,
              "#0d0887"
             ],
             [
              0.1111111111111111,
              "#46039f"
             ],
             [
              0.2222222222222222,
              "#7201a8"
             ],
             [
              0.3333333333333333,
              "#9c179e"
             ],
             [
              0.4444444444444444,
              "#bd3786"
             ],
             [
              0.5555555555555556,
              "#d8576b"
             ],
             [
              0.6666666666666666,
              "#ed7953"
             ],
             [
              0.7777777777777778,
              "#fb9f3a"
             ],
             [
              0.8888888888888888,
              "#fdca26"
             ],
             [
              1,
              "#f0f921"
             ]
            ],
            "type": "heatmapgl"
           }
          ],
          "histogram": [
           {
            "marker": {
             "pattern": {
              "fillmode": "overlay",
              "size": 10,
              "solidity": 0.2
             }
            },
            "type": "histogram"
           }
          ],
          "histogram2d": [
           {
            "colorbar": {
             "outlinewidth": 0,
             "ticks": ""
            },
            "colorscale": [
             [
              0,
              "#0d0887"
             ],
             [
              0.1111111111111111,
              "#46039f"
             ],
             [
              0.2222222222222222,
              "#7201a8"
             ],
             [
              0.3333333333333333,
              "#9c179e"
             ],
             [
              0.4444444444444444,
              "#bd3786"
             ],
             [
              0.5555555555555556,
              "#d8576b"
             ],
             [
              0.6666666666666666,
              "#ed7953"
             ],
             [
              0.7777777777777778,
              "#fb9f3a"
             ],
             [
              0.8888888888888888,
              "#fdca26"
             ],
             [
              1,
              "#f0f921"
             ]
            ],
            "type": "histogram2d"
           }
          ],
          "histogram2dcontour": [
           {
            "colorbar": {
             "outlinewidth": 0,
             "ticks": ""
            },
            "colorscale": [
             [
              0,
              "#0d0887"
             ],
             [
              0.1111111111111111,
              "#46039f"
             ],
             [
              0.2222222222222222,
              "#7201a8"
             ],
             [
              0.3333333333333333,
              "#9c179e"
             ],
             [
              0.4444444444444444,
              "#bd3786"
             ],
             [
              0.5555555555555556,
              "#d8576b"
             ],
             [
              0.6666666666666666,
              "#ed7953"
             ],
             [
              0.7777777777777778,
              "#fb9f3a"
             ],
             [
              0.8888888888888888,
              "#fdca26"
             ],
             [
              1,
              "#f0f921"
             ]
            ],
            "type": "histogram2dcontour"
           }
          ],
          "mesh3d": [
           {
            "colorbar": {
             "outlinewidth": 0,
             "ticks": ""
            },
            "type": "mesh3d"
           }
          ],
          "parcoords": [
           {
            "line": {
             "colorbar": {
              "outlinewidth": 0,
              "ticks": ""
             }
            },
            "type": "parcoords"
           }
          ],
          "pie": [
           {
            "automargin": true,
            "type": "pie"
           }
          ],
          "scatter": [
           {
            "fillpattern": {
             "fillmode": "overlay",
             "size": 10,
             "solidity": 0.2
            },
            "type": "scatter"
           }
          ],
          "scatter3d": [
           {
            "line": {
             "colorbar": {
              "outlinewidth": 0,
              "ticks": ""
             }
            },
            "marker": {
             "colorbar": {
              "outlinewidth": 0,
              "ticks": ""
             }
            },
            "type": "scatter3d"
           }
          ],
          "scattercarpet": [
           {
            "marker": {
             "colorbar": {
              "outlinewidth": 0,
              "ticks": ""
             }
            },
            "type": "scattercarpet"
           }
          ],
          "scattergeo": [
           {
            "marker": {
             "colorbar": {
              "outlinewidth": 0,
              "ticks": ""
             }
            },
            "type": "scattergeo"
           }
          ],
          "scattergl": [
           {
            "marker": {
             "colorbar": {
              "outlinewidth": 0,
              "ticks": ""
             }
            },
            "type": "scattergl"
           }
          ],
          "scattermapbox": [
           {
            "marker": {
             "colorbar": {
              "outlinewidth": 0,
              "ticks": ""
             }
            },
            "type": "scattermapbox"
           }
          ],
          "scatterpolar": [
           {
            "marker": {
             "colorbar": {
              "outlinewidth": 0,
              "ticks": ""
             }
            },
            "type": "scatterpolar"
           }
          ],
          "scatterpolargl": [
           {
            "marker": {
             "colorbar": {
              "outlinewidth": 0,
              "ticks": ""
             }
            },
            "type": "scatterpolargl"
           }
          ],
          "scatterternary": [
           {
            "marker": {
             "colorbar": {
              "outlinewidth": 0,
              "ticks": ""
             }
            },
            "type": "scatterternary"
           }
          ],
          "surface": [
           {
            "colorbar": {
             "outlinewidth": 0,
             "ticks": ""
            },
            "colorscale": [
             [
              0,
              "#0d0887"
             ],
             [
              0.1111111111111111,
              "#46039f"
             ],
             [
              0.2222222222222222,
              "#7201a8"
             ],
             [
              0.3333333333333333,
              "#9c179e"
             ],
             [
              0.4444444444444444,
              "#bd3786"
             ],
             [
              0.5555555555555556,
              "#d8576b"
             ],
             [
              0.6666666666666666,
              "#ed7953"
             ],
             [
              0.7777777777777778,
              "#fb9f3a"
             ],
             [
              0.8888888888888888,
              "#fdca26"
             ],
             [
              1,
              "#f0f921"
             ]
            ],
            "type": "surface"
           }
          ],
          "table": [
           {
            "cells": {
             "fill": {
              "color": "#EBF0F8"
             },
             "line": {
              "color": "white"
             }
            },
            "header": {
             "fill": {
              "color": "#C8D4E3"
             },
             "line": {
              "color": "white"
             }
            },
            "type": "table"
           }
          ]
         },
         "layout": {
          "annotationdefaults": {
           "arrowcolor": "#2a3f5f",
           "arrowhead": 0,
           "arrowwidth": 1
          },
          "autotypenumbers": "strict",
          "coloraxis": {
           "colorbar": {
            "outlinewidth": 0,
            "ticks": ""
           }
          },
          "colorscale": {
           "diverging": [
            [
             0,
             "#8e0152"
            ],
            [
             0.1,
             "#c51b7d"
            ],
            [
             0.2,
             "#de77ae"
            ],
            [
             0.3,
             "#f1b6da"
            ],
            [
             0.4,
             "#fde0ef"
            ],
            [
             0.5,
             "#f7f7f7"
            ],
            [
             0.6,
             "#e6f5d0"
            ],
            [
             0.7,
             "#b8e186"
            ],
            [
             0.8,
             "#7fbc41"
            ],
            [
             0.9,
             "#4d9221"
            ],
            [
             1,
             "#276419"
            ]
           ],
           "sequential": [
            [
             0,
             "#0d0887"
            ],
            [
             0.1111111111111111,
             "#46039f"
            ],
            [
             0.2222222222222222,
             "#7201a8"
            ],
            [
             0.3333333333333333,
             "#9c179e"
            ],
            [
             0.4444444444444444,
             "#bd3786"
            ],
            [
             0.5555555555555556,
             "#d8576b"
            ],
            [
             0.6666666666666666,
             "#ed7953"
            ],
            [
             0.7777777777777778,
             "#fb9f3a"
            ],
            [
             0.8888888888888888,
             "#fdca26"
            ],
            [
             1,
             "#f0f921"
            ]
           ],
           "sequentialminus": [
            [
             0,
             "#0d0887"
            ],
            [
             0.1111111111111111,
             "#46039f"
            ],
            [
             0.2222222222222222,
             "#7201a8"
            ],
            [
             0.3333333333333333,
             "#9c179e"
            ],
            [
             0.4444444444444444,
             "#bd3786"
            ],
            [
             0.5555555555555556,
             "#d8576b"
            ],
            [
             0.6666666666666666,
             "#ed7953"
            ],
            [
             0.7777777777777778,
             "#fb9f3a"
            ],
            [
             0.8888888888888888,
             "#fdca26"
            ],
            [
             1,
             "#f0f921"
            ]
           ]
          },
          "colorway": [
           "#636efa",
           "#EF553B",
           "#00cc96",
           "#ab63fa",
           "#FFA15A",
           "#19d3f3",
           "#FF6692",
           "#B6E880",
           "#FF97FF",
           "#FECB52"
          ],
          "font": {
           "color": "#2a3f5f"
          },
          "geo": {
           "bgcolor": "white",
           "lakecolor": "white",
           "landcolor": "#E5ECF6",
           "showlakes": true,
           "showland": true,
           "subunitcolor": "white"
          },
          "hoverlabel": {
           "align": "left"
          },
          "hovermode": "closest",
          "mapbox": {
           "style": "light"
          },
          "paper_bgcolor": "white",
          "plot_bgcolor": "#E5ECF6",
          "polar": {
           "angularaxis": {
            "gridcolor": "white",
            "linecolor": "white",
            "ticks": ""
           },
           "bgcolor": "#E5ECF6",
           "radialaxis": {
            "gridcolor": "white",
            "linecolor": "white",
            "ticks": ""
           }
          },
          "scene": {
           "xaxis": {
            "backgroundcolor": "#E5ECF6",
            "gridcolor": "white",
            "gridwidth": 2,
            "linecolor": "white",
            "showbackground": true,
            "ticks": "",
            "zerolinecolor": "white"
           },
           "yaxis": {
            "backgroundcolor": "#E5ECF6",
            "gridcolor": "white",
            "gridwidth": 2,
            "linecolor": "white",
            "showbackground": true,
            "ticks": "",
            "zerolinecolor": "white"
           },
           "zaxis": {
            "backgroundcolor": "#E5ECF6",
            "gridcolor": "white",
            "gridwidth": 2,
            "linecolor": "white",
            "showbackground": true,
            "ticks": "",
            "zerolinecolor": "white"
           }
          },
          "shapedefaults": {
           "line": {
            "color": "#2a3f5f"
           }
          },
          "ternary": {
           "aaxis": {
            "gridcolor": "white",
            "linecolor": "white",
            "ticks": ""
           },
           "baxis": {
            "gridcolor": "white",
            "linecolor": "white",
            "ticks": ""
           },
           "bgcolor": "#E5ECF6",
           "caxis": {
            "gridcolor": "white",
            "linecolor": "white",
            "ticks": ""
           }
          },
          "title": {
           "x": 0.05
          },
          "xaxis": {
           "automargin": true,
           "gridcolor": "white",
           "linecolor": "white",
           "ticks": "",
           "title": {
            "standoff": 15
           },
           "zerolinecolor": "white",
           "zerolinewidth": 2
          },
          "yaxis": {
           "automargin": true,
           "gridcolor": "white",
           "linecolor": "white",
           "ticks": "",
           "title": {
            "standoff": 15
           },
           "zerolinecolor": "white",
           "zerolinewidth": 2
          }
         }
        },
        "title": {
         "text": "Distribuição de MEDICACAO_CRONICA entre Curados e Falecidos"
        },
        "xaxis": {
         "title": {
          "text": "MEDICACAO_CRONICA"
         }
        },
        "yaxis": {
         "title": {
          "text": "Proporção"
         }
        }
       }
      }
     },
     "metadata": {},
     "output_type": "display_data"
    }
   ],
   "source": [
    "import pandas as pd\n",
    "import plotly.graph_objects as go\n",
    "\n",
    "def load_data(file_path, sheet_name):\n",
    "    return pd.read_excel(file_path, sheet_name=sheet_name)\n",
    "\n",
    "file_path = '/home/lucasf/Desktop/Visualizacaodedados/Casoxcontrole_onda-GWAS_Fenotipos_e_covariaveis_revisado_CONGELADO.xlsx'\n",
    "sheet_name = 'Completa'\n",
    "df = load_data(file_path, sheet_name)\n",
    "df = df.fillna(-1)\n",
    "\n",
    "\n",
    "curado = df.loc[df['EVOLUCAO/_DESFECHO'] == 2]\n",
    "falecimento = df.loc[df['EVOLUCAO/_DESFECHO'] == 4]\n",
    "\n",
    "\n",
    "value_map = {-1: 'Nao_informado', 1: 'Nao_faz_uso_de_medicacao', 2: 'Faz_uso_de_medicacao'}\n",
    "curado['MEDICACAO_CRONICA'] = curado['MEDICACAO_CRONICA'].map(value_map)\n",
    "falecimento['MEDICACAO_CRONICA'] = falecimento['MEDICACAO_CRONICA'].map(value_map)\n",
    "\n",
    "curado_dist = curado['MEDICACAO_CRONICA'].value_counts(normalize=True).sort_index()\n",
    "falecimento_dist = falecimento['MEDICACAO_CRONICA'].value_counts(normalize=True).sort_index()\n",
    "fig = go.Figure()\n",
    "\n",
    "fig.add_trace(go.Scatter(x=curado_dist.index, y=curado_dist.values,\n",
    "                    mode='lines+markers',\n",
    "                    name='Curado'))\n",
    "\n",
    "fig.add_trace(go.Scatter(x=falecimento_dist.index, y=falecimento_dist.values,\n",
    "                    mode='lines+markers',\n",
    "                    name='Falecimento'))\n",
    "fig.update_layout(title='Distribuição de MEDICACAO_CRONICA entre Curados e Falecidos',\n",
    "                   xaxis_title='MEDICACAO_CRONICA',\n",
    "                   yaxis_title='Proporção',\n",
    "                   legend=dict(x=0, y=1, traceorder='normal'))\n",
    "fig.show()\n",
    "fig.write_html('/home/lucasf/Desktop/Visualizacaodedados/medicacao.html')\n"
   ]
  }
 ],
 "metadata": {
  "kernelspec": {
   "display_name": "Python 3",
   "language": "python",
   "name": "python3"
  },
  "language_info": {
   "codemirror_mode": {
    "name": "ipython",
    "version": 3
   },
   "file_extension": ".py",
   "mimetype": "text/x-python",
   "name": "python",
   "nbconvert_exporter": "python",
   "pygments_lexer": "ipython3",
   "version": "3.10.12"
  }
 },
 "nbformat": 4,
 "nbformat_minor": 2
}
